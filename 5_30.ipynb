{
  "cells": [
    {
      "cell_type": "code",
      "execution_count": null,
      "metadata": {
        "id": "uKP5fCp2QRui"
      },
      "outputs": [],
      "source": []
    },
    {
      "cell_type": "code",
      "execution_count": null,
      "metadata": {
        "id": "QEBO06RtM99v"
      },
      "outputs": [],
      "source": []
    },
    {
      "cell_type": "markdown",
      "metadata": {
        "id": "zprWZkE7sf0v"
      },
      "source": [
        "<a href=\"https://codeimmersives.com\"><img src = \"https://www.codeimmersives.com/wp-content/uploads/2019/09/CodeImmersives_Logo_RGB_NYC_BW.png\" width = 400> </a>\n",
        "\n",
        "\n",
        "<h1 align=center><font size = 5>Agenda</font></h1>"
      ]
    },
    {
      "cell_type": "markdown",
      "metadata": {
        "id": "gwiENNsvsf05"
      },
      "source": [
        "### \n",
        "<div class=\"alert alert-block alert-info\" style=\"margin-top: 20px\">\n",
        "\n",
        "1.  [Review](#0)<br>\n",
        "2.  [Covariance](#2)<br> \n",
        "3.  [Correlation](#4)<br>        \n",
        "4.  [Exercise 1](#12)<br> \n",
        "5.  [Exercise 2](#14)<br>\n",
        "6.  [Exercise 3](#16)<br>    \n",
        "</div>\n",
        "<hr>"
      ]
    },
    {
      "cell_type": "markdown",
      "metadata": {
        "id": "g7mVFbVpsf05"
      },
      "source": [
        "<h2>Exercise</h2>\n",
        "You have the following list:<br>\n",
        "<code>\n",
        "product_numbers = ['AS-500','TR-700','TR-800','TR-100','AX-131','AX-232','AL-3400','TR-300']\n",
        "</code><br>\n",
        "You need to process the product_numbers as a batch process but all of the<br>\n",
        "processes that start with 'TR' need to be run first.  Arrange the list so that<br>\n",
        "they are in the beginning of the list.<br>"
      ]
    },
    {
      "cell_type": "markdown",
      "metadata": {
        "id": "nzGipyvgsf06"
      },
      "source": [
        "<h4>Solution</h4>"
      ]
    },
    {
      "cell_type": "code",
      "execution_count": 1,
      "metadata": {
        "id": "fvb3_Exzsf06"
      },
      "outputs": [],
      "source": [
        "product_numbers = ['AS-500','TR-700','TR-800','TR-100','AX-131','AX-232','AL-3400','TR-300']"
      ]
    },
    {
      "cell_type": "code",
      "execution_count": 4,
      "metadata": {},
      "outputs": [
        {
          "name": "stdout",
          "output_type": "stream",
          "text": [
            "['TR-700', 'TR-800', 'TR-100', 'TR-300']\n",
            "['AS-500', 'AX-131', 'AX-232', 'AL-3400']\n",
            "['TR-700', 'TR-800', 'TR-100', 'TR-300', 'AS-500', 'AX-131', 'AX-232', 'AL-3400']\n"
          ]
        }
      ],
      "source": [
        "tr_products = [product for product in product_numbers if product.startswith('TR')]\n",
        "print(tr_products)\n",
        "\n",
        "not_tr_products = [product for product in product_numbers if not product.startswith('TR')]\n",
        "print(not_tr_products)\n",
        "\n",
        "sorted_products = tr_products + not_tr_products\n",
        "print(sorted_products)"
      ]
    },
    {
      "cell_type": "markdown",
      "metadata": {
        "id": "3DFTdTjWsf08"
      },
      "source": [
        "<h2>Exercise</h2>\n",
        "You have the following data structure:<br>\n",
        "<code>\n",
        "processes = [{'command':'docker build -t python101:1.0'},\n",
        "             'Reboot server',\n",
        "             'Data cleaning',\n",
        "             {'command': 'git stash','server':'mid west'}]\n",
        "</code><br>\n",
        "How do you execute the process that contains the command - 'git stash' first?<br>"
      ]
    },
    {
      "cell_type": "markdown",
      "metadata": {
        "id": "HPOFkj-4sf08"
      },
      "source": [
        "<h4>Solution</h4>"
      ]
    },
    {
      "cell_type": "code",
      "execution_count": 14,
      "metadata": {
        "id": "x6cRMJF6sf09"
      },
      "outputs": [],
      "source": [
        "processes = [{'command':'docker build -t python101:1.0'},\n",
        "             'Reboot server',\n",
        "             'Data cleaning',\n",
        "             {'command': 'git stash','server':'mid west'}]"
      ]
    },
    {
      "cell_type": "code",
      "execution_count": 9,
      "metadata": {},
      "outputs": [
        {
          "name": "stdout",
          "output_type": "stream",
          "text": [
            "[{'command': 'git stash', 'server': 'mid west'}, {'command': 'docker build -t python101:1.0'}, 'Reboot server', 'Data cleaning']\n"
          ]
        }
      ],
      "source": [
        "git_stash_process = None\n",
        "\n",
        "for process in processes:\n",
        "    if isinstance(process, dict) and 'command' in process and process['command'] == 'git stash':\n",
        "        git_stash_process = process\n",
        "        break\n",
        "\n",
        "if git_stash_process:\n",
        "    processes.remove(git_stash_process)\n",
        "    processes.insert(0, git_stash_process)\n",
        "\n",
        "print(processes)\n"
      ]
    },
    {
      "cell_type": "markdown",
      "metadata": {
        "id": "t6k-LPLMsf0_"
      },
      "source": [
        "<h2>Object Oriented Programming</h2>"
      ]
    },
    {
      "cell_type": "markdown",
      "metadata": {
        "id": "_JIKJ202sf0_"
      },
      "source": [
        "<h4>Static Methods</h4>\n",
        "A static method is a method that is part of the class but does<br>\n",
        "not use the self reference and can be called outside of the class structure.<br>\n",
        "The decoratored method could be a regular function but due to its relationship<br>\n",
        "with the other methods it is included in the class."
      ]
    },
    {
      "cell_type": "markdown",
      "metadata": {
        "id": "QMtv8Cblsf1A"
      },
      "source": [
        "<h4>Class Methods</h4>\n",
        "Class methods don't need a class instance. They can't access the instance ( self ) but they <br>\n",
        "have access to the class itself via cls "
      ]
    },
    {
      "attachments": {},
      "cell_type": "markdown",
      "metadata": {
        "id": "HSqouig8sf1A"
      },
      "source": [
        "<h2>Exercise</h2>\n",
        "Create a class called Geometry.  The class should include the following:<br>\n",
        "1 - constructor that takes up to 4 arguments for shape type, side 1, side 2, side 3<br>\n",
        "2 - class method for calc_perimeter<br>\n",
        "3 - class method for calc_area<br>\n",
        "4 - The shape types are: C for Circle, T for Triangle, R for Rectangle<br>\n"
      ]
    },
    {
      "cell_type": "code",
      "execution_count": 24,
      "metadata": {
        "id": "MN_v6Ow7sf1A"
      },
      "outputs": [
        {
          "name": "stdout",
          "output_type": "stream",
          "text": [
            "===== Triangle =====\n",
            "Perimeter: 12\n",
            "Area: 6.0\n",
            "===== Rectangle =====\n",
            "Perimeter: 14\n",
            "Area: 12\n",
            "===== Circle =====\n",
            "Perimeter: 18.84955592153876\n",
            "Area: 28.274333882308138\n"
          ]
        }
      ],
      "source": [
        "import math\n",
        "\n",
        "class Geometry():\n",
        "\n",
        "    #1 - constructor that takes up to 4 arguments for shape type, side 1, side 2, side 3\n",
        "    def __init__(self,shape,side_1,side_2,side_3):\n",
        "        self.shape = shape\n",
        "        self.side_1 = side_1\n",
        "        self.side_2 = side_2\n",
        "        self.side_3 = side_3\n",
        "        res = 0\n",
        "\n",
        "    #2 - class method to calculate perimeter of a given shape\n",
        "    def calc_perimeter(self):\n",
        "        if self.shape == 'T':\n",
        "            res = self.side_1 + self.side_2 + self.side_3\n",
        "        elif self.shape == 'R':\n",
        "            res = 2*(self.side_1 + self.side_2)\n",
        "        elif self.shape == 'C':\n",
        "            res = 2*math.pi*self.side_1\n",
        "        return res\n",
        "    \n",
        "    #3 - class method to calculate area of a given shape\n",
        "    def calc_area(self):\n",
        "        if self.shape == 'T':\n",
        "            res = self.side_1*self.side_2/2\n",
        "        elif self.shape == 'R':\n",
        "            res = self.side_1*self.side_2\n",
        "        elif self.shape == 'C':\n",
        "            res = math.pi*self.side_1**2\n",
        "        return res\n",
        "    \n",
        "\n",
        "triangle = Geometry('T', 3, 4, 5)\n",
        "print(\"===== Triangle =====\")\n",
        "print(f'Perimeter: {triangle.calc_perimeter()}')\n",
        "print(f'Area: {triangle.calc_area()}')\n",
        "\n",
        "rectangle = Geometry('R', 3, 4, 5)\n",
        "print(\"===== Rectangle =====\")\n",
        "print(f'Perimeter: {rectangle.calc_perimeter()}')\n",
        "print(f'Area: {rectangle.calc_area()}')\n",
        "\n",
        "circle = Geometry('C', 3, 4, 5)\n",
        "print(\"===== Circle =====\")\n",
        "print(f'Perimeter: {circle.calc_perimeter()}')\n",
        "print(f'Area: {circle.calc_area()}')\n",
        "\n",
        "    "
      ]
    },
    {
      "cell_type": "markdown",
      "metadata": {
        "id": "3cxt5MrWsf0-"
      },
      "source": [
        "<h2>Covariance</h2>\n",
        "Covariance is the measure of the directional relationship between two random variables<br><br>\n",
        "$\\sum_{i=1}^{n} (X_i - meanX)(Y_i - meanY)$/(n-1)<br><br>\n",
        "Where X is the first list of data and Y is the second list. <br><br>\n",
        "Covariance values are not standardized. Therefore, the covariance can range from negative infinity to positive infinity. Thus, the value for a perfect linear relationship depends on the data. Because the data are not standardized, it is difficult to determine the strength of the relationship between the variables."
      ]
    },
    {
      "cell_type": "markdown",
      "metadata": {
        "id": "f-pT_xf7sf0-"
      },
      "source": [
        "For example.  If we measured the temperate on 7 consecutive summer days and<br>\n",
        "also measure ice_cream_sales for the same 7 consecutive days.  The covariance will<br>\n",
        "measure the direction of the relationship between the 2 lists.<br>\n",
        "<code>\n",
        "temperatures = [89, 93, 77, 79, 93, 95, 94]\n",
        "icecream_sales = [20000, 25000, 16000, 18000, 21000, 24000, 23000]\n",
        "</code>"
      ]
    },
    {
      "cell_type": "markdown",
      "metadata": {
        "id": "1ccsT770tQWC"
      },
      "source": [
        "1) Take the means of X (temp) and Y (ice cream sales)\n",
        "2) Take the differences of each element from the mean of the respective list for X and Y\n",
        "3) Multiply the differences and sum over all elements in the differences list\n",
        "4) Divide by all elements "
      ]
    },
    {
      "cell_type": "markdown",
      "metadata": {
        "id": "ZjCLgIrLsf0-"
      },
      "source": [
        "<h4>Solution</h4>"
      ]
    },
    {
      "cell_type": "code",
      "execution_count": 26,
      "metadata": {},
      "outputs": [],
      "source": [
        "# temperatures\n",
        "x = [89, 93, 77, 79, 93, 95, 94] \n",
        "# ice cream sales\n",
        "y = [20000, 25000, 16000, 18000, 21000, 24000, 23000] "
      ]
    },
    {
      "cell_type": "code",
      "execution_count": 27,
      "metadata": {
        "colab": {
          "base_uri": "https://localhost:8080/"
        },
        "id": "EwdvPbnKsf0_",
        "outputId": "3dda876b-e019-434b-9660-90384578f769"
      },
      "outputs": [
        {
          "name": "stdout",
          "output_type": "stream",
          "text": [
            "22333.333333333332\n"
          ]
        }
      ],
      "source": [
        "# covariance function\n",
        "def covariance(x, y):\n",
        "  if len(x) != len(y):\n",
        "    print('error')\n",
        "  else:\n",
        "    mean_x = sum(x)/(len(x))\n",
        "    mean_y = sum(y)/(len(y))\n",
        "    diff_x = [i - mean_x for i in x]\n",
        "    diff_y = [i - mean_y for i in y]\n",
        "    num = sum([diff_x[i]*diff_y[i] for i in range(len(diff_x))])\n",
        "    return num/(len(x)-1)\n",
        "\n",
        "print(covariance(x,y))"
      ]
    },
    {
      "cell_type": "markdown",
      "metadata": {
        "id": "R90COHujsf1B"
      },
      "source": [
        "<h2>Correlation</h2>\n",
        "The correlation is a measure of the direction of the relation of 2 lists and the<br>\n",
        "strength of the relation.  The correlation can only be a number from -1 to 1.  A positive<br>\n",
        "correlation of .7 or more is significant and signals that there is a strong relationship<br>\n",
        "between the 2 data sets. When there is a rise in one of the numbers in the list there is also <br>\n",
        "a rise in the value of the corresponding index value.  A negative correlation of -0.7 means<br>\n",
        "that there is an inverse relationship between the 2 lists.  When one of the values in 1st list<br>\n",
        "goes up, the value in the other list will go down.<br>\n",
        "The formula for correlation is:<br>\n",
        "<br>\n",
        "$ covariance/(S_x* S_y)$<br><br>\n",
        "Where S is the standard deviation of each data set"
      ]
    },
    {
      "cell_type": "markdown",
      "metadata": {
        "id": "t2THvDPZsf1B"
      },
      "source": [
        "<h2>Exercise</h2>\n",
        "Find the correlation of the following data sets:<br>\n",
        "<code>\n",
        "temperatures = [89, 93, 77, 79, 93, 95, 94]\n",
        "icecream_sales = [20000, 25000, 16000, 18000, 21000, 24000, 23000]\n",
        "</code>"
      ]
    },
    {
      "cell_type": "markdown",
      "metadata": {
        "id": "GYO-SZpesf1B"
      },
      "source": [
        "<h4>Solution</h4>"
      ]
    },
    {
      "cell_type": "code",
      "execution_count": 28,
      "metadata": {
        "colab": {
          "base_uri": "https://localhost:8080/"
        },
        "id": "cHXhKpD0sf1B",
        "outputId": "79ee704b-c088-4afa-8ed9-c79f51e06acf"
      },
      "outputs": [
        {
          "name": "stdout",
          "output_type": "stream",
          "text": [
            "0.9141761783739406\n"
          ]
        }
      ],
      "source": [
        "import statistics\n",
        "\n",
        "# correlation function\n",
        "def correlation(x,y):\n",
        "  stdx = statistics.stdev(x)\n",
        "  stdy = statistics.stdev(y)\n",
        "  covar = covariance(x,y)\n",
        "  corr = covar/(stdx*stdy)\n",
        "  return corr\n",
        "print(correlation(x,y))\n"
      ]
    },
    {
      "cell_type": "markdown",
      "metadata": {
        "id": "n1bdUVJXsf1C"
      },
      "source": [
        "<h2>Exercise</h2>\n",
        "We have the following class called 'Deck_of_Cards'<br>\n",
        "<code>\n",
        "class Deck_of_Cards:\n",
        "    def __init__(self):\n",
        "        self.cards = self.create_deck()\n",
        "        \n",
        "    def create_deck(self):\n",
        "        face_cards = ['Jack','Queen','King','Ace']\n",
        "        non_face_cards = list(range(2,11))\n",
        "        suit = ['Spades','Clubs','Hearts','Diamonds']\n",
        "        cards = [f'{card} of {s}' for card in non_face_cards + face_cards for s in suit]\n",
        "        return cards\n",
        "\n",
        "    def __str__(self):\n",
        "        return f'There are {self.number_of_cards} cards in the deck'\n",
        "    \n",
        "new_deal = Deck_of_Cards()\n",
        "print(new_deal.cards)\n",
        "</code>\n",
        "<br>\n",
        "Create the following methods:<br>\n",
        "1 - 'shuffle' to reorder the cards<br>\n",
        "2 - 'cut' which takes in an interger or defaults to zero which is called a tap and no<br>\n",
        "reorder is done.<br>\n",
        "3 - 'deal' which takes in 1 arguments the number of cards and removes them from the top of the deck<br>\n",
        "\n"
      ]
    },
    {
      "cell_type": "code",
      "execution_count": 42,
      "metadata": {
        "id": "jypfRk6hQwyA"
      },
      "outputs": [
        {
          "name": "stdout",
          "output_type": "stream",
          "text": [
            "['2 of Spades', '2 of Clubs', '2 of Hearts', '2 of Diamonds', '3 of Spades', '3 of Clubs', '3 of Hearts', '3 of Diamonds', '4 of Spades', '4 of Clubs', '4 of Hearts', '4 of Diamonds', '5 of Spades', '5 of Clubs', '5 of Hearts', '5 of Diamonds', '6 of Spades', '6 of Clubs', '6 of Hearts', '6 of Diamonds', '7 of Spades', '7 of Clubs', '7 of Hearts', '7 of Diamonds', '8 of Spades', '8 of Clubs', '8 of Hearts', '8 of Diamonds', '9 of Spades', '9 of Clubs', '9 of Hearts', '9 of Diamonds', '10 of Spades', '10 of Clubs', '10 of Hearts', '10 of Diamonds', 'Jack of Spades', 'Jack of Clubs', 'Jack of Hearts', 'Jack of Diamonds', 'Queen of Spades', 'Queen of Clubs', 'Queen of Hearts', 'Queen of Diamonds', 'King of Spades', 'King of Clubs', 'King of Hearts', 'King of Diamonds', 'Ace of Spades', 'Ace of Clubs', 'Ace of Hearts', 'Ace of Diamonds']\n",
            "There are 52 cards in the deck\n"
          ]
        }
      ],
      "source": [
        "class Deck_of_Cards:\n",
        "    def __init__(self):\n",
        "        self.cards = self.create_deck()\n",
        "        self.number_of_cards = len(self.cards)\n",
        "        \n",
        "    def create_deck(self):\n",
        "        face_cards = ['Jack','Queen','King','Ace']\n",
        "        non_face_cards = list(range(2,11))\n",
        "        suit = ['Spades','Clubs','Hearts','Diamonds']\n",
        "        cards = [f'{card} of {s}' for card in non_face_cards + face_cards for s in suit]\n",
        "        return cards\n",
        "\n",
        "    def __str__(self):\n",
        "        return f'There are {self.number_of_cards} cards in the deck'\n",
        "    \n",
        "new_deal = Deck_of_Cards()\n",
        "print(new_deal.cards)\n",
        "print(new_deal)\n",
        "\n"
      ]
    },
    {
      "cell_type": "code",
      "execution_count": 45,
      "metadata": {},
      "outputs": [
        {
          "name": "stdout",
          "output_type": "stream",
          "text": [
            "['2 of Spades', '3 of Spades', '4 of Spades', '5 of Spades', '6 of Spades', '7 of Spades', '8 of Spades', '9 of Spades', '10 of Spades', 'Jack of Spades', 'Queen of Spades', 'King of Spades', 'Ace of Spades', '2 of Clubs', '3 of Clubs', '4 of Clubs', '5 of Clubs', '6 of Clubs', '7 of Clubs', '8 of Clubs', '9 of Clubs', '10 of Clubs', 'Jack of Clubs', 'Queen of Clubs', 'King of Clubs', 'Ace of Clubs', '2 of Hearts', '3 of Hearts', '4 of Hearts', '5 of Hearts', '6 of Hearts', '7 of Hearts', '8 of Hearts', '9 of Hearts', '10 of Hearts', 'Jack of Hearts', 'Queen of Hearts', 'King of Hearts', 'Ace of Hearts', '2 of Diamonds', '3 of Diamonds', '4 of Diamonds', '5 of Diamonds', '6 of Diamonds', '7 of Diamonds', '8 of Diamonds', '9 of Diamonds', '10 of Diamonds', 'Jack of Diamonds', 'Queen of Diamonds', 'King of Diamonds', 'Ace of Diamonds']\n",
            "Shuffled deck: ['3 of Hearts', '8 of Hearts', '2 of Hearts', '5 of Hearts', '2 of Spades', '5 of Clubs', '9 of Spades', '10 of Diamonds', '9 of Diamonds', 'Jack of Spades', '4 of Clubs', 'Queen of Clubs', 'Queen of Spades', '8 of Clubs', '4 of Diamonds', '10 of Spades', 'Jack of Diamonds', 'Ace of Hearts', '9 of Hearts', '6 of Clubs', '8 of Diamonds', 'Ace of Diamonds', '7 of Spades', 'Queen of Hearts', 'King of Spades', '8 of Spades', '2 of Diamonds', '4 of Spades', '7 of Clubs', 'Jack of Hearts', 'Queen of Diamonds', '9 of Clubs', '6 of Hearts', 'Ace of Clubs', '6 of Spades', '6 of Diamonds', 'Ace of Spades', '4 of Hearts', '10 of Hearts', 'King of Clubs', '7 of Hearts', '5 of Diamonds', 'King of Hearts', '5 of Spades', '3 of Clubs', 'Jack of Clubs', '3 of Diamonds', '2 of Clubs', '3 of Spades', '7 of Diamonds', '10 of Clubs', 'King of Diamonds']\n",
            "Cut deck: ['5 of Hearts', '2 of Spades', '5 of Clubs', '9 of Spades', '10 of Diamonds', '9 of Diamonds', 'Jack of Spades', '4 of Clubs', 'Queen of Clubs', 'Queen of Spades', '8 of Clubs', '4 of Diamonds', '10 of Spades', 'Jack of Diamonds', 'Ace of Hearts', '9 of Hearts', '6 of Clubs', '8 of Diamonds', 'Ace of Diamonds', '7 of Spades', 'Queen of Hearts', 'King of Spades', '8 of Spades', '2 of Diamonds', '4 of Spades', '7 of Clubs', 'Jack of Hearts', 'Queen of Diamonds', '9 of Clubs', '6 of Hearts', 'Ace of Clubs', '6 of Spades', '6 of Diamonds', 'Ace of Spades', '4 of Hearts', '10 of Hearts', 'King of Clubs', '7 of Hearts', '5 of Diamonds', 'King of Hearts', '5 of Spades', '3 of Clubs', 'Jack of Clubs', '3 of Diamonds', '2 of Clubs', '3 of Spades', '7 of Diamonds', '10 of Clubs', 'King of Diamonds', '3 of Hearts', '8 of Hearts', '2 of Hearts']\n",
            "Dealt cards: ['5 of Hearts', '2 of Spades', '5 of Clubs', '9 of Spades', '10 of Diamonds']\n",
            "Remaining deck: ['9 of Diamonds', 'Jack of Spades', '4 of Clubs', 'Queen of Clubs', 'Queen of Spades', '8 of Clubs', '4 of Diamonds', '10 of Spades', 'Jack of Diamonds', 'Ace of Hearts', '9 of Hearts', '6 of Clubs', '8 of Diamonds', 'Ace of Diamonds', '7 of Spades', 'Queen of Hearts', 'King of Spades', '8 of Spades', '2 of Diamonds', '4 of Spades', '7 of Clubs', 'Jack of Hearts', 'Queen of Diamonds', '9 of Clubs', '6 of Hearts', 'Ace of Clubs', '6 of Spades', '6 of Diamonds', 'Ace of Spades', '4 of Hearts', '10 of Hearts', 'King of Clubs', '7 of Hearts', '5 of Diamonds', 'King of Hearts', '5 of Spades', '3 of Clubs', 'Jack of Clubs', '3 of Diamonds', '2 of Clubs', '3 of Spades', '7 of Diamonds', '10 of Clubs', 'King of Diamonds', '3 of Hearts', '8 of Hearts', '2 of Hearts']\n",
            "There are 52 cards in the deck\n"
          ]
        }
      ],
      "source": [
        "from random import shuffle\n",
        "\n",
        "class Deck_of_Cards:\n",
        "\n",
        "    # initialize the deck of cards\n",
        "    def __init__(self):\n",
        "        self.cards = self.create_deck()\n",
        "        self.number_of_cards = len(self.cards)\n",
        "\n",
        "    # create a deck of cards\n",
        "    def create_deck(self):\n",
        "        face_cards = ['Jack', 'Queen', 'King', 'Ace']\n",
        "        non_face_cards = list(range(2, 11))\n",
        "        suits = ['Spades', 'Clubs', 'Hearts', 'Diamonds']\n",
        "        cards = [f'{card} of {suit}' for suit in suits for card in non_face_cards + face_cards]\n",
        "        return cards\n",
        "\n",
        "    # shuffle the deck of cards\n",
        "    def shuffle_deck(self):\n",
        "        shuffle(self.cards)\n",
        "\n",
        "    # cut the deck of cards\n",
        "    def cut(self, position=0):\n",
        "        position = max(0, min(position, len(self.cards)))\n",
        "        self.cards = self.cards[position:] + self.cards[:position]\n",
        "\n",
        "    # deal a number of cards from the deck\n",
        "    def deal(self, num_cards):\n",
        "        if num_cards > len(self.cards):\n",
        "            raise ValueError(\"Not enough cards in the deck.\")\n",
        "\n",
        "        dealt_cards = self.cards[:num_cards]\n",
        "        self.cards = self.cards[num_cards:]\n",
        "\n",
        "        return dealt_cards\n",
        "\n",
        "    # print the number of cards in the deck\n",
        "    def __str__(self):\n",
        "        return f'There are {self.number_of_cards} cards in the deck'\n",
        "\n",
        "# Create an instance of Deck_of_Cards\n",
        "new_deal = Deck_of_Cards()\n",
        "\n",
        "# Print the initial deck of cards\n",
        "print(new_deal.cards)\n",
        "\n",
        "# Shuffle the deck\n",
        "new_deal.shuffle_deck()\n",
        "print(\"Shuffled deck:\", new_deal.cards)\n",
        "\n",
        "# Cut the deck at position 3\n",
        "new_deal.cut(3)\n",
        "print(\"Cut deck:\", new_deal.cards)\n",
        "\n",
        "# Deal 5 cards from the top of the deck\n",
        "dealt_cards = new_deal.deal(5)\n",
        "print(\"Dealt cards:\", dealt_cards)\n",
        "print(\"Remaining deck:\", new_deal.cards)\n",
        "\n",
        "# Print the number of cards in the deck\n",
        "print(new_deal)\n"
      ]
    }
  ],
  "metadata": {
    "colab": {
      "provenance": []
    },
    "kernelspec": {
      "display_name": "Python 3",
      "language": "python",
      "name": "python3"
    },
    "language_info": {
      "codemirror_mode": {
        "name": "ipython",
        "version": 3
      },
      "file_extension": ".py",
      "mimetype": "text/x-python",
      "name": "python",
      "nbconvert_exporter": "python",
      "pygments_lexer": "ipython3",
      "version": "3.9.6"
    },
    "vscode": {
      "interpreter": {
        "hash": "31f2aee4e71d21fbe5cf8b01ff0e069b9275f58929596ceb00d14d90e3e16cd6"
      }
    }
  },
  "nbformat": 4,
  "nbformat_minor": 0
}
