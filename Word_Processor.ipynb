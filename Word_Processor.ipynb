{
 "cells": [
  {
   "attachments": {},
   "cell_type": "markdown",
   "metadata": {},
   "source": [
    "Create a class that operates on words\n",
    "\n",
    "1 - method 'remove_vowels' - Strips all vowels out\n",
    "\n",
    "2 - method 'strip_constants' - Strips constants\n",
    "\n",
    "3 - method 'strip_fixed' - Strips based on a skip\n",
    "\n",
    "4 - print gives the word and and counts the number of vowels and the number of constants\n",
    "\n",
    "5 - Add a method that randomly removes up to n chars but has to be less than the length - 1(colapses)\n",
    "\n",
    "6 - On all removal options add option to replace the removal with a specified character. The default is an underscore '_'"
   ]
  },
  {
   "cell_type": "code",
   "execution_count": 9,
   "metadata": {},
   "outputs": [
    {
     "name": "stdout",
     "output_type": "stream",
     "text": [
      "Word: _el_o wo_ld\n",
      "Vowels count: 3\n",
      "Consonants count: 4\n"
     ]
    }
   ],
   "source": [
    "import random\n",
    "\n",
    "class WordProcessor:\n",
    "    def __init__(self, word):\n",
    "        self.word = word\n",
    "\n",
    "    def remove_vowels(self, replace_char='_'):\n",
    "        vowels = 'aeiouAEIOU'\n",
    "        for vowel in vowels:\n",
    "            self.word = self.word.replace(vowel, replace_char)\n",
    "\n",
    "    def remove_consonants(self, replace_char='_'):\n",
    "        consonants = 'bcdfghjklmnpqrstvwxyzBCDFGHJKLMNPQRSTVWXYZ'\n",
    "        for consonant in consonants:\n",
    "            self.word = self.word.replace(consonant, replace_char)\n",
    "\n",
    "    def remove_fixed(self, skip, replace_char='_'):\n",
    "        self.word = self.word[::skip].replace(self.word[::skip], replace_char)\n",
    "\n",
    "    def remove_random_chars(self, n, replace_char='_'):\n",
    "        if n < len(self.word) - 1:\n",
    "            chars_to_remove = random.sample(range(len(self.word)), n)\n",
    "            for index in sorted(chars_to_remove, reverse=True):\n",
    "                self.word = self.word[:index] + replace_char + self.word[index+1:]\n",
    "\n",
    "    def print_word_info(self):\n",
    "        vowels_count = sum(char.lower() in 'aeiou' for char in self.word)\n",
    "        consonants_count = sum(char.isalpha() and char.lower() not in 'aeiou' for char in self.word)\n",
    "        print(f\"Word: {self.word}\")\n",
    "        print(f\"Vowels count: {vowels_count}\")\n",
    "        print(f\"Consonants count: {consonants_count}\")\n",
    "\n",
    "# Example usage\n",
    "word_processor = WordProcessor(\"hello world\")\n",
    "\n",
    "# word_processor.remove_vowels()\n",
    "# word_processor.remove_consonants(replace_char='-')\n",
    "# word_processor.remove_fixed(2)\n",
    "word_processor.remove_random_chars(3)\n",
    "\n",
    "word_processor.print_word_info()\n"
   ]
  }
 ],
 "metadata": {
  "kernelspec": {
   "display_name": "Python 3",
   "language": "python",
   "name": "python3"
  },
  "language_info": {
   "codemirror_mode": {
    "name": "ipython",
    "version": 3
   },
   "file_extension": ".py",
   "mimetype": "text/x-python",
   "name": "python",
   "nbconvert_exporter": "python",
   "pygments_lexer": "ipython3",
   "version": "3.9.6"
  },
  "orig_nbformat": 4
 },
 "nbformat": 4,
 "nbformat_minor": 2
}
