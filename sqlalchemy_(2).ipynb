{
  "cells": [
    {
      "cell_type": "code",
      "execution_count": 1,
      "metadata": {
        "id": "QZez3kVMEW-h"
      },
      "outputs": [
        {
          "name": "stdout",
          "output_type": "stream",
          "text": [
            "Defaulting to user installation because normal site-packages is not writeable\n",
            "Collecting sqlalchemy\n",
            "  Downloading SQLAlchemy-2.0.19-cp39-cp39-macosx_11_0_arm64.whl (2.0 MB)\n",
            "\u001b[K     |████████████████████████████████| 2.0 MB 5.8 MB/s eta 0:00:01\n",
            "\u001b[?25hRequirement already satisfied: typing-extensions>=4.2.0 in /Users/brennanstopnik/Library/Python/3.9/lib/python/site-packages (from sqlalchemy) (4.5.0)\n",
            "Installing collected packages: sqlalchemy\n",
            "Successfully installed sqlalchemy-2.0.19\n",
            "\u001b[33mWARNING: You are using pip version 21.2.4; however, version 23.2 is available.\n",
            "You should consider upgrading via the '/Library/Developer/CommandLineTools/usr/bin/python3 -m pip install --upgrade pip' command.\u001b[0m\n"
          ]
        }
      ],
      "source": [
        "!pip3 install sqlalchemy"
      ]
    },
    {
      "cell_type": "code",
      "execution_count": 2,
      "metadata": {
        "colab": {
          "base_uri": "https://localhost:8080/",
          "height": 35
        },
        "id": "plc3bAzCuzWh",
        "outputId": "d0caf9c3-0b51-4c74-ef20-c4f69e91f985"
      },
      "outputs": [
        {
          "data": {
            "text/plain": [
              "'2.0.19'"
            ]
          },
          "execution_count": 2,
          "metadata": {},
          "output_type": "execute_result"
        }
      ],
      "source": [
        "import sqlalchemy\n",
        "sqlalchemy.__version__"
      ]
    },
    {
      "cell_type": "code",
      "execution_count": 3,
      "metadata": {
        "id": "DLkuCo3du4W1"
      },
      "outputs": [],
      "source": [
        "#create engine, which houses databases and DB connections\n",
        "from sqlalchemy import create_engine\n",
        "engine = create_engine(\"sqlite:///:memory:\", echo=True)"
      ]
    },
    {
      "cell_type": "code",
      "execution_count": 4,
      "metadata": {
        "id": "h_p6OK8Sv8w3"
      },
      "outputs": [],
      "source": [
        "#create the Base (declarative) to convert Python code to SQL code\n",
        "from sqlalchemy.orm import declarative_base\n",
        "Base = declarative_base()"
      ]
    },
    {
      "cell_type": "code",
      "execution_count": 5,
      "metadata": {
        "id": "0nPi7aI4wEUL"
      },
      "outputs": [
        {
          "ename": "InvalidRequestError",
          "evalue": "Class <class '__main__.User'> does not have a __table__ or __tablename__ specified and does not inherit from an existing table-mapped class.",
          "output_type": "error",
          "traceback": [
            "\u001b[0;31m---------------------------------------------------------------------------\u001b[0m",
            "\u001b[0;31mInvalidRequestError\u001b[0m                       Traceback (most recent call last)",
            "Cell \u001b[0;32mIn[5], line 3\u001b[0m\n\u001b[1;32m      1\u001b[0m \u001b[39m#in Python, create a class, which will be converted by Alchemy to a SQL table\u001b[39;00m\n\u001b[1;32m      2\u001b[0m \u001b[39mfrom\u001b[39;00m \u001b[39msqlalchemy\u001b[39;00m \u001b[39mimport\u001b[39;00m Column, Integer, String\n\u001b[0;32m----> 3\u001b[0m \u001b[39mclass\u001b[39;00m \u001b[39mUser\u001b[39;00m(Base):\n\u001b[1;32m      4\u001b[0m   \u001b[39mdef\u001b[39;00m \u001b[39m__init__\u001b[39m(\u001b[39mself\u001b[39m, name, fullname, nickname):\n\u001b[1;32m      5\u001b[0m     __tablename__ \u001b[39m=\u001b[39m \u001b[39m\"\u001b[39m\u001b[39musers\u001b[39m\u001b[39m\"\u001b[39m\n",
            "File \u001b[0;32m~/Library/Python/3.9/lib/python/site-packages/sqlalchemy/orm/decl_api.py:195\u001b[0m, in \u001b[0;36mDeclarativeMeta.__init__\u001b[0;34m(cls, classname, bases, dict_, **kw)\u001b[0m\n\u001b[1;32m    192\u001b[0m         \u001b[39mcls\u001b[39m\u001b[39m.\u001b[39m_sa_registry \u001b[39m=\u001b[39m reg\n\u001b[1;32m    194\u001b[0m \u001b[39mif\u001b[39;00m \u001b[39mnot\u001b[39;00m \u001b[39mcls\u001b[39m\u001b[39m.\u001b[39m\u001b[39m__dict__\u001b[39m\u001b[39m.\u001b[39mget(\u001b[39m\"\u001b[39m\u001b[39m__abstract__\u001b[39m\u001b[39m\"\u001b[39m, \u001b[39mFalse\u001b[39;00m):\n\u001b[0;32m--> 195\u001b[0m     _as_declarative(reg, \u001b[39mcls\u001b[39;49m, dict_)\n\u001b[1;32m    196\u001b[0m \u001b[39mtype\u001b[39m\u001b[39m.\u001b[39m\u001b[39m__init__\u001b[39m(\u001b[39mcls\u001b[39m, classname, bases, dict_)\n",
            "File \u001b[0;32m~/Library/Python/3.9/lib/python/site-packages/sqlalchemy/orm/decl_base.py:247\u001b[0m, in \u001b[0;36m_as_declarative\u001b[0;34m(registry, cls, dict_)\u001b[0m\n\u001b[1;32m    242\u001b[0m \u001b[39mdef\u001b[39;00m \u001b[39m_as_declarative\u001b[39m(\n\u001b[1;32m    243\u001b[0m     registry: _RegistryType, \u001b[39mcls\u001b[39m: Type[Any], dict_: _ClassDict\n\u001b[1;32m    244\u001b[0m ) \u001b[39m-\u001b[39m\u001b[39m>\u001b[39m Optional[_MapperConfig]:\n\u001b[1;32m    245\u001b[0m     \u001b[39m# declarative scans the class for attributes.  no table or mapper\u001b[39;00m\n\u001b[1;32m    246\u001b[0m     \u001b[39m# args passed separately.\u001b[39;00m\n\u001b[0;32m--> 247\u001b[0m     \u001b[39mreturn\u001b[39;00m _MapperConfig\u001b[39m.\u001b[39;49msetup_mapping(registry, \u001b[39mcls\u001b[39;49m, dict_, \u001b[39mNone\u001b[39;49;00m, {})\n",
            "File \u001b[0;32m~/Library/Python/3.9/lib/python/site-packages/sqlalchemy/orm/decl_base.py:328\u001b[0m, in \u001b[0;36m_MapperConfig.setup_mapping\u001b[0;34m(cls, registry, cls_, dict_, table, mapper_kw)\u001b[0m\n\u001b[1;32m    324\u001b[0m     \u001b[39mreturn\u001b[39;00m _DeferredMapperConfig(\n\u001b[1;32m    325\u001b[0m         registry, cls_, dict_, table, mapper_kw\n\u001b[1;32m    326\u001b[0m     )\n\u001b[1;32m    327\u001b[0m \u001b[39melse\u001b[39;00m:\n\u001b[0;32m--> 328\u001b[0m     \u001b[39mreturn\u001b[39;00m _ClassScanMapperConfig(\n\u001b[1;32m    329\u001b[0m         registry, cls_, dict_, table, mapper_kw\n\u001b[1;32m    330\u001b[0m     )\n",
            "File \u001b[0;32m~/Library/Python/3.9/lib/python/site-packages/sqlalchemy/orm/decl_base.py:580\u001b[0m, in \u001b[0;36m_ClassScanMapperConfig.__init__\u001b[0;34m(self, registry, cls_, dict_, table, mapper_kw)\u001b[0m\n\u001b[1;32m    576\u001b[0m \u001b[39mself\u001b[39m\u001b[39m.\u001b[39m_extract_declared_columns()\n\u001b[1;32m    578\u001b[0m \u001b[39mself\u001b[39m\u001b[39m.\u001b[39m_setup_table(table)\n\u001b[0;32m--> 580\u001b[0m \u001b[39mself\u001b[39;49m\u001b[39m.\u001b[39;49m_setup_inheriting_columns(mapper_kw)\n\u001b[1;32m    582\u001b[0m \u001b[39mself\u001b[39m\u001b[39m.\u001b[39m_early_mapping(mapper_kw)\n",
            "File \u001b[0;32m~/Library/Python/3.9/lib/python/site-packages/sqlalchemy/orm/decl_base.py:1793\u001b[0m, in \u001b[0;36m_ClassScanMapperConfig._setup_inheriting_columns\u001b[0;34m(self, mapper_kw)\u001b[0m\n\u001b[1;32m   1786\u001b[0m declared_columns \u001b[39m=\u001b[39m \u001b[39mself\u001b[39m\u001b[39m.\u001b[39mdeclared_columns\n\u001b[1;32m   1788\u001b[0m \u001b[39mif\u001b[39;00m (\n\u001b[1;32m   1789\u001b[0m     table \u001b[39mis\u001b[39;00m \u001b[39mNone\u001b[39;00m\n\u001b[1;32m   1790\u001b[0m     \u001b[39mand\u001b[39;00m \u001b[39mself\u001b[39m\u001b[39m.\u001b[39minherits \u001b[39mis\u001b[39;00m \u001b[39mNone\u001b[39;00m\n\u001b[1;32m   1791\u001b[0m     \u001b[39mand\u001b[39;00m \u001b[39mnot\u001b[39;00m _get_immediate_cls_attr(\u001b[39mcls\u001b[39m, \u001b[39m\"\u001b[39m\u001b[39m__no_table__\u001b[39m\u001b[39m\"\u001b[39m)\n\u001b[1;32m   1792\u001b[0m ):\n\u001b[0;32m-> 1793\u001b[0m     \u001b[39mraise\u001b[39;00m exc\u001b[39m.\u001b[39mInvalidRequestError(\n\u001b[1;32m   1794\u001b[0m         \u001b[39m\"\u001b[39m\u001b[39mClass \u001b[39m\u001b[39m%r\u001b[39;00m\u001b[39m does not have a __table__ or __tablename__ \u001b[39m\u001b[39m\"\u001b[39m\n\u001b[1;32m   1795\u001b[0m         \u001b[39m\"\u001b[39m\u001b[39mspecified and does not inherit from an existing \u001b[39m\u001b[39m\"\u001b[39m\n\u001b[1;32m   1796\u001b[0m         \u001b[39m\"\u001b[39m\u001b[39mtable-mapped class.\u001b[39m\u001b[39m\"\u001b[39m \u001b[39m%\u001b[39m \u001b[39mcls\u001b[39m\n\u001b[1;32m   1797\u001b[0m     )\n\u001b[1;32m   1798\u001b[0m \u001b[39melif\u001b[39;00m \u001b[39mself\u001b[39m\u001b[39m.\u001b[39minherits:\n\u001b[1;32m   1799\u001b[0m     inherited_mapper_or_config \u001b[39m=\u001b[39m _declared_mapping_info(\u001b[39mself\u001b[39m\u001b[39m.\u001b[39minherits)\n",
            "\u001b[0;31mInvalidRequestError\u001b[0m: Class <class '__main__.User'> does not have a __table__ or __tablename__ specified and does not inherit from an existing table-mapped class."
          ]
        }
      ],
      "source": [
        "#in Python, create a class, which will be converted by Alchemy to a SQL table\n",
        "from sqlalchemy import Column, Integer, String\n",
        "class User(Base):\n",
        "  def __init__(self, name, fullname, nickname):\n",
        "    __tablename__ = \"users\"\n",
        "    self.id = Column(Integer, primary_key=True)\n",
        "    self.name = Column(String)\n",
        "    self.fullname = Column(String)\n",
        "    self.nickname = Column(String)\n",
        "    def __repr__(self):\n",
        "        return \"<User(name='%s', fullname='%s', nickname='%s')>\" % (\n",
        "            self.name,\n",
        "            self.fullname,\n",
        "            self.nickname,\n",
        "        )"
      ]
    },
    {
      "cell_type": "code",
      "execution_count": null,
      "metadata": {
        "colab": {
          "base_uri": "https://localhost:8080/"
        },
        "id": "30QCs65BwLJv",
        "outputId": "6a8feaf6-b558-4649-aa9c-b84141091152"
      },
      "outputs": [
        {
          "data": {
            "text/plain": [
              "Table('users', MetaData(), Column('id', Integer(), table=<users>, primary_key=True, nullable=False), Column('name', String(), table=<users>), Column('fullname', String(), table=<users>), Column('nickname', String(), table=<users>), schema=None)"
            ]
          },
          "execution_count": 29,
          "metadata": {},
          "output_type": "execute_result"
        }
      ],
      "source": [
        "#confirm all the metadata in the User class\n",
        "User.__table__"
      ]
    },
    {
      "cell_type": "code",
      "execution_count": null,
      "metadata": {
        "colab": {
          "base_uri": "https://localhost:8080/"
        },
        "id": "ZUql7x8NwOKT",
        "outputId": "ac302146-7b23-4a8b-8d04-8b2cf8a4fc7a"
      },
      "outputs": [
        {
          "name": "stdout",
          "output_type": "stream",
          "text": [
            "2023-04-24 16:43:50,390 INFO sqlalchemy.engine.Engine BEGIN (implicit)\n"
          ]
        },
        {
          "name": "stderr",
          "output_type": "stream",
          "text": [
            "INFO:sqlalchemy.engine.Engine:BEGIN (implicit)\n"
          ]
        },
        {
          "name": "stdout",
          "output_type": "stream",
          "text": [
            "2023-04-24 16:43:50,395 INFO sqlalchemy.engine.Engine PRAGMA main.table_info(\"users\")\n"
          ]
        },
        {
          "name": "stderr",
          "output_type": "stream",
          "text": [
            "INFO:sqlalchemy.engine.Engine:PRAGMA main.table_info(\"users\")\n"
          ]
        },
        {
          "name": "stdout",
          "output_type": "stream",
          "text": [
            "2023-04-24 16:43:50,400 INFO sqlalchemy.engine.Engine [raw sql] ()\n"
          ]
        },
        {
          "name": "stderr",
          "output_type": "stream",
          "text": [
            "INFO:sqlalchemy.engine.Engine:[raw sql] ()\n"
          ]
        },
        {
          "name": "stdout",
          "output_type": "stream",
          "text": [
            "2023-04-24 16:43:50,403 INFO sqlalchemy.engine.Engine PRAGMA temp.table_info(\"users\")\n"
          ]
        },
        {
          "name": "stderr",
          "output_type": "stream",
          "text": [
            "INFO:sqlalchemy.engine.Engine:PRAGMA temp.table_info(\"users\")\n"
          ]
        },
        {
          "name": "stdout",
          "output_type": "stream",
          "text": [
            "2023-04-24 16:43:50,407 INFO sqlalchemy.engine.Engine [raw sql] ()\n"
          ]
        },
        {
          "name": "stderr",
          "output_type": "stream",
          "text": [
            "INFO:sqlalchemy.engine.Engine:[raw sql] ()\n"
          ]
        },
        {
          "name": "stdout",
          "output_type": "stream",
          "text": [
            "2023-04-24 16:43:50,412 INFO sqlalchemy.engine.Engine \n",
            "CREATE TABLE users (\n",
            "\tid INTEGER NOT NULL, \n",
            "\tname VARCHAR, \n",
            "\tfullname VARCHAR, \n",
            "\tnickname VARCHAR, \n",
            "\tPRIMARY KEY (id)\n",
            ")\n",
            "\n",
            "\n"
          ]
        },
        {
          "name": "stderr",
          "output_type": "stream",
          "text": [
            "INFO:sqlalchemy.engine.Engine:\n",
            "CREATE TABLE users (\n",
            "\tid INTEGER NOT NULL, \n",
            "\tname VARCHAR, \n",
            "\tfullname VARCHAR, \n",
            "\tnickname VARCHAR, \n",
            "\tPRIMARY KEY (id)\n",
            ")\n",
            "\n",
            "\n"
          ]
        },
        {
          "name": "stdout",
          "output_type": "stream",
          "text": [
            "2023-04-24 16:43:50,414 INFO sqlalchemy.engine.Engine [no key 0.00193s] ()\n"
          ]
        },
        {
          "name": "stderr",
          "output_type": "stream",
          "text": [
            "INFO:sqlalchemy.engine.Engine:[no key 0.00193s] ()\n"
          ]
        },
        {
          "name": "stdout",
          "output_type": "stream",
          "text": [
            "2023-04-24 16:43:50,416 INFO sqlalchemy.engine.Engine COMMIT\n"
          ]
        },
        {
          "name": "stderr",
          "output_type": "stream",
          "text": [
            "INFO:sqlalchemy.engine.Engine:COMMIT\n"
          ]
        }
      ],
      "source": [
        "#create all tables in the SQLlite database (in engine), commits and outputs SQL code\n",
        "Base.metadata.create_all(engine)"
      ]
    },
    {
      "cell_type": "code",
      "execution_count": null,
      "metadata": {
        "id": "EaKxvkJcwWck"
      },
      "outputs": [],
      "source": [
        "#create a User object\n",
        "ed_user = User(name=\"ed\", fullname=\"Ed Jones\", nickname=\"edsnickname\")\n",
        "ed_user.name\n",
        "ed_user.nickname\n",
        "str(ed_user.name)"
      ]
    },
    {
      "cell_type": "code",
      "execution_count": null,
      "metadata": {
        "colab": {
          "base_uri": "https://localhost:8080/",
          "height": 35
        },
        "id": "AGnuDPpBKIXy",
        "outputId": "80423a92-06ba-4531-91f1-cf12cdaf8d39"
      },
      "outputs": [
        {
          "data": {
            "application/vnd.google.colaboratory.intrinsic+json": {
              "type": "string"
            },
            "text/plain": [
              "'edsnickname'"
            ]
          },
          "execution_count": 32,
          "metadata": {},
          "output_type": "execute_result"
        }
      ],
      "source": [
        "#edit the object arguments\n",
        "ed_user.nickname\n"
      ]
    },
    {
      "cell_type": "code",
      "execution_count": null,
      "metadata": {
        "id": "mEZU1WRdwcfi"
      },
      "outputs": [],
      "source": [
        "#a session allows us to insert/alter/delete data from the DB\n",
        "from sqlalchemy.orm import sessionmaker\n",
        "Session = sessionmaker(bind=engine)"
      ]
    },
    {
      "cell_type": "code",
      "execution_count": null,
      "metadata": {
        "id": "sVR50-jNwlxP"
      },
      "outputs": [],
      "source": [
        "session = Session()"
      ]
    },
    {
      "cell_type": "code",
      "execution_count": null,
      "metadata": {
        "id": "ksGvG-zwwr-K"
      },
      "outputs": [],
      "source": [
        "#add the object to the DB via session\n",
        "ed_user = User(name=\"ed\", fullname=\"Ed Jones\", nickname=\"edsnickname\")\n",
        "session.add(ed_user)"
      ]
    },
    {
      "cell_type": "code",
      "execution_count": null,
      "metadata": {
        "colab": {
          "base_uri": "https://localhost:8080/"
        },
        "id": "m2WWIP0TwulM",
        "outputId": "cd29db0e-7534-48b4-eef9-c07ab55e9322"
      },
      "outputs": [
        {
          "name": "stdout",
          "output_type": "stream",
          "text": [
            "2023-04-24 16:48:56,088 INFO sqlalchemy.engine.Engine BEGIN (implicit)\n"
          ]
        },
        {
          "name": "stderr",
          "output_type": "stream",
          "text": [
            "INFO:sqlalchemy.engine.Engine:BEGIN (implicit)\n"
          ]
        },
        {
          "name": "stdout",
          "output_type": "stream",
          "text": [
            "2023-04-24 16:48:56,094 INFO sqlalchemy.engine.Engine INSERT INTO users (name, fullname, nickname) VALUES (?, ?, ?)\n"
          ]
        },
        {
          "name": "stderr",
          "output_type": "stream",
          "text": [
            "INFO:sqlalchemy.engine.Engine:INSERT INTO users (name, fullname, nickname) VALUES (?, ?, ?)\n"
          ]
        },
        {
          "name": "stdout",
          "output_type": "stream",
          "text": [
            "2023-04-24 16:48:56,099 INFO sqlalchemy.engine.Engine [generated in 0.00511s] ('ed', 'Ed Jones', 'edsnickname')\n"
          ]
        },
        {
          "name": "stderr",
          "output_type": "stream",
          "text": [
            "INFO:sqlalchemy.engine.Engine:[generated in 0.00511s] ('ed', 'Ed Jones', 'edsnickname')\n"
          ]
        },
        {
          "name": "stdout",
          "output_type": "stream",
          "text": [
            "2023-04-24 16:48:56,106 INFO sqlalchemy.engine.Engine SELECT users.id AS users_id, users.name AS users_name, users.fullname AS users_fullname, users.nickname AS users_nickname \n",
            "FROM users \n",
            "WHERE users.name = ?\n",
            " LIMIT ? OFFSET ?\n"
          ]
        },
        {
          "name": "stderr",
          "output_type": "stream",
          "text": [
            "INFO:sqlalchemy.engine.Engine:SELECT users.id AS users_id, users.name AS users_name, users.fullname AS users_fullname, users.nickname AS users_nickname \n",
            "FROM users \n",
            "WHERE users.name = ?\n",
            " LIMIT ? OFFSET ?\n"
          ]
        },
        {
          "name": "stdout",
          "output_type": "stream",
          "text": [
            "2023-04-24 16:48:56,112 INFO sqlalchemy.engine.Engine [generated in 0.00560s] ('ed', 1, 0)\n"
          ]
        },
        {
          "name": "stderr",
          "output_type": "stream",
          "text": [
            "INFO:sqlalchemy.engine.Engine:[generated in 0.00560s] ('ed', 1, 0)\n"
          ]
        }
      ],
      "source": [
        "#find the user object via query (queries the table and filters by column)\n",
        "our_user= (\n",
        "session.query(User).filter_by(name=\"ed\").first()\n",
        ")\n"
      ]
    },
    {
      "cell_type": "code",
      "execution_count": null,
      "metadata": {
        "id": "WdrKfpKLAlDt"
      },
      "outputs": [],
      "source": [
        "#add multiple objects to the DB via session\n",
        "session.add_all(\n",
        "    [\n",
        "        User(name=\"wendy\", fullname=\"Wendy Williams\", nickname=\"windy\"),\n",
        "        User(name=\"mary\", fullname=\"Mary Contrary\", nickname=\"mary\"),\n",
        "        User(name=\"fred\", fullname=\"Fred Flintstone\", nickname=\"freddy\"),\n",
        "    ]\n",
        ")\n"
      ]
    },
    {
      "cell_type": "code",
      "execution_count": null,
      "metadata": {
        "id": "TuOlm61vP7He"
      },
      "outputs": [],
      "source": [
        "#example (do not run) of a programmatic way of adding numeric data\n",
        "import numpy as np\n",
        "\n",
        "session.add_all(\n",
        "  for i in range (0,100):\n",
        "    id = i\n",
        "    code = np.sin(i*50/2)\n",
        "    User(id = i, name = code, fullname= id+code, nickname = None))\n"
      ]
    },
    {
      "cell_type": "code",
      "execution_count": null,
      "metadata": {
        "id": "n8uLJXpuAovM"
      },
      "outputs": [],
      "source": [
        "ed_user.nickname = \"eddie\""
      ]
    },
    {
      "cell_type": "code",
      "execution_count": null,
      "metadata": {
        "colab": {
          "base_uri": "https://localhost:8080/"
        },
        "id": "6sc-DW8oAvVP",
        "outputId": "814916b5-af21-4e6e-ef23-f06871a2be08"
      },
      "outputs": [
        {
          "data": {
            "text/plain": [
              "IdentitySet([<User(name='ed', fullname='Ed Jones', nickname='eddie')>])"
            ]
          },
          "execution_count": 39,
          "metadata": {},
          "output_type": "execute_result"
        }
      ],
      "source": [
        "session.dirty"
      ]
    },
    {
      "cell_type": "code",
      "execution_count": null,
      "metadata": {
        "colab": {
          "base_uri": "https://localhost:8080/"
        },
        "id": "SaYIBlIFAx3b",
        "outputId": "6e4680da-c5d4-4eec-9875-a4694b5f3852"
      },
      "outputs": [
        {
          "data": {
            "text/plain": [
              "IdentitySet([<User(name='wendy', fullname='Wendy Williams', nickname='windy')>, <User(name='mary', fullname='Mary Contrary', nickname='mary')>, <User(name='fred', fullname='Fred Flintstone', nickname='freddy')>])"
            ]
          },
          "execution_count": 40,
          "metadata": {},
          "output_type": "execute_result"
        }
      ],
      "source": [
        "session.new"
      ]
    },
    {
      "cell_type": "code",
      "execution_count": null,
      "metadata": {
        "colab": {
          "base_uri": "https://localhost:8080/"
        },
        "id": "0oCE3EUyA1Wk",
        "outputId": "1f90684d-2bba-4c84-f80c-a25cdf7c1e2f"
      },
      "outputs": [
        {
          "name": "stdout",
          "output_type": "stream",
          "text": [
            "2023-04-24 16:51:55,109 INFO sqlalchemy.engine.Engine UPDATE users SET nickname=? WHERE users.id = ?\n"
          ]
        },
        {
          "name": "stderr",
          "output_type": "stream",
          "text": [
            "INFO:sqlalchemy.engine.Engine:UPDATE users SET nickname=? WHERE users.id = ?\n"
          ]
        },
        {
          "name": "stdout",
          "output_type": "stream",
          "text": [
            "2023-04-24 16:51:55,113 INFO sqlalchemy.engine.Engine [generated in 0.00443s] ('eddie', 1)\n"
          ]
        },
        {
          "name": "stderr",
          "output_type": "stream",
          "text": [
            "INFO:sqlalchemy.engine.Engine:[generated in 0.00443s] ('eddie', 1)\n"
          ]
        },
        {
          "name": "stdout",
          "output_type": "stream",
          "text": [
            "2023-04-24 16:51:55,117 INFO sqlalchemy.engine.Engine INSERT INTO users (name, fullname, nickname) VALUES (?, ?, ?)\n"
          ]
        },
        {
          "name": "stderr",
          "output_type": "stream",
          "text": [
            "INFO:sqlalchemy.engine.Engine:INSERT INTO users (name, fullname, nickname) VALUES (?, ?, ?)\n"
          ]
        },
        {
          "name": "stdout",
          "output_type": "stream",
          "text": [
            "2023-04-24 16:51:55,120 INFO sqlalchemy.engine.Engine [cached since 179s ago] ('wendy', 'Wendy Williams', 'windy')\n"
          ]
        },
        {
          "name": "stderr",
          "output_type": "stream",
          "text": [
            "INFO:sqlalchemy.engine.Engine:[cached since 179s ago] ('wendy', 'Wendy Williams', 'windy')\n"
          ]
        },
        {
          "name": "stdout",
          "output_type": "stream",
          "text": [
            "2023-04-24 16:51:55,123 INFO sqlalchemy.engine.Engine INSERT INTO users (name, fullname, nickname) VALUES (?, ?, ?)\n"
          ]
        },
        {
          "name": "stderr",
          "output_type": "stream",
          "text": [
            "INFO:sqlalchemy.engine.Engine:INSERT INTO users (name, fullname, nickname) VALUES (?, ?, ?)\n"
          ]
        },
        {
          "name": "stdout",
          "output_type": "stream",
          "text": [
            "2023-04-24 16:51:55,126 INFO sqlalchemy.engine.Engine [cached since 179s ago] ('mary', 'Mary Contrary', 'mary')\n"
          ]
        },
        {
          "name": "stderr",
          "output_type": "stream",
          "text": [
            "INFO:sqlalchemy.engine.Engine:[cached since 179s ago] ('mary', 'Mary Contrary', 'mary')\n"
          ]
        },
        {
          "name": "stdout",
          "output_type": "stream",
          "text": [
            "2023-04-24 16:51:55,128 INFO sqlalchemy.engine.Engine INSERT INTO users (name, fullname, nickname) VALUES (?, ?, ?)\n"
          ]
        },
        {
          "name": "stderr",
          "output_type": "stream",
          "text": [
            "INFO:sqlalchemy.engine.Engine:INSERT INTO users (name, fullname, nickname) VALUES (?, ?, ?)\n"
          ]
        },
        {
          "name": "stdout",
          "output_type": "stream",
          "text": [
            "2023-04-24 16:51:55,130 INFO sqlalchemy.engine.Engine [cached since 179s ago] ('fred', 'Fred Flintstone', 'freddy')\n"
          ]
        },
        {
          "name": "stderr",
          "output_type": "stream",
          "text": [
            "INFO:sqlalchemy.engine.Engine:[cached since 179s ago] ('fred', 'Fred Flintstone', 'freddy')\n"
          ]
        },
        {
          "name": "stdout",
          "output_type": "stream",
          "text": [
            "2023-04-24 16:51:55,133 INFO sqlalchemy.engine.Engine COMMIT\n"
          ]
        },
        {
          "name": "stderr",
          "output_type": "stream",
          "text": [
            "INFO:sqlalchemy.engine.Engine:COMMIT\n"
          ]
        }
      ],
      "source": [
        "#commits all changes to the DB, outputs resulting SQL code as well\n",
        "session.commit()"
      ]
    },
    {
      "cell_type": "code",
      "execution_count": null,
      "metadata": {
        "colab": {
          "base_uri": "https://localhost:8080/"
        },
        "id": "DAVKQ5_TBUo8",
        "outputId": "8e4aaaa6-25f7-45d9-d6d2-70eec1306e43"
      },
      "outputs": [
        {
          "name": "stdout",
          "output_type": "stream",
          "text": [
            "2023-04-24 16:53:40,348 INFO sqlalchemy.engine.Engine BEGIN (implicit)\n"
          ]
        },
        {
          "name": "stderr",
          "output_type": "stream",
          "text": [
            "INFO:sqlalchemy.engine.Engine:BEGIN (implicit)\n"
          ]
        },
        {
          "name": "stdout",
          "output_type": "stream",
          "text": [
            "2023-04-24 16:53:40,353 INFO sqlalchemy.engine.Engine SELECT users.id AS users_id, users.name AS users_name, users.fullname AS users_fullname, users.nickname AS users_nickname \n",
            "FROM users ORDER BY users.id\n"
          ]
        },
        {
          "name": "stderr",
          "output_type": "stream",
          "text": [
            "INFO:sqlalchemy.engine.Engine:SELECT users.id AS users_id, users.name AS users_name, users.fullname AS users_fullname, users.nickname AS users_nickname \n",
            "FROM users ORDER BY users.id\n"
          ]
        },
        {
          "name": "stdout",
          "output_type": "stream",
          "text": [
            "2023-04-24 16:53:40,358 INFO sqlalchemy.engine.Engine [generated in 0.00568s] ()\n"
          ]
        },
        {
          "name": "stderr",
          "output_type": "stream",
          "text": [
            "INFO:sqlalchemy.engine.Engine:[generated in 0.00568s] ()\n"
          ]
        },
        {
          "name": "stdout",
          "output_type": "stream",
          "text": [
            "ed Ed Jones\n",
            "wendy Wendy Williams\n",
            "mary Mary Contrary\n",
            "fred Fred Flintstone\n"
          ]
        }
      ],
      "source": [
        "for user in session.query(User).order_by(User.id):\n",
        "  print(user.name, user.fullname)"
      ]
    },
    {
      "cell_type": "code",
      "execution_count": null,
      "metadata": {
        "colab": {
          "base_uri": "https://localhost:8080/"
        },
        "id": "y7f03HB4Bzga",
        "outputId": "0bac3935-f8f9-477b-8fb5-bc5aecbf1c69"
      },
      "outputs": [
        {
          "name": "stdout",
          "output_type": "stream",
          "text": [
            "2023-04-24 17:06:41,375 INFO sqlalchemy.engine.Engine SELECT users.id AS users_id, users.name AS users_name, users.fullname AS users_fullname, users.nickname AS users_nickname \n",
            "FROM users ORDER BY users.id\n",
            " LIMIT ? OFFSET ?\n"
          ]
        },
        {
          "name": "stderr",
          "output_type": "stream",
          "text": [
            "INFO:sqlalchemy.engine.Engine:SELECT users.id AS users_id, users.name AS users_name, users.fullname AS users_fullname, users.nickname AS users_nickname \n",
            "FROM users ORDER BY users.id\n",
            " LIMIT ? OFFSET ?\n"
          ]
        },
        {
          "name": "stdout",
          "output_type": "stream",
          "text": [
            "2023-04-24 17:06:41,379 INFO sqlalchemy.engine.Engine [generated in 0.00411s] (2, 1)\n"
          ]
        },
        {
          "name": "stderr",
          "output_type": "stream",
          "text": [
            "INFO:sqlalchemy.engine.Engine:[generated in 0.00411s] (2, 1)\n"
          ]
        },
        {
          "name": "stdout",
          "output_type": "stream",
          "text": [
            "<User(name='wendy', fullname='Wendy Williams', nickname='windy')>\n",
            "<User(name='mary', fullname='Mary Contrary', nickname='mary')>\n"
          ]
        }
      ],
      "source": [
        "for u in session.query(User).order_by(User.id)[1:3]:\n",
        "  print(u)\n"
      ]
    },
    {
      "cell_type": "code",
      "execution_count": null,
      "metadata": {
        "colab": {
          "base_uri": "https://localhost:8080/"
        },
        "id": "HzJy8e9PB6tg",
        "outputId": "45fd24bf-f0c0-4d0d-8c21-cd34bb8c1cc2"
      },
      "outputs": [
        {
          "name": "stdout",
          "output_type": "stream",
          "text": [
            "2023-04-24 17:17:35,699 INFO sqlalchemy.engine.Engine SELECT users.name AS users_name \n",
            "FROM users \n",
            "WHERE users.name = ?\n"
          ]
        },
        {
          "name": "stderr",
          "output_type": "stream",
          "text": [
            "INFO:sqlalchemy.engine.Engine:SELECT users.name AS users_name \n",
            "FROM users \n",
            "WHERE users.name = ?\n"
          ]
        },
        {
          "name": "stdout",
          "output_type": "stream",
          "text": [
            "2023-04-24 17:17:35,716 INFO sqlalchemy.engine.Engine [generated in 0.01719s] ('Ed Jones',)\n"
          ]
        },
        {
          "name": "stderr",
          "output_type": "stream",
          "text": [
            "INFO:sqlalchemy.engine.Engine:[generated in 0.01719s] ('Ed Jones',)\n"
          ]
        }
      ],
      "source": [
        "for (name,) in session.query(User.name).filter(User.name==\"Ed Jones\"):\n",
        "  print(name)"
      ]
    },
    {
      "cell_type": "code",
      "execution_count": null,
      "metadata": {
        "id": "q2rv2VNTu-K8"
      },
      "outputs": [],
      "source": [
        "#alternatively, if you have an existing DB:\n",
        "params = urllib.parse.quote_plus(\"DRIVER={SQL Server Native Client 11.0};\"\n",
        "                                 \"SERVER=localhost\\SQLEXPRESS;\"\n",
        "                                 \"DATABASE=master;\"\n",
        "                                 \"Trusted_Connection=yes\")\n",
        "\n",
        "## Connect using the specified parameters\n",
        "engine = sa.create_engine(\"mssql+pyodbc:///?odbc_connect={}\".format(params))\n"
      ]
    },
    {
      "cell_type": "code",
      "execution_count": null,
      "metadata": {
        "id": "7HzIsIV3vH36"
      },
      "outputs": [],
      "source": [
        "## Query to pull data\n",
        "timeSeries_query = \"\"\"\n",
        "SELECT *\n",
        "FROM\n",
        "\tSales\n",
        "WHERE InvoiceDate BETWEEN '2010-12-01' AND '2011-01-01'\n",
        "GROUP BY InvoiceDate, Description\n",
        "ORDER BY InvoiceDate\n",
        "\"\"\"\n",
        "## Pull data using pandas\n",
        "df_series = pd.read_sql(timeSeries_query, engine)\n",
        "df_series['InvoiceDate'] = pd.to_datetime(df_series['InvoiceDate'])\n"
      ]
    }
  ],
  "metadata": {
    "colab": {
      "provenance": []
    },
    "kernelspec": {
      "display_name": "Python 3",
      "name": "python3"
    },
    "language_info": {
      "codemirror_mode": {
        "name": "ipython",
        "version": 3
      },
      "file_extension": ".py",
      "mimetype": "text/x-python",
      "name": "python",
      "nbconvert_exporter": "python",
      "pygments_lexer": "ipython3",
      "version": "3.9.6"
    }
  },
  "nbformat": 4,
  "nbformat_minor": 0
}
