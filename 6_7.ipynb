{
  "cells": [
    {
      "cell_type": "code",
      "execution_count": null,
      "metadata": {
        "id": "o_3sWjYMWnSG"
      },
      "outputs": [],
      "source": []
    },
    {
      "attachments": {},
      "cell_type": "markdown",
      "metadata": {
        "id": "Xj6qpLnjN_8b"
      },
      "source": [
        "<a href=\"https://codeimmersives.com\"><img src = \"https://www.codeimmersives.com/wp-content/uploads/2019/09/CodeImmersives_Logo_RGB_NYC_BW.png\" width = 400> </a>\n",
        "\n",
        "\n",
        "<h1 align=center><font size = 5>Agenda</font></h1>"
      ]
    },
    {
      "attachments": {},
      "cell_type": "markdown",
      "metadata": {
        "id": "19LfV4dNN_8d"
      },
      "source": [
        "### \n",
        "<div class=\"alert alert-block alert-info\" style=\"margin-top: 20px\">\n",
        "\n",
        "1.  [Review](#0)<br>\n",
        "2.  [Pandas continued](#2)<br>\n",
        "2.  [Exercise](#10)<br> \n",
        "3.  [Exercise](#12)<br>     \n",
        "</div>\n",
        "<hr>"
      ]
    },
    {
      "attachments": {},
      "cell_type": "markdown",
      "metadata": {
        "id": "pvX1dOXgN_8d"
      },
      "source": [
        "<h2>Review</h2>"
      ]
    },
    {
      "attachments": {},
      "cell_type": "markdown",
      "metadata": {
        "id": "fPu9Ax0SN_8d"
      },
      "source": [
        "<h2>Exercise</h2>\n",
        "Create a pandas data series with every lower case letter of the alphabet<br>\n",
        "with the ascii number as the index.<br>\n",
        "Use alphabet_string = string.ascii_lowercase for a list of letters."
      ]
    },
    {
      "attachments": {},
      "cell_type": "markdown",
      "metadata": {
        "id": "XtYXJkM9N_8d"
      },
      "source": [
        "<h4>Solution</h4>"
      ]
    },
    {
      "cell_type": "code",
      "execution_count": 1,
      "metadata": {
        "colab": {
          "base_uri": "https://localhost:8080/"
        },
        "id": "UIGTrlYON_8e",
        "outputId": "c1b80e58-275a-4798-d0f0-c8dae3caa965"
      },
      "outputs": [
        {
          "data": {
            "text/plain": [
              "97     a\n",
              "98     b\n",
              "99     c\n",
              "100    d\n",
              "101    e\n",
              "102    f\n",
              "103    g\n",
              "104    h\n",
              "105    i\n",
              "106    j\n",
              "107    k\n",
              "108    l\n",
              "109    m\n",
              "110    n\n",
              "111    o\n",
              "112    p\n",
              "113    q\n",
              "114    r\n",
              "115    s\n",
              "116    t\n",
              "117    u\n",
              "118    v\n",
              "119    w\n",
              "120    x\n",
              "121    y\n",
              "122    z\n",
              "dtype: object"
            ]
          },
          "execution_count": 1,
          "metadata": {},
          "output_type": "execute_result"
        }
      ],
      "source": [
        "import pandas as pd\n",
        "import string\n",
        "alphabet_string = string.ascii_lowercase\n",
        "alphabet_list = list(alphabet_string)\n",
        "ords = []\n",
        "for i in alphabet_list:\n",
        "  ords.append(ord(i))\n",
        "x = pd.Series(alphabet_list, index = ords)\n",
        "x\n"
      ]
    },
    {
      "attachments": {},
      "cell_type": "markdown",
      "metadata": {
        "id": "Fyell7H_N_8f"
      },
      "source": [
        "<h2>Exercise</h2>\n",
        "<br>\n",
        "<code>\n",
        "cusips = ['A123456','C711111','P90909A','VG20000']<br>\n",
        "bonds = ['AAA - CLO Bonds','TRANCHE C Rated bond','Vanilla Repo 2.3%','ETF Russell 1000']<br>\n",
        "</code><br>\n",
        "Create a pandas  series with cusips as index and bond as the value and locate the bond with this cusip 'P90909A' as the index.\n",
        "<br>\n",
        "NOTE: loc uses square brackets"
      ]
    },
    {
      "attachments": {},
      "cell_type": "markdown",
      "metadata": {
        "id": "5gBllPBkN_8g"
      },
      "source": [
        "<h4>Solution</h4>"
      ]
    },
    {
      "cell_type": "code",
      "execution_count": 5,
      "metadata": {
        "colab": {
          "base_uri": "https://localhost:8080/",
          "height": 35
        },
        "id": "4iBCw12eN_8g",
        "outputId": "51375bf0-594a-43ba-d156-564cd587ef5e"
      },
      "outputs": [
        {
          "data": {
            "text/plain": [
              "'Vanilla Repo 2.3%'"
            ]
          },
          "execution_count": 5,
          "metadata": {},
          "output_type": "execute_result"
        }
      ],
      "source": [
        "cusips = ['A123456','C711111','P90909A','VG20000']\n",
        "bonds = ['AAA - CLO Bonds','TRANCHE C Rated bond','Vanilla Repo 2.3%','ETF Russell 1000']\n",
        "x = pd.Series(bonds, index = cusips)\n",
        "x.loc['P90909A']\n",
        "# x"
      ]
    },
    {
      "attachments": {},
      "cell_type": "markdown",
      "metadata": {
        "id": "UAnNO79QN_8h"
      },
      "source": [
        "<h2>Exercise</h2>\n",
        "Read in and clean the following list of data and place into a pandas series<br>\n",
        "without an index.  The numbers should be cast as int32 data.\n",
        "<br>\n",
        "<code>\n",
        "grades = ['68\\n', '90\\n', '69\\n', '86\\n', '78\\n', \n",
        "          '97\\n', '95\\n', '83\\n', '84\\n', '74\\n', \n",
        "          '84\\n', '71\\n', '79\\n', '82\\n', '79\\n', \n",
        "          '69\\n', '99\\n', '93\\n', '77\\n', '77\\n', \n",
        "          '75\\n', '83\\n', '86\\n', '89\\n', '76\\n', \n",
        "          '88\\n', '65\\n', '65\\n']\n",
        "</code><br>\n",
        "Finally, add 5 points to every grade"
      ]
    },
    {
      "attachments": {},
      "cell_type": "markdown",
      "metadata": {
        "id": "LkDu44OZN_8h"
      },
      "source": [
        "<h4>Solution</h4>"
      ]
    },
    {
      "cell_type": "code",
      "execution_count": 6,
      "metadata": {
        "id": "dCx7VIcnN_8h"
      },
      "outputs": [],
      "source": [
        "grades = ['68\\n', '90\\n', '69\\n', '86\\n', '78\\n', \n",
        "          '97\\n', '95\\n', '83\\n', '84\\n', '74\\n', \n",
        "          '84\\n', '71\\n', '79\\n', '82\\n', '79\\n', \n",
        "          '69\\n', '99\\n', '93\\n', '77\\n', '77\\n', \n",
        "          '75\\n', '83\\n', '86\\n', '89\\n', '76\\n', \n",
        "          '88\\n', '65\\n', '65\\n']"
      ]
    },
    {
      "cell_type": "code",
      "execution_count": 15,
      "metadata": {},
      "outputs": [
        {
          "data": {
            "text/plain": [
              "0      73\n",
              "1      95\n",
              "2      74\n",
              "3      91\n",
              "4      83\n",
              "5     102\n",
              "6     100\n",
              "7      88\n",
              "8      89\n",
              "9      79\n",
              "10     89\n",
              "11     76\n",
              "12     84\n",
              "13     87\n",
              "14     84\n",
              "15     74\n",
              "16    104\n",
              "17     98\n",
              "18     82\n",
              "19     82\n",
              "20     80\n",
              "21     88\n",
              "22     91\n",
              "23     94\n",
              "24     81\n",
              "25     93\n",
              "26     70\n",
              "27     70\n",
              "dtype: int32"
            ]
          },
          "execution_count": 15,
          "metadata": {},
          "output_type": "execute_result"
        }
      ],
      "source": [
        "# Remove whitespaces and convert grades to int32\n",
        "grades_cleaned = [int(grade.strip()) for grade in grades]\n",
        "\n",
        "# Add 5 points to each grade\n",
        "grades_updated = [grade + 5 for grade in grades_cleaned]\n",
        "\n",
        "# Create a Pandas Series\n",
        "grades_series = pd.Series(grades_updated, dtype=\"int32\")\n",
        "\n",
        "# Print the Series\n",
        "grades_series"
      ]
    },
    {
      "cell_type": "code",
      "execution_count": 14,
      "metadata": {},
      "outputs": [
        {
          "data": {
            "text/plain": [
              "0      73\n",
              "1      95\n",
              "2      74\n",
              "3      91\n",
              "4      83\n",
              "5     102\n",
              "6     100\n",
              "7      88\n",
              "8      89\n",
              "9      79\n",
              "10     89\n",
              "11     76\n",
              "12     84\n",
              "13     87\n",
              "14     84\n",
              "15     74\n",
              "16    104\n",
              "17     98\n",
              "18     82\n",
              "19     82\n",
              "20     80\n",
              "21     88\n",
              "22     91\n",
              "23     94\n",
              "24     81\n",
              "25     93\n",
              "26     70\n",
              "27     70\n",
              "dtype: int32"
            ]
          },
          "execution_count": 14,
          "metadata": {},
          "output_type": "execute_result"
        }
      ],
      "source": [
        "import pandas as pd\n",
        "\n",
        "# Removing whitespaces, create Pandas Series and add 5 points to each grade\n",
        "grades_ser = pd.Series([int(grade.strip()) for grade in grades], dtype=\"int32\") + 5\n",
        "\n",
        "grades_ser\n"
      ]
    },
    {
      "attachments": {},
      "cell_type": "markdown",
      "metadata": {
        "id": "8qRIba8qN_8i"
      },
      "source": [
        "<h2>Pandas Series Continued</h2>"
      ]
    },
    {
      "attachments": {},
      "cell_type": "markdown",
      "metadata": {
        "id": "LE45RCflN_8i"
      },
      "source": [
        "Using the index we can output a range of values based on the index.<br>\n",
        "Exercise: Print out the sales from April until July<br>\n",
        "<code>\n",
        "import pandas as pd\n",
        "sales = {'Jan': 150, 'Feb':200, 'Mar': 175,\n",
        "        'April': 75, 'May': 80, 'June': 300,\n",
        "        'July': 250, 'August':130, 'September': 195,\n",
        "        'October': 75, 'November': 120, 'December': 400}\n",
        "\n",
        "</code><br>\n",
        "NOTE: The loc method includes the last item listed in the range."
      ]
    },
    {
      "cell_type": "code",
      "execution_count": 21,
      "metadata": {
        "colab": {
          "base_uri": "https://localhost:8080/"
        },
        "id": "17TswQDXN_8j",
        "outputId": "32141948-ea7d-45fb-b2fe-bd4612fbfce6"
      },
      "outputs": [
        {
          "data": {
            "text/plain": [
              "April     75\n",
              "May       80\n",
              "June     300\n",
              "July     250\n",
              "dtype: int64"
            ]
          },
          "execution_count": 21,
          "metadata": {},
          "output_type": "execute_result"
        }
      ],
      "source": [
        "sales = {'Jan': 150, 'Feb':200, 'Mar': 175, 'April': 75, 'May': 80, 'June': 300, 'July': 250, 'August':130, 'September': 195, 'October': 75, 'November': 120, 'December': 400}\n",
        "sales_ser = pd.Series(sales)\n",
        "# sales_ser\n",
        "sales_ser['April':'July']"
      ]
    },
    {
      "attachments": {},
      "cell_type": "markdown",
      "metadata": {
        "id": "BJa9FVFHN_8j"
      },
      "source": [
        "<h2>Exercise</h2>\n",
        "Using the dictionary below do the following:<br>\n",
        "1 - Create a pandas data series<br>\n",
        "2 - Use a 3 character all caps month abbreviation as the index<br>\n",
        "3 - Add 50 to each sales number<br>\n",
        "4 - Print the first 6 months of sales<br>\n",
        "<code>\n",
        "import pandas as pd\n",
        "sales = {'January': 150, 'February':200, 'March': 175,\n",
        "        'April': 75, 'May': 80, 'June': 300,\n",
        "        'July': 250, 'August':130, 'September': 195,\n",
        "        'October': 75, 'November': 120, 'December': 400}\n",
        "</code>"
      ]
    },
    {
      "attachments": {},
      "cell_type": "markdown",
      "metadata": {
        "id": "i3dUg9RWN_8j"
      },
      "source": [
        "<h4>Soluton</h4>"
      ]
    },
    {
      "cell_type": "code",
      "execution_count": 24,
      "metadata": {},
      "outputs": [],
      "source": [
        "sales2 = {'January': 150, 'February':200, 'March': 175, 'April': 75, 'May': 80, 'June': 300, 'July': 250, 'August':130, 'September': 195, 'October': 75, 'November': 120, 'December': 400}"
      ]
    },
    {
      "cell_type": "code",
      "execution_count": 35,
      "metadata": {},
      "outputs": [
        {
          "data": {
            "text/plain": [
              "JAN    200\n",
              "FEB    250\n",
              "MAR    225\n",
              "APR    125\n",
              "MAY    130\n",
              "JUN    350\n",
              "dtype: int64"
            ]
          },
          "execution_count": 35,
          "metadata": {},
          "output_type": "execute_result"
        }
      ],
      "source": [
        "# Pandas Series with sales data + 50 to each value\n",
        "sales_series = pd.Series(sales2) + 50\n",
        "\n",
        "# Use 3-character all caps month abbreviation as the index\n",
        "sales_series.index = [month[:3].upper() for month in sales_series.index] \n",
        "\n",
        "# First 6 rows of the Series\n",
        "sales_series.head(6)"
      ]
    },
    {
      "attachments": {},
      "cell_type": "markdown",
      "metadata": {
        "id": "4KVFyuQ6N_8k"
      },
      "source": [
        "<h2>Pandas Series - Basic Statistics</h2>\n",
        "To gather basic statistics on a data Series we can use the built in<br>\n",
        "'.describe' method <br>\n",
        "<code>\n",
        "import pandas as pd\n",
        "sales = {'January': 150, 'February':200, 'March': 175,\n",
        "        'April': 75, 'May': 80, 'June': 300,\n",
        "        'July': 250, 'August':130, 'September': 195,\n",
        "        'October': 75, 'November': 120, 'December': 400}\n",
        "ps = pd.Series([int(val)+50 for val in sales.values()],\n",
        "               index = [mon.upper()[:3] for mon in sales.keys()])\n",
        "ps.describe()\n",
        "</code><br><br>\n",
        "This will give us the following statistics:<br>\n",
        "1 - count<br>\n",
        "2 - mean<br>\n",
        "3 - standard deviation<br>\n",
        "4 - minimum<br>\n",
        "5 - 25% quartile<br>\n",
        "6 - Median<br>\n",
        "7 - 75% quartile<br>\n",
        "5 - maximum<br>\n"
      ]
    },
    {
      "cell_type": "code",
      "execution_count": 37,
      "metadata": {
        "colab": {
          "base_uri": "https://localhost:8080/"
        },
        "id": "FTvbvGPLN_8k",
        "outputId": "cdfa881f-715b-4821-b2fc-d1b171555bd1"
      },
      "outputs": [
        {
          "data": {
            "text/plain": [
              "count     12.000000\n",
              "mean     179.166667\n",
              "std       98.807281\n",
              "min       75.000000\n",
              "25%      110.000000\n",
              "50%      162.500000\n",
              "75%      212.500000\n",
              "max      400.000000\n",
              "dtype: float64"
            ]
          },
          "execution_count": 37,
          "metadata": {},
          "output_type": "execute_result"
        }
      ],
      "source": [
        "sales = {'January': 150, 'February':200, 'March': 175, 'April': 75, 'May': 80, 'June': 300, 'July': 250, 'August':130, 'September': 195, 'October': 75, 'November': 120, 'December': 400}\n",
        "ps = pd.Series([int(val) for val in sales.values()], index = [mon.upper()[:3] for mon in sales.keys()])\n",
        "ps.describe()\n",
        "# ps"
      ]
    },
    {
      "attachments": {},
      "cell_type": "markdown",
      "metadata": {
        "id": "2kICHNNdN_8l"
      },
      "source": [
        "We can also get the same statistics by running the commands individually.<br>\n",
        "The list to run are as follows:<br>\n",
        "ps.mean()<br>\n",
        "ps.median()<br>\n",
        "ps.count()<br>\n",
        "ps.std()<br>\n",
        "ps.min()<br>\n",
        "ps.max()<br>\n",
        "ps.mode()<br>"
      ]
    },
    {
      "attachments": {},
      "cell_type": "markdown",
      "metadata": {
        "id": "otVCHPfON_8l"
      },
      "source": [
        "We can also get the quantile values as well using a pandas method<br>\n",
        "<code>\n",
        "import pandas as pd\n",
        "s = ['68', '90', '69', '86', '78', '97', '95', '83', '84', '74', '84', \n",
        "     '71', '79', '82', '79', '69', '99', '93', '77', '77', '75', '83', \n",
        "     '86', '89', '76', '88', '65', '65']\n",
        "ps = pd.Series(s).astype('int64')\n",
        "ps = ps.quantile([.25, .5, .75])\n",
        "ps\n",
        "</code>"
      ]
    },
    {
      "cell_type": "code",
      "execution_count": null,
      "metadata": {
        "colab": {
          "base_uri": "https://localhost:8080/"
        },
        "id": "IwWs9tUkN_8l",
        "outputId": "6ca521f3-419f-4e8e-ca05-3f4266febb08"
      },
      "outputs": [
        {
          "data": {
            "text/plain": [
              "0.1    68.7\n",
              "0.2    72.2\n",
              "0.3    76.1\n",
              "0.4    77.8\n",
              "0.5    80.5\n",
              "0.6    83.2\n",
              "0.7    85.8\n",
              "0.8    88.6\n",
              "0.9    93.6\n",
              "dtype: float64"
            ]
          },
          "execution_count": 11,
          "metadata": {},
          "output_type": "execute_result"
        }
      ],
      "source": [
        "s = ['68', '90', '69', '86', '78', '97', '95', '83', '84', '74', '84', '71', '79', '82', '79', '69', '99', '93', '77', '77', '75', '83', '86', '89', '76', '88', '65', '65']\n",
        "ps = pd.Series(s).astype('int64')\n",
        "ps = ps.quantile([.1, .2,.3,.4,.5,.6,.7,.8,.9])\n",
        "ps"
      ]
    },
    {
      "cell_type": "code",
      "execution_count": null,
      "metadata": {
        "id": "ng1lO76CN_8l"
      },
      "outputs": [],
      "source": []
    },
    {
      "attachments": {},
      "cell_type": "markdown",
      "metadata": {
        "id": "hQGcb6RGn9d7"
      },
      "source": [
        "<h2>Exercise</h2>\n",
        "Revisiting president heights. \n",
        "\n",
        "1.   Use Pandas statistics to descibe the data. \n",
        "\n",
        "2.   Sort the president heights into quartiles. \n",
        "\n",
        "3. Use a plot of your choice to visualize  the resulting quartiles. \n",
        "\n"
      ]
    },
    {
      "cell_type": "code",
      "execution_count": 58,
      "metadata": {
        "id": "GIQs98lXXAuK"
      },
      "outputs": [
        {
          "data": {
            "text/html": [
              "<div>\n",
              "<style scoped>\n",
              "    .dataframe tbody tr th:only-of-type {\n",
              "        vertical-align: middle;\n",
              "    }\n",
              "\n",
              "    .dataframe tbody tr th {\n",
              "        vertical-align: top;\n",
              "    }\n",
              "\n",
              "    .dataframe thead th {\n",
              "        text-align: right;\n",
              "    }\n",
              "</style>\n",
              "<table border=\"1\" class=\"dataframe\">\n",
              "  <thead>\n",
              "    <tr style=\"text-align: right;\">\n",
              "      <th></th>\n",
              "      <th>order</th>\n",
              "      <th>name</th>\n",
              "      <th>height(cm)</th>\n",
              "    </tr>\n",
              "  </thead>\n",
              "  <tbody>\n",
              "    <tr>\n",
              "      <th>37</th>\n",
              "      <td>40</td>\n",
              "      <td>Ronald Reagan</td>\n",
              "      <td>185</td>\n",
              "    </tr>\n",
              "    <tr>\n",
              "      <th>38</th>\n",
              "      <td>41</td>\n",
              "      <td>George H. W. Bush</td>\n",
              "      <td>188</td>\n",
              "    </tr>\n",
              "    <tr>\n",
              "      <th>39</th>\n",
              "      <td>42</td>\n",
              "      <td>Bill Clinton</td>\n",
              "      <td>188</td>\n",
              "    </tr>\n",
              "    <tr>\n",
              "      <th>40</th>\n",
              "      <td>43</td>\n",
              "      <td>George W. Bush</td>\n",
              "      <td>182</td>\n",
              "    </tr>\n",
              "    <tr>\n",
              "      <th>41</th>\n",
              "      <td>44</td>\n",
              "      <td>Barack Obama</td>\n",
              "      <td>185</td>\n",
              "    </tr>\n",
              "  </tbody>\n",
              "</table>\n",
              "</div>"
            ],
            "text/plain": [
              "    order               name  height(cm)\n",
              "37     40      Ronald Reagan         185\n",
              "38     41  George H. W. Bush         188\n",
              "39     42       Bill Clinton         188\n",
              "40     43     George W. Bush         182\n",
              "41     44       Barack Obama         185"
            ]
          },
          "execution_count": 58,
          "metadata": {},
          "output_type": "execute_result"
        }
      ],
      "source": [
        "import pandas as pd\n",
        "import numpy as np\n",
        "data = pd.read_csv('president_heights.csv')\n",
        "heights = np.array(data['height(cm)'])\n",
        "data.tail()"
      ]
    },
    {
      "cell_type": "code",
      "execution_count": 59,
      "metadata": {},
      "outputs": [
        {
          "data": {
            "text/html": [
              "<div>\n",
              "<style scoped>\n",
              "    .dataframe tbody tr th:only-of-type {\n",
              "        vertical-align: middle;\n",
              "    }\n",
              "\n",
              "    .dataframe tbody tr th {\n",
              "        vertical-align: top;\n",
              "    }\n",
              "\n",
              "    .dataframe thead th {\n",
              "        text-align: right;\n",
              "    }\n",
              "</style>\n",
              "<table border=\"1\" class=\"dataframe\">\n",
              "  <thead>\n",
              "    <tr style=\"text-align: right;\">\n",
              "      <th></th>\n",
              "      <th>order</th>\n",
              "      <th>height(cm)</th>\n",
              "    </tr>\n",
              "  </thead>\n",
              "  <tbody>\n",
              "    <tr>\n",
              "      <th>count</th>\n",
              "      <td>42.000000</td>\n",
              "      <td>42.000000</td>\n",
              "    </tr>\n",
              "    <tr>\n",
              "      <th>mean</th>\n",
              "      <td>22.476190</td>\n",
              "      <td>179.738095</td>\n",
              "    </tr>\n",
              "    <tr>\n",
              "      <th>std</th>\n",
              "      <td>13.152461</td>\n",
              "      <td>7.015869</td>\n",
              "    </tr>\n",
              "    <tr>\n",
              "      <th>min</th>\n",
              "      <td>1.000000</td>\n",
              "      <td>163.000000</td>\n",
              "    </tr>\n",
              "    <tr>\n",
              "      <th>25%</th>\n",
              "      <td>11.250000</td>\n",
              "      <td>174.250000</td>\n",
              "    </tr>\n",
              "    <tr>\n",
              "      <th>50%</th>\n",
              "      <td>22.000000</td>\n",
              "      <td>182.000000</td>\n",
              "    </tr>\n",
              "    <tr>\n",
              "      <th>75%</th>\n",
              "      <td>33.750000</td>\n",
              "      <td>183.000000</td>\n",
              "    </tr>\n",
              "    <tr>\n",
              "      <th>max</th>\n",
              "      <td>44.000000</td>\n",
              "      <td>193.000000</td>\n",
              "    </tr>\n",
              "  </tbody>\n",
              "</table>\n",
              "</div>"
            ],
            "text/plain": [
              "           order  height(cm)\n",
              "count  42.000000   42.000000\n",
              "mean   22.476190  179.738095\n",
              "std    13.152461    7.015869\n",
              "min     1.000000  163.000000\n",
              "25%    11.250000  174.250000\n",
              "50%    22.000000  182.000000\n",
              "75%    33.750000  183.000000\n",
              "max    44.000000  193.000000"
            ]
          },
          "execution_count": 59,
          "metadata": {},
          "output_type": "execute_result"
        }
      ],
      "source": [
        "# Read the CSV file into a DataFrame\n",
        "data = pd.read_csv('president_heights.csv')\n",
        "\n",
        "# Describe the DataFrame to see the summary statistics\n",
        "data.describe()"
      ]
    },
    {
      "cell_type": "code",
      "execution_count": 61,
      "metadata": {},
      "outputs": [
        {
          "data": {
            "text/html": [
              "<div>\n",
              "<style scoped>\n",
              "    .dataframe tbody tr th:only-of-type {\n",
              "        vertical-align: middle;\n",
              "    }\n",
              "\n",
              "    .dataframe tbody tr th {\n",
              "        vertical-align: top;\n",
              "    }\n",
              "\n",
              "    .dataframe thead th {\n",
              "        text-align: right;\n",
              "    }\n",
              "</style>\n",
              "<table border=\"1\" class=\"dataframe\">\n",
              "  <thead>\n",
              "    <tr style=\"text-align: right;\">\n",
              "      <th></th>\n",
              "      <th>order</th>\n",
              "      <th>name</th>\n",
              "      <th>height(cm)</th>\n",
              "    </tr>\n",
              "  </thead>\n",
              "  <tbody>\n",
              "    <tr>\n",
              "      <th>0</th>\n",
              "      <td>1</td>\n",
              "      <td>George Washington</td>\n",
              "      <td>189</td>\n",
              "    </tr>\n",
              "    <tr>\n",
              "      <th>1</th>\n",
              "      <td>2</td>\n",
              "      <td>John Adams</td>\n",
              "      <td>170</td>\n",
              "    </tr>\n",
              "    <tr>\n",
              "      <th>2</th>\n",
              "      <td>3</td>\n",
              "      <td>Thomas Jefferson</td>\n",
              "      <td>189</td>\n",
              "    </tr>\n",
              "    <tr>\n",
              "      <th>3</th>\n",
              "      <td>4</td>\n",
              "      <td>James Madison</td>\n",
              "      <td>163</td>\n",
              "    </tr>\n",
              "    <tr>\n",
              "      <th>4</th>\n",
              "      <td>5</td>\n",
              "      <td>James Monroe</td>\n",
              "      <td>183</td>\n",
              "    </tr>\n",
              "    <tr>\n",
              "      <th>5</th>\n",
              "      <td>6</td>\n",
              "      <td>John Quincy Adams</td>\n",
              "      <td>171</td>\n",
              "    </tr>\n",
              "    <tr>\n",
              "      <th>6</th>\n",
              "      <td>7</td>\n",
              "      <td>Andrew Jackson</td>\n",
              "      <td>185</td>\n",
              "    </tr>\n",
              "    <tr>\n",
              "      <th>7</th>\n",
              "      <td>8</td>\n",
              "      <td>Martin Van Buren</td>\n",
              "      <td>168</td>\n",
              "    </tr>\n",
              "    <tr>\n",
              "      <th>8</th>\n",
              "      <td>9</td>\n",
              "      <td>William Henry Harrison</td>\n",
              "      <td>173</td>\n",
              "    </tr>\n",
              "    <tr>\n",
              "      <th>9</th>\n",
              "      <td>10</td>\n",
              "      <td>John Tyler</td>\n",
              "      <td>183</td>\n",
              "    </tr>\n",
              "    <tr>\n",
              "      <th>10</th>\n",
              "      <td>11</td>\n",
              "      <td>James K. Polk</td>\n",
              "      <td>173</td>\n",
              "    </tr>\n",
              "    <tr>\n",
              "      <th>11</th>\n",
              "      <td>12</td>\n",
              "      <td>Zachary Taylor</td>\n",
              "      <td>173</td>\n",
              "    </tr>\n",
              "    <tr>\n",
              "      <th>12</th>\n",
              "      <td>13</td>\n",
              "      <td>Millard Fillmore</td>\n",
              "      <td>175</td>\n",
              "    </tr>\n",
              "    <tr>\n",
              "      <th>13</th>\n",
              "      <td>14</td>\n",
              "      <td>Franklin Pierce</td>\n",
              "      <td>178</td>\n",
              "    </tr>\n",
              "    <tr>\n",
              "      <th>14</th>\n",
              "      <td>15</td>\n",
              "      <td>James Buchanan</td>\n",
              "      <td>183</td>\n",
              "    </tr>\n",
              "    <tr>\n",
              "      <th>15</th>\n",
              "      <td>16</td>\n",
              "      <td>Abraham Lincoln</td>\n",
              "      <td>193</td>\n",
              "    </tr>\n",
              "    <tr>\n",
              "      <th>16</th>\n",
              "      <td>17</td>\n",
              "      <td>Andrew Johnson</td>\n",
              "      <td>178</td>\n",
              "    </tr>\n",
              "    <tr>\n",
              "      <th>17</th>\n",
              "      <td>18</td>\n",
              "      <td>Ulysses S. Grant</td>\n",
              "      <td>173</td>\n",
              "    </tr>\n",
              "    <tr>\n",
              "      <th>18</th>\n",
              "      <td>19</td>\n",
              "      <td>Rutherford B. Hayes</td>\n",
              "      <td>174</td>\n",
              "    </tr>\n",
              "    <tr>\n",
              "      <th>19</th>\n",
              "      <td>20</td>\n",
              "      <td>James A. Garfield</td>\n",
              "      <td>183</td>\n",
              "    </tr>\n",
              "    <tr>\n",
              "      <th>20</th>\n",
              "      <td>21</td>\n",
              "      <td>Chester A. Arthur</td>\n",
              "      <td>183</td>\n",
              "    </tr>\n",
              "    <tr>\n",
              "      <th>21</th>\n",
              "      <td>23</td>\n",
              "      <td>Benjamin Harrison</td>\n",
              "      <td>168</td>\n",
              "    </tr>\n",
              "    <tr>\n",
              "      <th>22</th>\n",
              "      <td>25</td>\n",
              "      <td>William McKinley</td>\n",
              "      <td>170</td>\n",
              "    </tr>\n",
              "    <tr>\n",
              "      <th>23</th>\n",
              "      <td>26</td>\n",
              "      <td>Theodore Roosevelt</td>\n",
              "      <td>178</td>\n",
              "    </tr>\n",
              "    <tr>\n",
              "      <th>24</th>\n",
              "      <td>27</td>\n",
              "      <td>William Howard Taft</td>\n",
              "      <td>182</td>\n",
              "    </tr>\n",
              "    <tr>\n",
              "      <th>25</th>\n",
              "      <td>28</td>\n",
              "      <td>Woodrow Wilson</td>\n",
              "      <td>180</td>\n",
              "    </tr>\n",
              "    <tr>\n",
              "      <th>26</th>\n",
              "      <td>29</td>\n",
              "      <td>Warren G. Harding</td>\n",
              "      <td>183</td>\n",
              "    </tr>\n",
              "    <tr>\n",
              "      <th>27</th>\n",
              "      <td>30</td>\n",
              "      <td>Calvin Coolidge</td>\n",
              "      <td>178</td>\n",
              "    </tr>\n",
              "    <tr>\n",
              "      <th>28</th>\n",
              "      <td>31</td>\n",
              "      <td>Herbert Hoover</td>\n",
              "      <td>182</td>\n",
              "    </tr>\n",
              "    <tr>\n",
              "      <th>29</th>\n",
              "      <td>32</td>\n",
              "      <td>Franklin D. Roosevelt</td>\n",
              "      <td>188</td>\n",
              "    </tr>\n",
              "    <tr>\n",
              "      <th>30</th>\n",
              "      <td>33</td>\n",
              "      <td>Harry S. Truman</td>\n",
              "      <td>175</td>\n",
              "    </tr>\n",
              "    <tr>\n",
              "      <th>31</th>\n",
              "      <td>34</td>\n",
              "      <td>Dwight D. Eisenhower</td>\n",
              "      <td>179</td>\n",
              "    </tr>\n",
              "    <tr>\n",
              "      <th>32</th>\n",
              "      <td>35</td>\n",
              "      <td>John F. Kennedy</td>\n",
              "      <td>183</td>\n",
              "    </tr>\n",
              "    <tr>\n",
              "      <th>33</th>\n",
              "      <td>36</td>\n",
              "      <td>Lyndon B. Johnson</td>\n",
              "      <td>193</td>\n",
              "    </tr>\n",
              "    <tr>\n",
              "      <th>34</th>\n",
              "      <td>37</td>\n",
              "      <td>Richard Nixon</td>\n",
              "      <td>182</td>\n",
              "    </tr>\n",
              "    <tr>\n",
              "      <th>35</th>\n",
              "      <td>38</td>\n",
              "      <td>Gerald Ford</td>\n",
              "      <td>183</td>\n",
              "    </tr>\n",
              "    <tr>\n",
              "      <th>36</th>\n",
              "      <td>39</td>\n",
              "      <td>Jimmy Carter</td>\n",
              "      <td>177</td>\n",
              "    </tr>\n",
              "    <tr>\n",
              "      <th>37</th>\n",
              "      <td>40</td>\n",
              "      <td>Ronald Reagan</td>\n",
              "      <td>185</td>\n",
              "    </tr>\n",
              "    <tr>\n",
              "      <th>38</th>\n",
              "      <td>41</td>\n",
              "      <td>George H. W. Bush</td>\n",
              "      <td>188</td>\n",
              "    </tr>\n",
              "    <tr>\n",
              "      <th>39</th>\n",
              "      <td>42</td>\n",
              "      <td>Bill Clinton</td>\n",
              "      <td>188</td>\n",
              "    </tr>\n",
              "    <tr>\n",
              "      <th>40</th>\n",
              "      <td>43</td>\n",
              "      <td>George W. Bush</td>\n",
              "      <td>182</td>\n",
              "    </tr>\n",
              "    <tr>\n",
              "      <th>41</th>\n",
              "      <td>44</td>\n",
              "      <td>Barack Obama</td>\n",
              "      <td>185</td>\n",
              "    </tr>\n",
              "  </tbody>\n",
              "</table>\n",
              "</div>"
            ],
            "text/plain": [
              "    order                    name  height(cm)\n",
              "0       1       George Washington         189\n",
              "1       2              John Adams         170\n",
              "2       3        Thomas Jefferson         189\n",
              "3       4           James Madison         163\n",
              "4       5            James Monroe         183\n",
              "5       6       John Quincy Adams         171\n",
              "6       7          Andrew Jackson         185\n",
              "7       8        Martin Van Buren         168\n",
              "8       9  William Henry Harrison         173\n",
              "9      10              John Tyler         183\n",
              "10     11           James K. Polk         173\n",
              "11     12          Zachary Taylor         173\n",
              "12     13        Millard Fillmore         175\n",
              "13     14         Franklin Pierce         178\n",
              "14     15          James Buchanan         183\n",
              "15     16         Abraham Lincoln         193\n",
              "16     17          Andrew Johnson         178\n",
              "17     18        Ulysses S. Grant         173\n",
              "18     19     Rutherford B. Hayes         174\n",
              "19     20       James A. Garfield         183\n",
              "20     21       Chester A. Arthur         183\n",
              "21     23       Benjamin Harrison         168\n",
              "22     25        William McKinley         170\n",
              "23     26      Theodore Roosevelt         178\n",
              "24     27     William Howard Taft         182\n",
              "25     28          Woodrow Wilson         180\n",
              "26     29       Warren G. Harding         183\n",
              "27     30         Calvin Coolidge         178\n",
              "28     31          Herbert Hoover         182\n",
              "29     32   Franklin D. Roosevelt         188\n",
              "30     33         Harry S. Truman         175\n",
              "31     34    Dwight D. Eisenhower         179\n",
              "32     35         John F. Kennedy         183\n",
              "33     36       Lyndon B. Johnson         193\n",
              "34     37           Richard Nixon         182\n",
              "35     38             Gerald Ford         183\n",
              "36     39            Jimmy Carter         177\n",
              "37     40           Ronald Reagan         185\n",
              "38     41       George H. W. Bush         188\n",
              "39     42            Bill Clinton         188\n",
              "40     43          George W. Bush         182\n",
              "41     44            Barack Obama         185"
            ]
          },
          "execution_count": 61,
          "metadata": {},
          "output_type": "execute_result"
        }
      ],
      "source": [
        "df = pd.DataFrame(data)\n",
        "df"
      ]
    },
    {
      "cell_type": "code",
      "execution_count": 63,
      "metadata": {},
      "outputs": [
        {
          "data": {
            "text/plain": [
              "0.25    174.25\n",
              "0.50    182.00\n",
              "0.75    183.00\n",
              "Name: height(cm), dtype: float64"
            ]
          },
          "execution_count": 63,
          "metadata": {},
          "output_type": "execute_result"
        }
      ],
      "source": [
        "quartiles = df['height(cm)'].quantile([0.25, 0.5, 0.75])\n",
        "quartiles"
      ]
    },
    {
      "cell_type": "code",
      "execution_count": 64,
      "metadata": {},
      "outputs": [
        {
          "data": {
            "image/png": "[encoded data removed]",
            "text/plain": [
              "<Figure size 800x600 with 1 Axes>"
            ]
          },
          "metadata": {},
          "output_type": "display_data"
        }
      ],
      "source": [
        "import matplotlib.pyplot as plt\n",
        "\n",
        "plt.figure(figsize=(8, 6))\n",
        "df['height(cm)'].plot(kind='box', vert=False)\n",
        "plt.scatter(quartiles, [0.5, 0.5, 0.5], color='red', marker='s', label='Quartiles')\n",
        "plt.xlabel('Height (cm)')\n",
        "plt.title('Distribution of President Heights')\n",
        "plt.legend()\n",
        "plt.show()"
      ]
    },
    {
      "attachments": {},
      "cell_type": "markdown",
      "metadata": {
        "id": "uWn4NSsqN_8l"
      },
      "source": [
        "This notebook is part of a course at www.codeimmersives.com called Data Science. If you accessed this notebook outside the course, you can get more information about this course online by clicking here."
      ]
    },
    {
      "attachments": {},
      "cell_type": "markdown",
      "metadata": {
        "id": "mthE-mlQN_8l"
      },
      "source": [
        "<hr>\n",
        "\n",
        "Copyright &copy; 2021  Code Immersives"
      ]
    }
  ],
  "metadata": {
    "colab": {
      "provenance": []
    },
    "kernelspec": {
      "display_name": "Python 3",
      "name": "python3"
    },
    "language_info": {
      "codemirror_mode": {
        "name": "ipython",
        "version": 3
      },
      "file_extension": ".py",
      "mimetype": "text/x-python",
      "name": "python",
      "nbconvert_exporter": "python",
      "pygments_lexer": "ipython3",
      "version": "3.9.6"
    }
  },
  "nbformat": 4,
  "nbformat_minor": 0
}
