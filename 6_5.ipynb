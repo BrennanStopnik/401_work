{
  "nbformat": 4,
  "nbformat_minor": 0,
  "metadata": {
    "colab": {
      "provenance": []
    },
    "kernelspec": {
      "name": "python3",
      "display_name": "Python 3"
    },
    "language_info": {
      "name": "python"
    }
  },
  "cells": [
    {
      "cell_type": "code",
      "execution_count": null,
      "metadata": {
        "id": "xs6uZ3GBgisC"
      },
      "outputs": [],
      "source": []
    },
    {
      "cell_type": "markdown",
      "metadata": {
        "id": "fGeC890o8svo"
      },
      "source": [
        "<a href=\"https://codeimmersives.com\"><img src = \"https://www.codeimmersives.com/wp-content/uploads/2019/09/CodeImmersives_Logo_RGB_NYC_BW.png\" width = 400> </a>\n",
        "\n",
        "\n",
        "<h1 align=center><font size = 5>Agenda</font></h1>"
      ]
    },
    {
      "cell_type": "markdown",
      "metadata": {
        "id": "MbDlCnH38svq"
      },
      "source": [
        "### \n",
        "<div class=\"alert alert-block alert-info\" style=\"margin-top: 20px\">\n",
        "\n",
        "1.  [Review](#0)<br>\n",
        "2.  [Pandas](#2)<br>\n",
        "2.  [Exercise](#10)<br> \n",
        "3.  [Exercise](#12)<br>     \n",
        "</div>\n",
        "<hr>"
      ]
    },
    {
      "cell_type": "markdown",
      "metadata": {
        "id": "ErulIQ4D8svs"
      },
      "source": [
        "<h2>Pandas Overwiew</h2>"
      ]
    },
    {
      "cell_type": "markdown",
      "metadata": {
        "id": "Behn8FQa8svs"
      },
      "source": [
        "We use Pandas as the primary tool for analyzing data.  All of the functions we calculated<br>\n",
        "by hand earlier in this course are now given to you automatically using built in functions.<br>\n",
        "<br>\n",
        "The primary data structures used with Pandas are series and dataframes<br>\n",
        "The difference is that we use series for 1 dimensional data and we use dataframes for<br>\n",
        "multidimensional data.\n"
      ]
    },
    {
      "cell_type": "markdown",
      "metadata": {
        "id": "dUXWgOXy8svt"
      },
      "source": [
        "<h2>Pandas Series</h2>"
      ]
    },
    {
      "cell_type": "markdown",
      "metadata": {
        "id": "f6Ir1kSe8svt"
      },
      "source": [
        "To create a pandas data series do the following:<br>\n",
        "    <code>\n",
        "    import pandas as pd\n",
        "    x = pd.Series(range(1,10))\n",
        "    x\n",
        "    </code>\n",
        "Notice the capital letter in the Series"
      ]
    },
    {
      "cell_type": "code",
      "execution_count": null,
      "metadata": {
        "colab": {
          "base_uri": "https://localhost:8080/"
        },
        "id": "Wv53kTEd8svt",
        "outputId": "66734f3a-3fbf-410d-d94e-3cd08759256d"
      },
      "outputs": [
        {
          "output_type": "execute_result",
          "data": {
            "text/plain": [
              "0     5\n",
              "1     6\n",
              "2     7\n",
              "3     8\n",
              "4     9\n",
              "5    10\n",
              "6    11\n",
              "7    12\n",
              "8    13\n",
              "9    14\n",
              "dtype: int64"
            ]
          },
          "metadata": {},
          "execution_count": 2
        }
      ],
      "source": [
        "import pandas as pd \n",
        "x = pd.Series(range(5,15))\n",
        "x"
      ]
    },
    {
      "cell_type": "markdown",
      "source": [
        "Notice as well the index: the main difference between pandas series and numpy arrays. Oh but, what's this inside? A Numpy array!"
      ],
      "metadata": {
        "id": "GaNIXK1t_MGM"
      }
    },
    {
      "cell_type": "code",
      "source": [
        "x.values\n",
        "print(type(x.values))\n"
      ],
      "metadata": {
        "colab": {
          "base_uri": "https://localhost:8080/"
        },
        "id": "MgFiJimG_GuL",
        "outputId": "8df9674e-b05e-40da-d8c7-e609bb2e005a"
      },
      "execution_count": null,
      "outputs": [
        {
          "output_type": "stream",
          "name": "stdout",
          "text": [
            "<class 'numpy.ndarray'>\n"
          ]
        }
      ]
    },
    {
      "cell_type": "code",
      "source": [
        "x[0]\n",
        "x.values[2:4]"
      ],
      "metadata": {
        "colab": {
          "base_uri": "https://localhost:8080/"
        },
        "id": "Sj3r9MfY_T7r",
        "outputId": "af8abe5e-703c-41de-e662-a46c40f26da2"
      },
      "execution_count": null,
      "outputs": [
        {
          "output_type": "execute_result",
          "data": {
            "text/plain": [
              "5"
            ]
          },
          "metadata": {},
          "execution_count": 5
        }
      ]
    },
    {
      "cell_type": "markdown",
      "source": [
        "Pandas series house numpy arrays, but add a flexible indexing list. "
      ],
      "metadata": {
        "id": "T_1pMObw_TNh"
      }
    },
    {
      "cell_type": "markdown",
      "metadata": {
        "id": "o65FQgOG8svt"
      },
      "source": [
        "<h4>Data types</h4>\n"
      ]
    },
    {
      "cell_type": "markdown",
      "metadata": {
        "id": "Zg243qVP8svu"
      },
      "source": [
        "Let's try the same thing using charaters in a string<br>\n",
        "<code>\n",
        "import pandas as pd\n",
        "x = pd.Series(['Python'])\n",
        "x\n",
        "</code>"
      ]
    },
    {
      "cell_type": "code",
      "execution_count": null,
      "metadata": {
        "colab": {
          "base_uri": "https://localhost:8080/"
        },
        "id": "VqVmVYYs8svu",
        "outputId": "9acd7c81-f98b-4ccf-f27a-065b04bb2b91"
      },
      "outputs": [
        {
          "output_type": "execute_result",
          "data": {
            "text/plain": [
              "0    3\n",
              "1    4\n",
              "2    5\n",
              "dtype: int64"
            ]
          },
          "metadata": {},
          "execution_count": 9
        }
      ],
      "source": [
        "x = pd.Series([3,4,5]) \n",
        "x"
      ]
    },
    {
      "cell_type": "markdown",
      "metadata": {
        "id": "7Wd2F9V88svu"
      },
      "source": [
        "<h2>Exercise</h2>\n",
        "Store the string 'Learning Python is fun' as a string of characters to a pandas series and print the first letter of each word.<br>"
      ]
    },
    {
      "cell_type": "markdown",
      "metadata": {
        "id": "dx3PnpqD8svu"
      },
      "source": [
        "<h4>Solution</h4>"
      ]
    },
    {
      "cell_type": "code",
      "execution_count": null,
      "metadata": {
        "colab": {
          "base_uri": "https://localhost:8080/"
        },
        "id": "AeEvRlBQ8svv",
        "outputId": "e90e0498-b61a-44d9-aa5e-70d2b7ef8a0a"
      },
      "outputs": [
        {
          "output_type": "execute_result",
          "data": {
            "text/plain": [
              "0    Learning,Python,is,fun\n",
              "1                        hi\n",
              "2                       bye\n",
              "3                 undecided\n",
              "dtype: object"
            ]
          },
          "metadata": {},
          "execution_count": 27
        }
      ],
      "source": [
        "y = pd.Series(['Learning,Python,is,fun', 'hi', 'bye', 'undecided'])\n",
        "phrase = y[0]\n",
        "words = phrase.split(',')\n",
        "for word in words:\n",
        "  print(word[0])\n"
      ]
    },
    {
      "cell_type": "markdown",
      "source": [
        "<h4>The Index of Pandas Series</h4>\n",
        "Create your own indexing by specifying pd.Series([values],index = ['your', 'index', 'labels' 'here'])\n"
      ],
      "metadata": {
        "id": "rbCImhduAYVF"
      }
    },
    {
      "cell_type": "code",
      "source": [
        "data = pd.Series([0.25, 0.5, 0.75, 1.0],\n",
        "                 index=['joe', 'bob', 'alex', 'arthur'])\n",
        "data\n"
      ],
      "metadata": {
        "colab": {
          "base_uri": "https://localhost:8080/"
        },
        "id": "D3iufAIkAhL-",
        "outputId": "b0ed2cf0-ec9c-4776-8fb6-84f231378323"
      },
      "execution_count": null,
      "outputs": [
        {
          "output_type": "execute_result",
          "data": {
            "text/plain": [
              "joe       0.25\n",
              "bob       0.50\n",
              "alex      0.75\n",
              "arthur    1.00\n",
              "dtype: float64"
            ]
          },
          "metadata": {},
          "execution_count": 15
        }
      ]
    },
    {
      "cell_type": "markdown",
      "source": [
        "Rings like a dictionary? True!"
      ],
      "metadata": {
        "id": "sKyMBDb1BXap"
      }
    },
    {
      "cell_type": "code",
      "source": [
        "population_dict = {'California': 38332521,\n",
        "                   'Texas': 26448193,\n",
        "                   'New York': 19651127,\n",
        "                   'Florida': 19552860,\n",
        "                   'Illinois': 12882135}\n",
        "population = pd.Series(population_dict)\n",
        "population"
      ],
      "metadata": {
        "colab": {
          "base_uri": "https://localhost:8080/"
        },
        "id": "1z-3_M7FBaR0",
        "outputId": "b2e68871-a37d-47c1-ea92-842605065264"
      },
      "execution_count": null,
      "outputs": [
        {
          "output_type": "execute_result",
          "data": {
            "text/plain": [
              "California    38332521\n",
              "Texas         26448193\n",
              "New York      19651127\n",
              "Florida       19552860\n",
              "Illinois      12882135\n",
              "dtype: int64"
            ]
          },
          "metadata": {},
          "execution_count": 29
        }
      ]
    },
    {
      "cell_type": "markdown",
      "source": [
        "Now we can slice and operate, unlike w/ dictionaries:"
      ],
      "metadata": {
        "id": "WQo184Z8BleA"
      }
    },
    {
      "cell_type": "code",
      "source": [
        "population['California':'New York']\n",
        "arr = population.values\n",
        "ind = population.index\n",
        "print(ind)"
      ],
      "metadata": {
        "colab": {
          "base_uri": "https://localhost:8080/"
        },
        "id": "M9JI-EOdBpb7",
        "outputId": "e5dab864-46fc-4e2c-be81-53321e9777cc"
      },
      "execution_count": null,
      "outputs": [
        {
          "output_type": "stream",
          "name": "stdout",
          "text": [
            "Index(['California', 'Texas', 'New York', 'Florida', 'Illinois'], dtype='object')\n"
          ]
        }
      ]
    }
  ]
}