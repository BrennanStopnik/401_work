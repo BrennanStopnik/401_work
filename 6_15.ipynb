{
  "cells": [
    {
      "attachments": {},
      "cell_type": "markdown",
      "metadata": {
        "id": "NrmesXn_6xGN"
      },
      "source": [
        "\n",
        "\n",
        "\n",
        "\n",
        "\n",
        "<a href=\"https://codeimmersives.com\"><img src = \"https://www.codeimmersives.com/wp-content/uploads/2019/09/CodeImmersives_Logo_RGB_NYC_BW.png\" width = 400> </a>\n",
        "\n",
        "\n",
        "<h1 align=center><font size = 5>Agenda</font></h1>"
      ]
    },
    {
      "attachments": {},
      "cell_type": "markdown",
      "metadata": {
        "id": "ETs9WrSZ64t3"
      },
      "source": [
        "###\n",
        "<div class=\"alert alert-block alert-info\" style=\"margin-top: 20px\">\n",
        "\n",
        "1.  [Exercise Review](#0)<br>\n",
        "2.  [Pandas Probelm Walkthrough](#2)<br>\n",
        "2.  [Pandas Problem Walkthrough 2](#10)<br>\n",
        "3.  [Pandas Problem Walkthrough 3](#12)\n",
        "4.  [Exercise]\n",
        "<br>\n",
        "</div>\n",
        "<hr>"
      ]
    },
    {
      "attachments": {},
      "cell_type": "markdown",
      "metadata": {
        "id": "Weh3fFcCUl73"
      },
      "source": [
        "<h2>Creata a dataframe using a list of lists</h2>"
      ]
    },
    {
      "cell_type": "code",
      "execution_count": 2,
      "metadata": {
        "id": "hcOA6zuQUl73",
        "outputId": "b2cee529-9a69-446e-c6da-e062d98a40dd"
      },
      "outputs": [
        {
          "data": {
            "text/html": [
              "<div>\n",
              "<style scoped>\n",
              "    .dataframe tbody tr th:only-of-type {\n",
              "        vertical-align: middle;\n",
              "    }\n",
              "\n",
              "    .dataframe tbody tr th {\n",
              "        vertical-align: top;\n",
              "    }\n",
              "\n",
              "    .dataframe thead th {\n",
              "        text-align: right;\n",
              "    }\n",
              "</style>\n",
              "<table border=\"1\" class=\"dataframe\">\n",
              "  <thead>\n",
              "    <tr style=\"text-align: right;\">\n",
              "      <th></th>\n",
              "      <th>col 1</th>\n",
              "      <th>col 2</th>\n",
              "      <th>col 3</th>\n",
              "    </tr>\n",
              "  </thead>\n",
              "  <tbody>\n",
              "    <tr>\n",
              "      <th>row_1</th>\n",
              "      <td>1</td>\n",
              "      <td>0</td>\n",
              "      <td>0</td>\n",
              "    </tr>\n",
              "    <tr>\n",
              "      <th>row_2</th>\n",
              "      <td>0</td>\n",
              "      <td>1</td>\n",
              "      <td>0</td>\n",
              "    </tr>\n",
              "    <tr>\n",
              "      <th>row_3</th>\n",
              "      <td>0</td>\n",
              "      <td>0</td>\n",
              "      <td>1</td>\n",
              "    </tr>\n",
              "  </tbody>\n",
              "</table>\n",
              "</div>"
            ],
            "text/plain": [
              "       col 1  col 2  col 3\n",
              "row_1      1      0      0\n",
              "row_2      0      1      0\n",
              "row_3      0      0      1"
            ]
          },
          "execution_count": 2,
          "metadata": {},
          "output_type": "execute_result"
        }
      ],
      "source": [
        "import numpy as nd\n",
        "import pandas as pd\n",
        "idx = ['row_1','row_2','row_3']\n",
        "df = pd.DataFrame([[1,0,0],[0, 1, 0],[0,0,1]],index=idx,columns=['col 1','col 2','col 3'])\n",
        "df"
      ]
    },
    {
      "cell_type": "code",
      "execution_count": null,
      "metadata": {
        "id": "FqL3XFvlB0hF"
      },
      "outputs": [],
      "source": []
    },
    {
      "attachments": {},
      "cell_type": "markdown",
      "metadata": {
        "id": "ZzE-OiU4-fgH"
      },
      "source": [
        "<h2> US Cities Step by Step </h2>\n",
        "1) load the data and view the first 5 entries\n"
      ]
    },
    {
      "cell_type": "code",
      "execution_count": 6,
      "metadata": {
        "colab": {
          "base_uri": "https://localhost:8080/",
          "height": 250
        },
        "id": "iy-jZnTvUl74",
        "outputId": "24280ae0-f634-4693-d523-5de4d66690a8"
      },
      "outputs": [
        {
          "data": {
            "text/html": [
              "<div>\n",
              "<style scoped>\n",
              "    .dataframe tbody tr th:only-of-type {\n",
              "        vertical-align: middle;\n",
              "    }\n",
              "\n",
              "    .dataframe tbody tr th {\n",
              "        vertical-align: top;\n",
              "    }\n",
              "\n",
              "    .dataframe thead th {\n",
              "        text-align: right;\n",
              "    }\n",
              "</style>\n",
              "<table border=\"1\" class=\"dataframe\">\n",
              "  <thead>\n",
              "    <tr style=\"text-align: right;\">\n",
              "      <th></th>\n",
              "      <th>Order</th>\n",
              "      <th>State_City</th>\n",
              "      <th>Population</th>\n",
              "      <th>Budget</th>\n",
              "      <th>Mayor</th>\n",
              "      <th>Begin_Term</th>\n",
              "      <th>End_Term</th>\n",
              "      <th>Govern_Type</th>\n",
              "      <th>foo1</th>\n",
              "      <th>foo2</th>\n",
              "    </tr>\n",
              "  </thead>\n",
              "  <tbody>\n",
              "    <tr>\n",
              "      <th>0</th>\n",
              "      <td>1</td>\n",
              "      <td>New York, New York</td>\n",
              "      <td>8,405,837</td>\n",
              "      <td>$73,000,000,000</td>\n",
              "      <td>Bill de Blasio (D)</td>\n",
              "      <td>2014</td>\n",
              "      <td>2022</td>\n",
              "      <td>Strong mayor</td>\n",
              "      <td>Yes</td>\n",
              "      <td>No</td>\n",
              "    </tr>\n",
              "    <tr>\n",
              "      <th>1</th>\n",
              "      <td>2</td>\n",
              "      <td>Los Angeles, California</td>\n",
              "      <td>3,884,307</td>\n",
              "      <td>$8,100,000,000</td>\n",
              "      <td>Eric Garcetti (D)</td>\n",
              "      <td>2013</td>\n",
              "      <td>2022</td>\n",
              "      <td>Strong mayor</td>\n",
              "      <td>Yes</td>\n",
              "      <td>No</td>\n",
              "    </tr>\n",
              "    <tr>\n",
              "      <th>2</th>\n",
              "      <td>3</td>\n",
              "      <td>Chicago, Illinois</td>\n",
              "      <td>2,718,782</td>\n",
              "      <td>$7,300,000,000</td>\n",
              "      <td>Lori Lightfoot (D)</td>\n",
              "      <td>2019</td>\n",
              "      <td>2023</td>\n",
              "      <td>Strong mayor</td>\n",
              "      <td>No</td>\n",
              "      <td>No</td>\n",
              "    </tr>\n",
              "    <tr>\n",
              "      <th>3</th>\n",
              "      <td>4</td>\n",
              "      <td>Houston, Texas</td>\n",
              "      <td>2,195,914</td>\n",
              "      <td>$5,100,000,000</td>\n",
              "      <td>Sylvester Turner (D)</td>\n",
              "      <td>2016</td>\n",
              "      <td>2024</td>\n",
              "      <td>Strong mayor</td>\n",
              "      <td>No</td>\n",
              "      <td>No</td>\n",
              "    </tr>\n",
              "    <tr>\n",
              "      <th>4</th>\n",
              "      <td>5</td>\n",
              "      <td>Philadelphia, Pennsylvania</td>\n",
              "      <td>1,553,165</td>\n",
              "      <td>$3,950,000,000</td>\n",
              "      <td>James Kenney (D)</td>\n",
              "      <td>2016</td>\n",
              "      <td>2024</td>\n",
              "      <td>Strong mayor</td>\n",
              "      <td>No</td>\n",
              "      <td>No</td>\n",
              "    </tr>\n",
              "  </tbody>\n",
              "</table>\n",
              "</div>"
            ],
            "text/plain": [
              "   Order                   State_City  Population           Budget  \\\n",
              "0      1          New York, New York   8,405,837   $73,000,000,000   \n",
              "1      2     Los Angeles, California   3,884,307   $8,100,000,000    \n",
              "2      3           Chicago, Illinois   2,718,782   $7,300,000,000    \n",
              "3      4              Houston, Texas   2,195,914   $5,100,000,000    \n",
              "4      5  Philadelphia, Pennsylvania   1,553,165   $3,950,000,000    \n",
              "\n",
              "                   Mayor  Begin_Term  End_Term    Govern_Type  foo1 foo2  \n",
              "0    Bill de Blasio (D)         2014      2022  Strong mayor   Yes    No  \n",
              "1     Eric Garcetti (D)         2013      2022  Strong mayor   Yes    No  \n",
              "2    Lori Lightfoot (D)         2019      2023  Strong mayor    No    No  \n",
              "3  Sylvester Turner (D)         2016      2024  Strong mayor    No    No  \n",
              "4      James Kenney (D)         2016      2024  Strong mayor    No    No  "
            ]
          },
          "execution_count": 6,
          "metadata": {},
          "output_type": "execute_result"
        }
      ],
      "source": [
        "df = pd.read_csv('US_Cities_delimited.txt',delimiter='|')\n",
        "df.head()  # The default is the first 5\n"
      ]
    },
    {
      "attachments": {},
      "cell_type": "markdown",
      "metadata": {
        "id": "dLVGJXYU-4iM"
      },
      "source": [
        "2) View the object types of each column"
      ]
    },
    {
      "cell_type": "code",
      "execution_count": 4,
      "metadata": {
        "id": "dDSEr63mUl74",
        "outputId": "4b83fd3b-b9eb-48ff-9d2e-79295c027484"
      },
      "outputs": [
        {
          "data": {
            "text/plain": [
              "Order           int64\n",
              "State_City     object\n",
              "Population     object\n",
              "Budget         object\n",
              "Mayor          object\n",
              "Begin_Term      int64\n",
              "End_Term        int64\n",
              "Govern_Type    object\n",
              "foo1           object\n",
              "foo2           object\n",
              "dtype: object"
            ]
          },
          "execution_count": 4,
          "metadata": {},
          "output_type": "execute_result"
        }
      ],
      "source": [
        "df.dtypes"
      ]
    },
    {
      "attachments": {},
      "cell_type": "markdown",
      "metadata": {
        "id": "cCHfXaE7-82P"
      },
      "source": [
        "Slice the 50th to 75th row entries and all columns without loc[]"
      ]
    },
    {
      "cell_type": "code",
      "execution_count": 5,
      "metadata": {
        "id": "7TkKWCrJUl74"
      },
      "outputs": [
        {
          "data": {
            "text/html": [
              "<div>\n",
              "<style scoped>\n",
              "    .dataframe tbody tr th:only-of-type {\n",
              "        vertical-align: middle;\n",
              "    }\n",
              "\n",
              "    .dataframe tbody tr th {\n",
              "        vertical-align: top;\n",
              "    }\n",
              "\n",
              "    .dataframe thead th {\n",
              "        text-align: right;\n",
              "    }\n",
              "</style>\n",
              "<table border=\"1\" class=\"dataframe\">\n",
              "  <thead>\n",
              "    <tr style=\"text-align: right;\">\n",
              "      <th></th>\n",
              "      <th>Order</th>\n",
              "      <th>State_City</th>\n",
              "      <th>Population</th>\n",
              "      <th>Budget</th>\n",
              "      <th>Mayor</th>\n",
              "      <th>Begin_Term</th>\n",
              "      <th>End_Term</th>\n",
              "      <th>Govern_Type</th>\n",
              "      <th>foo1</th>\n",
              "      <th>foo2</th>\n",
              "    </tr>\n",
              "  </thead>\n",
              "  <tbody>\n",
              "    <tr>\n",
              "      <th>50</th>\n",
              "      <td>51</td>\n",
              "      <td>New Orleans, Louisiana</td>\n",
              "      <td>378,715</td>\n",
              "      <td>$505,000,000</td>\n",
              "      <td>LaToya Cantrell (D)</td>\n",
              "      <td>2018</td>\n",
              "      <td>2022</td>\n",
              "      <td>Strong mayor</td>\n",
              "      <td>Yes</td>\n",
              "      <td>No</td>\n",
              "    </tr>\n",
              "    <tr>\n",
              "      <th>51</th>\n",
              "      <td>52</td>\n",
              "      <td>Bakersfield, California</td>\n",
              "      <td>363,630</td>\n",
              "      <td>$418,000,000</td>\n",
              "      <td>Karen Goh (R)</td>\n",
              "      <td>2017</td>\n",
              "      <td>2025</td>\n",
              "      <td>Council-manager</td>\n",
              "      <td>Yes</td>\n",
              "      <td>Yes</td>\n",
              "    </tr>\n",
              "    <tr>\n",
              "      <th>52</th>\n",
              "      <td>53</td>\n",
              "      <td>Tampa, Florida</td>\n",
              "      <td>352,957</td>\n",
              "      <td>$830,000,000</td>\n",
              "      <td>Jane Castor (D)</td>\n",
              "      <td>2019</td>\n",
              "      <td>2023</td>\n",
              "      <td>Strong mayor</td>\n",
              "      <td>No</td>\n",
              "      <td>No</td>\n",
              "    </tr>\n",
              "    <tr>\n",
              "      <th>53</th>\n",
              "      <td>54</td>\n",
              "      <td>Aurora, Colorado</td>\n",
              "      <td>345,803</td>\n",
              "      <td>$591,400,000</td>\n",
              "      <td>Mike Coffman (R)</td>\n",
              "      <td>2019</td>\n",
              "      <td>2023</td>\n",
              "      <td>Council-manager</td>\n",
              "      <td>No</td>\n",
              "      <td>No</td>\n",
              "    </tr>\n",
              "    <tr>\n",
              "      <th>54</th>\n",
              "      <td>55</td>\n",
              "      <td>Anaheim, California</td>\n",
              "      <td>345,012</td>\n",
              "      <td>$1,600,000,000</td>\n",
              "      <td>Harry Sidhu (R)</td>\n",
              "      <td>2018</td>\n",
              "      <td>2022</td>\n",
              "      <td>Council-manager</td>\n",
              "      <td>Yes</td>\n",
              "      <td>No</td>\n",
              "    </tr>\n",
              "    <tr>\n",
              "      <th>55</th>\n",
              "      <td>56</td>\n",
              "      <td>Santa Ana, California</td>\n",
              "      <td>334,227</td>\n",
              "      <td>$430,000,000</td>\n",
              "      <td>Miguel Pulido (D)</td>\n",
              "      <td>1994</td>\n",
              "      <td>2020</td>\n",
              "      <td>Council-manager</td>\n",
              "      <td>Yes</td>\n",
              "      <td>Yes</td>\n",
              "    </tr>\n",
              "    <tr>\n",
              "      <th>56</th>\n",
              "      <td>57</td>\n",
              "      <td>St. Louis, Missouri</td>\n",
              "      <td>318,416</td>\n",
              "      <td>$985,200,000</td>\n",
              "      <td>Lyda Krewson (D)</td>\n",
              "      <td>2017</td>\n",
              "      <td>2021</td>\n",
              "      <td>Strong mayor</td>\n",
              "      <td>Yes</td>\n",
              "      <td>No</td>\n",
              "    </tr>\n",
              "    <tr>\n",
              "      <th>57</th>\n",
              "      <td>58</td>\n",
              "      <td>Riverside, California</td>\n",
              "      <td>316,619</td>\n",
              "      <td>$894,000,000</td>\n",
              "      <td>Patricia Lock Dawson (NP)</td>\n",
              "      <td>2012</td>\n",
              "      <td>2024</td>\n",
              "      <td>Council-manager</td>\n",
              "      <td>No</td>\n",
              "      <td>Yes</td>\n",
              "    </tr>\n",
              "    <tr>\n",
              "      <th>58</th>\n",
              "      <td>59</td>\n",
              "      <td>Corpus Christi, Texas</td>\n",
              "      <td>316,381</td>\n",
              "      <td>$772,000,000</td>\n",
              "      <td>Joe McComb (R)</td>\n",
              "      <td>2017</td>\n",
              "      <td>2020</td>\n",
              "      <td>Council-manager</td>\n",
              "      <td>Yes</td>\n",
              "      <td>Yes</td>\n",
              "    </tr>\n",
              "    <tr>\n",
              "      <th>59</th>\n",
              "      <td>60</td>\n",
              "      <td>Lexington, Kentucky</td>\n",
              "      <td>308,428</td>\n",
              "      <td>$540,000,000</td>\n",
              "      <td>Linda Gorton (R)</td>\n",
              "      <td>2019</td>\n",
              "      <td>2023</td>\n",
              "      <td>Strong mayor</td>\n",
              "      <td>Yes</td>\n",
              "      <td>No</td>\n",
              "    </tr>\n",
              "    <tr>\n",
              "      <th>60</th>\n",
              "      <td>61</td>\n",
              "      <td>Pittsburgh, Pennsylvania</td>\n",
              "      <td>305,841</td>\n",
              "      <td>$488,000,000</td>\n",
              "      <td>Bill Peduto (D)</td>\n",
              "      <td>2014</td>\n",
              "      <td>2022</td>\n",
              "      <td>Strong mayor</td>\n",
              "      <td>No</td>\n",
              "      <td>No</td>\n",
              "    </tr>\n",
              "    <tr>\n",
              "      <th>61</th>\n",
              "      <td>62</td>\n",
              "      <td>Anchorage, Alaska</td>\n",
              "      <td>300,950</td>\n",
              "      <td>$471,000,000</td>\n",
              "      <td>Austin Quinn-Davidson (NP)</td>\n",
              "      <td>2020</td>\n",
              "      <td>2021</td>\n",
              "      <td>Hybrid</td>\n",
              "      <td>Yes</td>\n",
              "      <td>No</td>\n",
              "    </tr>\n",
              "    <tr>\n",
              "      <th>62</th>\n",
              "      <td>63</td>\n",
              "      <td>Stockton, California</td>\n",
              "      <td>298,118</td>\n",
              "      <td>$632,000,000</td>\n",
              "      <td>Kevin Lincoln II (R)</td>\n",
              "      <td>2021</td>\n",
              "      <td>2024</td>\n",
              "      <td>Council-manager</td>\n",
              "      <td>Yes</td>\n",
              "      <td>Yes</td>\n",
              "    </tr>\n",
              "    <tr>\n",
              "      <th>63</th>\n",
              "      <td>64</td>\n",
              "      <td>Cincinnati, Ohio</td>\n",
              "      <td>297,517</td>\n",
              "      <td>$358,000,000</td>\n",
              "      <td>John Cranley (D)</td>\n",
              "      <td>2013</td>\n",
              "      <td>2022</td>\n",
              "      <td>Hybrid</td>\n",
              "      <td>No</td>\n",
              "      <td>No</td>\n",
              "    </tr>\n",
              "    <tr>\n",
              "      <th>64</th>\n",
              "      <td>65</td>\n",
              "      <td>St. Paul, Minnesota</td>\n",
              "      <td>294,873</td>\n",
              "      <td>$515,500,000</td>\n",
              "      <td>Melvin Carter III (D)</td>\n",
              "      <td>2018</td>\n",
              "      <td>2022</td>\n",
              "      <td>Strong mayor</td>\n",
              "      <td>No</td>\n",
              "      <td>No</td>\n",
              "    </tr>\n",
              "    <tr>\n",
              "      <th>65</th>\n",
              "      <td>66</td>\n",
              "      <td>Toledo, Ohio</td>\n",
              "      <td>282,313</td>\n",
              "      <td>$650,000,000</td>\n",
              "      <td>Wade Kapszukiewicz (D)</td>\n",
              "      <td>2018</td>\n",
              "      <td>2022</td>\n",
              "      <td>Strong mayor</td>\n",
              "      <td>Yes</td>\n",
              "      <td>No</td>\n",
              "    </tr>\n",
              "    <tr>\n",
              "      <th>66</th>\n",
              "      <td>67</td>\n",
              "      <td>Greensboro, North Carolina</td>\n",
              "      <td>279,639</td>\n",
              "      <td>$472,000,000</td>\n",
              "      <td>Nancy B. Vaughan (D)</td>\n",
              "      <td>2013</td>\n",
              "      <td>2021</td>\n",
              "      <td>Council-manager</td>\n",
              "      <td>No</td>\n",
              "      <td>No</td>\n",
              "    </tr>\n",
              "    <tr>\n",
              "      <th>67</th>\n",
              "      <td>68</td>\n",
              "      <td>Newark, New Jersey</td>\n",
              "      <td>278,427</td>\n",
              "      <td>$800,000,000</td>\n",
              "      <td>Ras J. Baraka (D)</td>\n",
              "      <td>2014</td>\n",
              "      <td>2022</td>\n",
              "      <td>Strong mayor</td>\n",
              "      <td>No</td>\n",
              "      <td>No</td>\n",
              "    </tr>\n",
              "    <tr>\n",
              "      <th>68</th>\n",
              "      <td>69</td>\n",
              "      <td>Plano, Texas</td>\n",
              "      <td>274,409</td>\n",
              "      <td>$492,000,000</td>\n",
              "      <td>Harry LaRosiliere (R)</td>\n",
              "      <td>2013</td>\n",
              "      <td>2021</td>\n",
              "      <td>Council-manager</td>\n",
              "      <td>No</td>\n",
              "      <td>No</td>\n",
              "    </tr>\n",
              "    <tr>\n",
              "      <th>69</th>\n",
              "      <td>70</td>\n",
              "      <td>Henderson, Nevada</td>\n",
              "      <td>270,811</td>\n",
              "      <td>$482,000,000</td>\n",
              "      <td>Debra March (D)</td>\n",
              "      <td>2017</td>\n",
              "      <td>2021</td>\n",
              "      <td>Council-manager</td>\n",
              "      <td>No</td>\n",
              "      <td>No</td>\n",
              "    </tr>\n",
              "    <tr>\n",
              "      <th>70</th>\n",
              "      <td>71</td>\n",
              "      <td>Lincoln, Nebraska</td>\n",
              "      <td>268,738</td>\n",
              "      <td>$159,000,000</td>\n",
              "      <td>Leirion Gaylor Baird (D)</td>\n",
              "      <td>2019</td>\n",
              "      <td>2023</td>\n",
              "      <td>Strong mayor</td>\n",
              "      <td>No</td>\n",
              "      <td>No</td>\n",
              "    </tr>\n",
              "    <tr>\n",
              "      <th>71</th>\n",
              "      <td>72</td>\n",
              "      <td>Buffalo, New York</td>\n",
              "      <td>258,959</td>\n",
              "      <td>$479,900,000</td>\n",
              "      <td>Byron Brown (D)</td>\n",
              "      <td>2005</td>\n",
              "      <td>2021</td>\n",
              "      <td>Strong mayor</td>\n",
              "      <td>No</td>\n",
              "      <td>No</td>\n",
              "    </tr>\n",
              "    <tr>\n",
              "      <th>72</th>\n",
              "      <td>73</td>\n",
              "      <td>Jersey City, New Jersey</td>\n",
              "      <td>257,342</td>\n",
              "      <td>$535,300,000</td>\n",
              "      <td>Steven Fulop (D)</td>\n",
              "      <td>2013</td>\n",
              "      <td>2021</td>\n",
              "      <td>Strong mayor</td>\n",
              "      <td>Yes</td>\n",
              "      <td>No</td>\n",
              "    </tr>\n",
              "    <tr>\n",
              "      <th>73</th>\n",
              "      <td>74</td>\n",
              "      <td>Chula Vista, California</td>\n",
              "      <td>256,780</td>\n",
              "      <td>$293,400,000</td>\n",
              "      <td>Mary Salas (D)</td>\n",
              "      <td>2014</td>\n",
              "      <td>2022</td>\n",
              "      <td>Council-manager</td>\n",
              "      <td>Yes</td>\n",
              "      <td>No</td>\n",
              "    </tr>\n",
              "    <tr>\n",
              "      <th>74</th>\n",
              "      <td>75</td>\n",
              "      <td>Fort Wayne, Indiana</td>\n",
              "      <td>256,496</td>\n",
              "      <td>$190,200,000</td>\n",
              "      <td>Tom Henry (D)</td>\n",
              "      <td>2008</td>\n",
              "      <td>2024</td>\n",
              "      <td>Strong mayor</td>\n",
              "      <td>No</td>\n",
              "      <td>No</td>\n",
              "    </tr>\n",
              "  </tbody>\n",
              "</table>\n",
              "</div>"
            ],
            "text/plain": [
              "    Order                   State_City Population           Budget  \\\n",
              "50     51      New Orleans, Louisiana    378,715     $505,000,000    \n",
              "51     52     Bakersfield, California    363,630     $418,000,000    \n",
              "52     53              Tampa, Florida    352,957     $830,000,000    \n",
              "53     54            Aurora, Colorado    345,803     $591,400,000    \n",
              "54     55         Anaheim, California    345,012   $1,600,000,000    \n",
              "55     56       Santa Ana, California    334,227     $430,000,000    \n",
              "56     57         St. Louis, Missouri    318,416     $985,200,000    \n",
              "57     58       Riverside, California    316,619     $894,000,000    \n",
              "58     59       Corpus Christi, Texas    316,381     $772,000,000    \n",
              "59     60         Lexington, Kentucky    308,428     $540,000,000    \n",
              "60     61    Pittsburgh, Pennsylvania    305,841     $488,000,000    \n",
              "61     62           Anchorage, Alaska    300,950     $471,000,000    \n",
              "62     63        Stockton, California    298,118     $632,000,000    \n",
              "63     64            Cincinnati, Ohio    297,517     $358,000,000    \n",
              "64     65         St. Paul, Minnesota    294,873     $515,500,000    \n",
              "65     66                Toledo, Ohio    282,313     $650,000,000    \n",
              "66     67  Greensboro, North Carolina    279,639     $472,000,000    \n",
              "67     68          Newark, New Jersey    278,427     $800,000,000    \n",
              "68     69                Plano, Texas    274,409     $492,000,000    \n",
              "69     70           Henderson, Nevada    270,811     $482,000,000    \n",
              "70     71           Lincoln, Nebraska    268,738     $159,000,000    \n",
              "71     72           Buffalo, New York    258,959     $479,900,000    \n",
              "72     73     Jersey City, New Jersey    257,342     $535,300,000    \n",
              "73     74     Chula Vista, California    256,780     $293,400,000    \n",
              "74     75         Fort Wayne, Indiana    256,496     $190,200,000    \n",
              "\n",
              "                          Mayor  Begin_Term  End_Term       Govern_Type  foo1  \\\n",
              "50         LaToya Cantrell (D)         2018      2022     Strong mayor   Yes    \n",
              "51               Karen Goh (R)         2017      2025  Council-manager   Yes    \n",
              "52             Jane Castor (D)         2019      2023     Strong mayor    No    \n",
              "53            Mike Coffman (R)         2019      2023  Council-manager    No    \n",
              "54             Harry Sidhu (R)         2018      2022  Council-manager   Yes    \n",
              "55           Miguel Pulido (D)         1994      2020  Council-manager   Yes    \n",
              "56            Lyda Krewson (D)         2017      2021     Strong mayor   Yes    \n",
              "57   Patricia Lock Dawson (NP)         2012      2024  Council-manager    No    \n",
              "58              Joe McComb (R)         2017      2020  Council-manager   Yes    \n",
              "59            Linda Gorton (R)         2019      2023     Strong mayor   Yes    \n",
              "60             Bill Peduto (D)         2014      2022     Strong mayor    No    \n",
              "61  Austin Quinn-Davidson (NP)         2020      2021           Hybrid   Yes    \n",
              "62        Kevin Lincoln II (R)         2021      2024  Council-manager   Yes    \n",
              "63            John Cranley (D)         2013      2022           Hybrid    No    \n",
              "64       Melvin Carter III (D)         2018      2022     Strong mayor    No    \n",
              "65      Wade Kapszukiewicz (D)         2018      2022     Strong mayor   Yes    \n",
              "66        Nancy B. Vaughan (D)         2013      2021  Council-manager    No    \n",
              "67           Ras J. Baraka (D)         2014      2022     Strong mayor    No    \n",
              "68       Harry LaRosiliere (R)         2013      2021  Council-manager    No    \n",
              "69             Debra March (D)         2017      2021  Council-manager    No    \n",
              "70    Leirion Gaylor Baird (D)         2019      2023     Strong mayor    No    \n",
              "71             Byron Brown (D)         2005      2021     Strong mayor    No    \n",
              "72            Steven Fulop (D)         2013      2021     Strong mayor   Yes    \n",
              "73              Mary Salas (D)         2014      2022  Council-manager   Yes    \n",
              "74               Tom Henry (D)         2008      2024     Strong mayor    No    \n",
              "\n",
              "   foo2  \n",
              "50   No  \n",
              "51  Yes  \n",
              "52   No  \n",
              "53   No  \n",
              "54   No  \n",
              "55  Yes  \n",
              "56   No  \n",
              "57  Yes  \n",
              "58  Yes  \n",
              "59   No  \n",
              "60   No  \n",
              "61   No  \n",
              "62  Yes  \n",
              "63   No  \n",
              "64   No  \n",
              "65   No  \n",
              "66   No  \n",
              "67   No  \n",
              "68   No  \n",
              "69   No  \n",
              "70   No  \n",
              "71   No  \n",
              "72   No  \n",
              "73   No  \n",
              "74   No  "
            ]
          },
          "execution_count": 5,
          "metadata": {},
          "output_type": "execute_result"
        }
      ],
      "source": [
        "df[50:75]"
      ]
    },
    {
      "attachments": {},
      "cell_type": "markdown",
      "metadata": {
        "id": "Jiq8nXjEBmd8"
      },
      "source": [
        "Slice the 60th to 75th row for the Population column using loc[]"
      ]
    },
    {
      "cell_type": "code",
      "execution_count": 9,
      "metadata": {
        "id": "Hw5fn0VgUl75",
        "outputId": "5cd91905-de46-4662-9c02-80bcb2e5894d"
      },
      "outputs": [
        {
          "data": {
            "text/plain": [
              "60    305,841 \n",
              "61    300,950 \n",
              "62    298,118 \n",
              "63    297,517 \n",
              "64    294,873 \n",
              "65    282,313 \n",
              "66    279,639 \n",
              "67    278,427 \n",
              "68    274,409 \n",
              "69    270,811 \n",
              "70    268,738 \n",
              "71    258,959 \n",
              "72    257,342 \n",
              "73    256,780 \n",
              "74    256,496 \n",
              "75    255,483 \n",
              "Name: Population, dtype: object"
            ]
          },
          "execution_count": 9,
          "metadata": {},
          "output_type": "execute_result"
        }
      ],
      "source": [
        "df.loc[60:75, 'Population']"
      ]
    },
    {
      "attachments": {},
      "cell_type": "markdown",
      "metadata": {
        "id": "uVX-dn4jDLli"
      },
      "source": [
        "Filter only cities with Mayors who began terms in 2016."
      ]
    },
    {
      "cell_type": "code",
      "execution_count": 10,
      "metadata": {
        "id": "2t6TVnS1Ul75",
        "outputId": "74b043d9-ce83-4f8c-ccbc-c899b5e91809"
      },
      "outputs": [
        {
          "data": {
            "text/html": [
              "<div>\n",
              "<style scoped>\n",
              "    .dataframe tbody tr th:only-of-type {\n",
              "        vertical-align: middle;\n",
              "    }\n",
              "\n",
              "    .dataframe tbody tr th {\n",
              "        vertical-align: top;\n",
              "    }\n",
              "\n",
              "    .dataframe thead th {\n",
              "        text-align: right;\n",
              "    }\n",
              "</style>\n",
              "<table border=\"1\" class=\"dataframe\">\n",
              "  <thead>\n",
              "    <tr style=\"text-align: right;\">\n",
              "      <th></th>\n",
              "      <th>Order</th>\n",
              "      <th>State_City</th>\n",
              "      <th>Population</th>\n",
              "      <th>Budget</th>\n",
              "      <th>Mayor</th>\n",
              "      <th>Begin_Term</th>\n",
              "      <th>End_Term</th>\n",
              "      <th>Govern_Type</th>\n",
              "      <th>foo1</th>\n",
              "      <th>foo2</th>\n",
              "    </tr>\n",
              "  </thead>\n",
              "  <tbody>\n",
              "    <tr>\n",
              "      <th>3</th>\n",
              "      <td>4</td>\n",
              "      <td>Houston, Texas</td>\n",
              "      <td>2,195,914</td>\n",
              "      <td>$5,100,000,000</td>\n",
              "      <td>Sylvester Turner (D)</td>\n",
              "      <td>2016</td>\n",
              "      <td>2024</td>\n",
              "      <td>Strong mayor</td>\n",
              "      <td>No</td>\n",
              "      <td>No</td>\n",
              "    </tr>\n",
              "    <tr>\n",
              "      <th>4</th>\n",
              "      <td>5</td>\n",
              "      <td>Philadelphia, Pennsylvania</td>\n",
              "      <td>1,553,165</td>\n",
              "      <td>$3,950,000,000</td>\n",
              "      <td>James Kenney (D)</td>\n",
              "      <td>2016</td>\n",
              "      <td>2024</td>\n",
              "      <td>Strong mayor</td>\n",
              "      <td>No</td>\n",
              "      <td>No</td>\n",
              "    </tr>\n",
              "    <tr>\n",
              "      <th>12</th>\n",
              "      <td>13</td>\n",
              "      <td>Indianapolis, Indiana</td>\n",
              "      <td>843,393</td>\n",
              "      <td>$1,030,000,000</td>\n",
              "      <td>Joseph Hogsett (D)</td>\n",
              "      <td>2016</td>\n",
              "      <td>2024</td>\n",
              "      <td>Strong mayor</td>\n",
              "      <td>No</td>\n",
              "      <td>No</td>\n",
              "    </tr>\n",
              "    <tr>\n",
              "      <th>20</th>\n",
              "      <td>21</td>\n",
              "      <td>Memphis, Tennessee</td>\n",
              "      <td>653,450</td>\n",
              "      <td>$618,000,000</td>\n",
              "      <td>Jim Strickland (D)</td>\n",
              "      <td>2016</td>\n",
              "      <td>2024</td>\n",
              "      <td>Strong mayor</td>\n",
              "      <td>No</td>\n",
              "      <td>No</td>\n",
              "    </tr>\n",
              "    <tr>\n",
              "      <th>34</th>\n",
              "      <td>35</td>\n",
              "      <td>Sacramento, California</td>\n",
              "      <td>479,686</td>\n",
              "      <td>$819,000,000</td>\n",
              "      <td>Darrell Steinberg (D)</td>\n",
              "      <td>2016</td>\n",
              "      <td>2024</td>\n",
              "      <td>Council-manager</td>\n",
              "      <td>Yes</td>\n",
              "      <td>Yes</td>\n",
              "    </tr>\n",
              "    <tr>\n",
              "      <th>46</th>\n",
              "      <td>47</td>\n",
              "      <td>Tulsa, Oklahoma</td>\n",
              "      <td>398,121</td>\n",
              "      <td>$597,000,000</td>\n",
              "      <td>G. T. Bynum (R)</td>\n",
              "      <td>2016</td>\n",
              "      <td>2024</td>\n",
              "      <td>Strong mayor</td>\n",
              "      <td>No</td>\n",
              "      <td>Yes</td>\n",
              "    </tr>\n",
              "    <tr>\n",
              "      <th>79</th>\n",
              "      <td>80</td>\n",
              "      <td>Norfolk, Virginia</td>\n",
              "      <td>246,139</td>\n",
              "      <td>$1,100,000,000</td>\n",
              "      <td>Kenneth Alexander (D)</td>\n",
              "      <td>2016</td>\n",
              "      <td>2024</td>\n",
              "      <td>Council-manager</td>\n",
              "      <td>Yes</td>\n",
              "      <td>Yes</td>\n",
              "    </tr>\n",
              "    <tr>\n",
              "      <th>82</th>\n",
              "      <td>83</td>\n",
              "      <td>Lubbock, Texas</td>\n",
              "      <td>239,538</td>\n",
              "      <td>$674,500,000</td>\n",
              "      <td>Dan Pope (R)</td>\n",
              "      <td>2016</td>\n",
              "      <td>2020</td>\n",
              "      <td>Council-manager</td>\n",
              "      <td>Yes</td>\n",
              "      <td>Yes</td>\n",
              "    </tr>\n",
              "    <tr>\n",
              "      <th>95</th>\n",
              "      <td>96</td>\n",
              "      <td>Fremont, California</td>\n",
              "      <td>224,922</td>\n",
              "      <td>$238,460,000</td>\n",
              "      <td>Lily Mei (Nonpartisan)</td>\n",
              "      <td>2016</td>\n",
              "      <td>2020</td>\n",
              "      <td>Council-manager</td>\n",
              "      <td>Yes</td>\n",
              "      <td>Yes</td>\n",
              "    </tr>\n",
              "    <tr>\n",
              "      <th>99</th>\n",
              "      <td>100</td>\n",
              "      <td>Richmond, Virginia</td>\n",
              "      <td>207,878</td>\n",
              "      <td>$1,722,417,160</td>\n",
              "      <td>Levar Stoney (D)</td>\n",
              "      <td>2016</td>\n",
              "      <td>2020</td>\n",
              "      <td>Strong mayor</td>\n",
              "      <td>Yes</td>\n",
              "      <td>Yes</td>\n",
              "    </tr>\n",
              "  </tbody>\n",
              "</table>\n",
              "</div>"
            ],
            "text/plain": [
              "    Order                   State_City  Population           Budget  \\\n",
              "3       4              Houston, Texas   2,195,914   $5,100,000,000    \n",
              "4       5  Philadelphia, Pennsylvania   1,553,165   $3,950,000,000    \n",
              "12     13       Indianapolis, Indiana     843,393   $1,030,000,000    \n",
              "20     21          Memphis, Tennessee     653,450     $618,000,000    \n",
              "34     35      Sacramento, California     479,686     $819,000,000    \n",
              "46     47             Tulsa, Oklahoma     398,121     $597,000,000    \n",
              "79     80           Norfolk, Virginia     246,139   $1,100,000,000    \n",
              "82     83              Lubbock, Texas     239,538     $674,500,000    \n",
              "95     96         Fremont, California     224,922     $238,460,000    \n",
              "99    100          Richmond, Virginia     207,878   $1,722,417,160    \n",
              "\n",
              "                      Mayor  Begin_Term  End_Term       Govern_Type  foo1 foo2  \n",
              "3     Sylvester Turner (D)         2016      2024     Strong mayor    No    No  \n",
              "4         James Kenney (D)         2016      2024     Strong mayor    No    No  \n",
              "12      Joseph Hogsett (D)         2016      2024     Strong mayor    No    No  \n",
              "20      Jim Strickland (D)         2016      2024     Strong mayor    No    No  \n",
              "34   Darrell Steinberg (D)         2016      2024  Council-manager   Yes   Yes  \n",
              "46         G. T. Bynum (R)         2016      2024     Strong mayor    No   Yes  \n",
              "79   Kenneth Alexander (D)         2016      2024  Council-manager   Yes   Yes  \n",
              "82            Dan Pope (R)         2016      2020  Council-manager   Yes   Yes  \n",
              "95  Lily Mei (Nonpartisan)         2016      2020  Council-manager   Yes   Yes  \n",
              "99        Levar Stoney (D)         2016      2020     Strong mayor   Yes   Yes  "
            ]
          },
          "execution_count": 10,
          "metadata": {},
          "output_type": "execute_result"
        }
      ],
      "source": [
        "df[df.Begin_Term == 2016 ]"
      ]
    },
    {
      "attachments": {},
      "cell_type": "markdown",
      "metadata": {
        "id": "SsmdwdYgDTD-"
      },
      "source": [
        "Count the total number of cities."
      ]
    },
    {
      "cell_type": "code",
      "execution_count": 11,
      "metadata": {
        "id": "wzKepVJ0Ul75"
      },
      "outputs": [
        {
          "data": {
            "text/plain": [
              "Order          100\n",
              "State_City     100\n",
              "Population     100\n",
              "Budget         100\n",
              "Mayor          100\n",
              "Begin_Term     100\n",
              "End_Term       100\n",
              "Govern_Type    100\n",
              "foo1           100\n",
              "foo2           100\n",
              "dtype: int64"
            ]
          },
          "execution_count": 11,
          "metadata": {},
          "output_type": "execute_result"
        }
      ],
      "source": [
        "df.count()"
      ]
    },
    {
      "attachments": {},
      "cell_type": "markdown",
      "metadata": {
        "id": "6rpWZF3SDVpJ"
      },
      "source": [
        "Count the mean year that the Mayors began their terms."
      ]
    },
    {
      "cell_type": "code",
      "execution_count": 12,
      "metadata": {
        "id": "RHbeAcDFUl75"
      },
      "outputs": [
        {
          "data": {
            "text/plain": [
              "2015.07"
            ]
          },
          "execution_count": 12,
          "metadata": {},
          "output_type": "execute_result"
        }
      ],
      "source": [
        "df.Begin_Term.describe().loc['mean']"
      ]
    },
    {
      "attachments": {},
      "cell_type": "markdown",
      "metadata": {
        "id": "S1d0FereUl76"
      },
      "source": [
        "<h2>Use .unique() for unique values<h2>"
      ]
    },
    {
      "cell_type": "code",
      "execution_count": null,
      "metadata": {
        "id": "dnqX2dakUl76"
      },
      "outputs": [],
      "source": [
        "df.Begin_Term.unique()"
      ]
    },
    {
      "cell_type": "code",
      "execution_count": null,
      "metadata": {
        "id": "4g0BDsq1Ul76"
      },
      "outputs": [],
      "source": [
        "df['Begin_Term'].unique()"
      ]
    },
    {
      "cell_type": "code",
      "execution_count": null,
      "metadata": {
        "id": "KEECFwKeUl76"
      },
      "outputs": [],
      "source": [
        "df.groupby(['Begin_Term'])['Order'].count()"
      ]
    },
    {
      "cell_type": "code",
      "execution_count": null,
      "metadata": {
        "id": "pz9BWGQSUl76"
      },
      "outputs": [],
      "source": [
        "# Look at how many records are there per state\n",
        "df.groupby(['Begin_Term']).count().sort_values('foo1')"
      ]
    },
    {
      "attachments": {},
      "cell_type": "markdown",
      "metadata": {
        "id": "TSUQOkejDbN0"
      },
      "source": [
        "<h2> Exercise 1 </h2>\n",
        "\n",
        "Using the US_Cities.delimited.txt file and Pandas\n",
        "\n",
        "1) Clean the data\n",
        "\n",
        "2) Create a separate column for cites and states\n",
        "\n",
        "3) Count how many cites have Republican and how many have Democrat Mayors\n",
        "\n",
        "4) Which city has the highest budget and which has the lowest budget?\n",
        "\n",
        "5) Create a column called 'Budget per capita'. Which calcs how many dollars per perosn the city has\n",
        "\n",
        "6) Then return which cities have the lowest and highest"
      ]
    },
    {
      "cell_type": "code",
      "execution_count": null,
      "metadata": {
        "id": "-ZapwOMINZmD"
      },
      "outputs": [],
      "source": [
        "df = pd.read_csv('US_Cities_delimited.txt',delimiter='|')\n",
        "df = pd.DataFrame(df)\n"
      ]
    },
    {
      "attachments": {},
      "cell_type": "markdown",
      "metadata": {
        "id": "Gba7wm4VEAA0"
      },
      "source": [
        "<h2> Exercise 2 </h2>\n",
        "\n",
        "Using the class_heights.txt file and Pandas\n",
        "\n",
        "1) Clean the data\n",
        "\n",
        "2) Make column names Title Case\n",
        "\n",
        "3) Sort gender column by Gender. Female first\n",
        "\n",
        "4) Convert heights to centimeters\n",
        "\n",
        "5) Count how many of each gender are in the total class_heights\n",
        "\n",
        "6) Calc the average height of each gender and the class total\n",
        "\n",
        "7) Calc the median, mode, and standard deviantion for the total class"
      ]
    },
    {
      "cell_type": "code",
      "execution_count": null,
      "metadata": {
        "id": "qm5kwzv9NZmE"
      },
      "outputs": [],
      "source": [
        "\n"
      ]
    },
    {
      "cell_type": "code",
      "execution_count": null,
      "metadata": {
        "id": "IHlp5YWNUl76"
      },
      "outputs": [],
      "source": []
    },
    {
      "cell_type": "code",
      "execution_count": null,
      "metadata": {
        "id": "13kNz9PNUl76"
      },
      "outputs": [],
      "source": []
    },
    {
      "cell_type": "code",
      "execution_count": null,
      "metadata": {
        "id": "Fwy5Yfx2Ul77"
      },
      "outputs": [],
      "source": []
    },
    {
      "cell_type": "code",
      "execution_count": null,
      "metadata": {
        "id": "clr6rDkAUl77"
      },
      "outputs": [],
      "source": []
    },
    {
      "cell_type": "code",
      "execution_count": null,
      "metadata": {
        "id": "ZKI2ZRDnUl77"
      },
      "outputs": [],
      "source": []
    },
    {
      "attachments": {},
      "cell_type": "markdown",
      "metadata": {
        "id": "yHItIEdBEkrd"
      },
      "source": [
        "<h2> Example Walkthrough: Create your own DataFrame and Square it based on row conditions </h2>"
      ]
    },
    {
      "cell_type": "code",
      "execution_count": null,
      "metadata": {
        "id": "VqOo-AI5Ul78"
      },
      "outputs": [],
      "source": [
        "import pandas as pd\n",
        "import numpy as np\n",
        "\n",
        "# creating and initializing a nested list\n",
        "values_list = [[15, 2.5, 100], [20, 4.5, 50], [25, 5.2, 80],\n",
        "               [45, 5.8, 48], [40, 6.3, 70], [41, 6.4, 90],\n",
        "               [51, 2.3, 111]]\n",
        "\n",
        "# creating a pandas dataframe\n",
        "df = pd.DataFrame(values_list, columns=['Field_1', 'Field_2', 'Field_3'],\n",
        "                  index=['a', 'b', 'c', 'd', 'e', 'f', 'g'])\n",
        "\n",
        "\n",
        "# Apply function numpy.square() to square\n",
        "# the values of 3 rows only i.e. with row\n",
        "# index name 'a', 'e' and 'g' only\n",
        "df = df.apply(lambda x: np.square(x) if x.name in [\n",
        "              'a', 'e', 'g'] else x, axis=1)\n",
        "df = df.apply(np.square(df))\n",
        "# printing dataframe\n",
        "df"
      ]
    },
    {
      "attachments": {},
      "cell_type": "markdown",
      "metadata": {
        "id": "8E82v2QqUl78"
      },
      "source": [
        "<h2>To filter or search for values - isin([])</h2>"
      ]
    },
    {
      "cell_type": "code",
      "execution_count": null,
      "metadata": {
        "id": "6gtV2HWtUl78"
      },
      "outputs": [],
      "source": [
        "import pandas as pd\n",
        "df = pd.DataFrame({'num_legs': [2, 4,0,8,4], 'num_wings': [2, 0,0,0,4]},\n",
        "\n",
        "                  index=['falcon', 'dog','snake','spider','dragonfly'])\n",
        "df"
      ]
    },
    {
      "cell_type": "code",
      "execution_count": null,
      "metadata": {
        "id": "bWIKbtrpUl78"
      },
      "outputs": [],
      "source": [
        "df.isin([8])"
      ]
    },
    {
      "cell_type": "code",
      "execution_count": null,
      "metadata": {
        "id": "R8dhnP44Ul78"
      },
      "outputs": [],
      "source": [
        "df.isin([2,4])"
      ]
    },
    {
      "attachments": {},
      "cell_type": "markdown",
      "metadata": {
        "id": "X-izprnRUl79"
      },
      "source": [
        "<h2>isin() filter by column</h2>"
      ]
    },
    {
      "cell_type": "code",
      "execution_count": null,
      "metadata": {
        "id": "Ivpo7uGCUl79"
      },
      "outputs": [],
      "source": [
        "filter = [2,4]\n",
        "num_legs = df[df.num_legs.isin(filter)]\n",
        "num_legs"
      ]
    },
    {
      "cell_type": "code",
      "execution_count": null,
      "metadata": {
        "id": "LE9jSzijUl79"
      },
      "outputs": [],
      "source": []
    },
    {
      "attachments": {},
      "cell_type": "markdown",
      "metadata": {
        "id": "pNP6etycUl79"
      },
      "source": [
        "<h2> Exercise 3</h2>\n",
        "\n",
        "Create a class that operates on words\n",
        "\n",
        "1 - method 'remove_vowels' - Strips all vowels out\n",
        "\n",
        "2 - method 'strip_constants' - Strips constants\n",
        "\n",
        "3 - method 'strip_fixed' - Strips based on a skip\n",
        "\n",
        "4 - print gives the word and and counts the number of vowels and the number of constants\n",
        "\n",
        "5 - Add a method that randomly removes up to n chars but has to be less than the length - 1(colapses)\n",
        "\n",
        "6 - On all removal options add option to replace the removal with a specified character. The default is an underscore '_'"
      ]
    },
    {
      "cell_type": "code",
      "execution_count": null,
      "metadata": {
        "id": "eltRW0w-NZmH"
      },
      "outputs": [],
      "source": []
    }
  ],
  "metadata": {
    "colab": {
      "provenance": []
    },
    "kernelspec": {
      "display_name": "Python 3",
      "name": "python3"
    },
    "language_info": {
      "codemirror_mode": {
        "name": "ipython",
        "version": 3
      },
      "file_extension": ".py",
      "mimetype": "text/x-python",
      "name": "python",
      "nbconvert_exporter": "python",
      "pygments_lexer": "ipython3",
      "version": "3.9.6"
    }
  },
  "nbformat": 4,
  "nbformat_minor": 0
}
