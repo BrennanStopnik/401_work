{
  "cells": [
    {
      "attachments": {},
      "cell_type": "markdown",
      "metadata": {
        "id": "I3U4DDZ-l2km"
      },
      "source": [
        "## Exercise 1 \n",
        "\n",
        "Given a string. The task is to print all words with even length in the given string.\n",
        "\n",
        "```\n",
        "Input: s = \"This is a python language\"\n",
        "Output: This\n",
        "        is\n",
        "        python\n",
        "        language \n",
        "\n",
        "Input: s = \"i am muskan\"\n",
        "Output: am\n",
        "        muskan\n",
        "\n",
        "```"
      ]
    },
    {
      "cell_type": "code",
      "execution_count": 7,
      "metadata": {},
      "outputs": [
        {
          "name": "stdout",
          "output_type": "stream",
          "text": [
            "Given string: This is a python language \n",
            "Words with even length: \n",
            "This\n",
            "is\n",
            "python\n",
            "language\n",
            "\n",
            "Given string: i am one muskan \n",
            "Words with even length: \n",
            "am\n",
            "muskan\n"
          ]
        }
      ],
      "source": [
        "def printWords(s):\n",
        "     s = s.split(' ')\n",
        "     for word in s:\n",
        "          if len(word)%2==0:\n",
        "                print(word)\n",
        "\n",
        "\n",
        "s = \"This is a python language\"\n",
        "print(f\"Given string: {s} \\nWords with even length: \")\n",
        "printWords(s)\n",
        "\n",
        "t = \"i am one muskan\"\n",
        "print(f\"\\nGiven string: {t} \\nWords with even length: \")\n",
        "printWords(t)\n"
      ]
    },
    {
      "attachments": {},
      "cell_type": "markdown",
      "metadata": {
        "id": "unkR7yKNhr5O"
      },
      "source": [
        "## Exercise 2 \n",
        "\n",
        "Sum of a Range of Integers\n",
        "\n",
        "Write a function, add_it_up(), that takes a single integer as input and returns the sum of the integers from zero to the input parameter.\n",
        "\n",
        "The function should return 0 if a non-integer is passed in. \n",
        "\n",
        "i.e. \n",
        "\n",
        "input: 5 \n",
        "output: 1 + 2 + 3 + 4 + 5  = 15 \n",
        "\n",
        "input: 5.2 \n",
        "output: 0"
      ]
    },
    {
      "cell_type": "code",
      "execution_count": 13,
      "metadata": {},
      "outputs": [
        {
          "name": "stdout",
          "output_type": "stream",
          "text": [
            "Sum of integers from 0 to 5 is: 15\n",
            "Not an interger: 0\n"
          ]
        }
      ],
      "source": [
        "def add_it_up(n):\n",
        "    if isinstance(n, int):\n",
        "        tot = sum(range(n+1))\n",
        "        return f\"Sum of integers from 0 to {n} is: {tot}\"\n",
        "    else:\n",
        "        return f\"Not an interger: 0\"\n",
        "    \n",
        "print(add_it_up(5))\n",
        "print(add_it_up(5.2))\n"
      ]
    },
    {
      "attachments": {},
      "cell_type": "markdown",
      "metadata": {
        "id": "kjjct_TsHWZy"
      },
      "source": [
        "# Exercise  \n",
        "\n",
        "Find all common elements present in each row of a matrix (think Numpy 2D matrix or pandas dataframe) \n",
        "\n",
        "```\n",
        "Input: M × N matrix\n",
        " \n",
        "[  7   1   3   5   3   6  ]\n",
        "[  2   3   6   1   1   6  ]\n",
        "[  6   1   7   2   1   4  ]\n",
        "[  6   6   7   1   3   3  ]\n",
        "[  5   5   6   1   5   4  ]\n",
        "[  3   5   6   2   7   1  ]\n",
        "[  4   1   4   3   6   4  ]\n",
        "[  4   6   1   7   4   3  ]\n",
        " \n",
        "Output: The common elements are 1 and 6\n",
        "\n",
        "```"
      ]
    },
    {
      "cell_type": "code",
      "execution_count": 15,
      "metadata": {},
      "outputs": [
        {
          "name": "stdout",
          "output_type": "stream",
          "text": [
            "Given matrix: \n",
            "[[7 1 3 5 3 6]\n",
            " [2 3 6 1 1 6]\n",
            " [6 1 7 2 1 4]\n",
            " [6 6 7 1 3 3]\n",
            " [5 5 6 1 5 4]\n",
            " [3 5 6 2 7 1]\n",
            " [4 1 4 3 6 4]\n",
            " [4 6 1 7 4 3]]\n",
            "\n",
            "Common elements in each row: {1, 6}\n"
          ]
        }
      ],
      "source": [
        "import numpy as np\n",
        "import pandas as pd\n",
        "\n",
        "def common_elements(mat):\n",
        "    mat = np.array(mat)\n",
        "    common = []\n",
        "    for i in range(mat.shape[0]):\n",
        "        common.append(set(mat[i]))\n",
        "    common = set.intersection(*common)\n",
        "    return common\n",
        "\n",
        "mat = [\n",
        "    [7,1,3,5,3,6],\n",
        "    [2,3,6,1,1,6],\n",
        "    [6,1,7,2,1,4],\n",
        "    [6,6,7,1,3,3],\n",
        "    [5,5,6,1,5,4],\n",
        "    [3,5,6,2,7,1],\n",
        "    [4,1,4,3,6,4],\n",
        "    [4,6,1,7,4,3]]\n",
        "\n",
        "print(f\"Given matrix: \\n{np.array(mat)}\")\n",
        "print(f\"\\nCommon elements in each row: {common_elements(mat)}\")\n"
      ]
    },
    {
      "attachments": {},
      "cell_type": "markdown",
      "metadata": {
        "id": "IprEp8Wn3cyq"
      },
      "source": [
        "# Exercise \n",
        "\n",
        "Given a value N, find the number of ways to make change for N cents, if we have infinite supply of each of S = { S1, S2, .. , SM } valued coins.\n",
        "\n",
        "```\n",
        "Input:\n",
        "n = 4 , m = 3\n",
        "S[] = {1,2,3}\n",
        "Output: 4\n",
        "Explanation: Four Possible ways are:\n",
        "{1,1,1,1},{1,1,2},{2,2},{1,3}.\n",
        "```\n",
        "\n",
        "```\n",
        "Input:\n",
        "n = 10 , m = 4\n",
        "S[] ={2,5,3,6}\n",
        "Output: 5\n",
        "Explanation: Five Possible ways are:\n",
        "{2,2,2,2,2}, {2,2,3,3}, {2,2,6}, {2,3,5} \n",
        "and {5,5}.\n",
        "\n",
        "```"
      ]
    },
    {
      "cell_type": "code",
      "execution_count": 20,
      "metadata": {
        "id": "Zg5gJUKBkNkr"
      },
      "outputs": [
        {
          "name": "stdout",
          "output_type": "stream",
          "text": [
            "Given array: [1, 2, 3] \n",
            "Number of ways to add to 4 with given array: 4\n",
            "\n",
            "Given array: [2, 5, 3, 6] \n",
            "Number of ways to add to 10 with given array: 5\n"
          ]
        }
      ],
      "source": [
        "def count(S, m, n):\n",
        "    table = [[0 for x in range(m)] for x in range(n+1)]\n",
        "    for i in range(m):\n",
        "        table[0][i] = 1\n",
        "    for i in range(1, n+1):\n",
        "        for j in range(m):\n",
        "            x = table[i - S[j]][j] if i-S[j] >= 0 else 0\n",
        "            y = table[i][j-1] if j >= 1 else 0\n",
        "            table[i][j] = x + y\n",
        "    return table[n][m-1]\n",
        "\n",
        "arr = [1, 2, 3]\n",
        "m = len(arr)\n",
        "n = 4\n",
        "print(f\"Given array: {arr} \\nNumber of ways to add to {n} with given array: {count(arr, m, n)}\")\n",
        "\n",
        "arr = [2, 5, 3, 6]\n",
        "m = len(arr)\n",
        "n = 10\n",
        "print(f\"\\nGiven array: {arr} \\nNumber of ways to add to {n} with given array: {count(arr, m, n)}\")"
      ]
    },
    {
      "attachments": {},
      "cell_type": "markdown",
      "metadata": {
        "id": "zQ72nAjwlOb7"
      },
      "source": [
        "# Exercise \n",
        "\n",
        " \n",
        "\n",
        "Generate all the permutations of a string for the given constraint: \n",
        " B doesn't follow A. I.e.  no entries with 'AB'\n",
        "```\n",
        "Input : str = “ABC”  \n",
        "constraint: B doesn't follow A no entries with 'AB'\n",
        "Output : ACB, BAC, BCA, CBA \n",
        "Out of 6 permutations of “ABC”, 4 follow the given constraint and 2 (“ABC” and “CAB”) do not follow. \n",
        "\n",
        "Input : str = “BCD” \n",
        "Output : BCD, BDC, CDB, CBD, DCB, DBC\n",
        "```\n"
      ]
    },
    {
      "cell_type": "code",
      "execution_count": 21,
      "metadata": {
        "id": "To-B47xglOsY"
      },
      "outputs": [
        {
          "name": "stdout",
          "output_type": "stream",
          "text": [
            "Given string: ABC \n",
            "Permutations of the string: ['ABC', 'BAC', 'BCA', 'ACB', 'CAB', 'CBA']\n",
            "\n",
            "Given string: BCD \n",
            "Permutations of the string: ['BCD', 'CBD', 'CDB', 'BDC', 'DBC', 'DCB']\n"
          ]
        }
      ],
      "source": [
        "def permute(s):\n",
        "    if len(s) == 1:\n",
        "        return [s]\n",
        "    perms = permute(s[1:])\n",
        "    char = s[0]\n",
        "    result = []\n",
        "    for perm in perms:\n",
        "        for i in range(len(perm)+1):\n",
        "            result.append(perm[:i] + char + perm[i:])\n",
        "            if i < len(perm) and perm[i] == char:\n",
        "                break\n",
        "    return result\n",
        "\n",
        "s = \"ABC\"\n",
        "print(f\"Given string: {s} \\nPermutations of the string: {permute(s)}\")\n",
        "\n",
        "s = \"BCD\"\n",
        "print(f\"\\nGiven string: {s} \\nPermutations of the string: {permute(s)}\")\n",
        "\n"
      ]
    }
  ],
  "metadata": {
    "colab": {
      "provenance": []
    },
    "kernelspec": {
      "display_name": "Python 3",
      "name": "python3"
    },
    "language_info": {
      "codemirror_mode": {
        "name": "ipython",
        "version": 3
      },
      "file_extension": ".py",
      "mimetype": "text/x-python",
      "name": "python",
      "nbconvert_exporter": "python",
      "pygments_lexer": "ipython3",
      "version": "3.9.6"
    }
  },
  "nbformat": 4,
  "nbformat_minor": 0
}
