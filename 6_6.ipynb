{
  "cells": [
    {
      "cell_type": "code",
      "execution_count": null,
      "metadata": {
        "id": "xs6uZ3GBgisC"
      },
      "outputs": [],
      "source": []
    },
    {
      "attachments": {},
      "cell_type": "markdown",
      "metadata": {
        "id": "fGeC890o8svo"
      },
      "source": [
        "<a href=\"https://codeimmersives.com\"><img src = \"https://www.codeimmersives.com/wp-content/uploads/2019/09/CodeImmersives_Logo_RGB_NYC_BW.png\" width = 400> </a>\n",
        "\n",
        "\n",
        "<h1 align=center><font size = 5>Agenda</font></h1>"
      ]
    },
    {
      "attachments": {},
      "cell_type": "markdown",
      "metadata": {
        "id": "MbDlCnH38svq"
      },
      "source": [
        "### \n",
        "<div class=\"alert alert-block alert-info\" style=\"margin-top: 20px\">\n",
        "\n",
        "1.  [Review](#0)<br>\n",
        "2.  [Pandas](#2)<br>\n",
        "2.  [Exercise](#10)<br> \n",
        "3.  [Exercise](#12)<br>     \n",
        "</div>\n",
        "<hr>"
      ]
    },
    {
      "attachments": {},
      "cell_type": "markdown",
      "metadata": {
        "id": "ErulIQ4D8svs"
      },
      "source": [
        "<h2>Pandas Overwiew</h2>"
      ]
    },
    {
      "attachments": {},
      "cell_type": "markdown",
      "metadata": {
        "id": "Behn8FQa8svs"
      },
      "source": [
        "We use Pandas as the primary tool for analyzing data.  All of the functions we calculated<br>\n",
        "by hand earlier in this course are now given to you automatically using built in functions.<br>\n",
        "<br>\n",
        "The primary data structures used with Pandas are series and dataframes<br>\n",
        "The difference is that we use series for 1 dimensional data and we use dataframes for<br>\n",
        "multidimensional data.\n"
      ]
    },
    {
      "attachments": {},
      "cell_type": "markdown",
      "metadata": {
        "id": "dUXWgOXy8svt"
      },
      "source": [
        "<h2>Pandas Series</h2>"
      ]
    },
    {
      "attachments": {},
      "cell_type": "markdown",
      "metadata": {
        "id": "f6Ir1kSe8svt"
      },
      "source": [
        "To create a pandas data series do the following:<br>\n",
        "    <code>\n",
        "    import pandas as pd\n",
        "    x = pd.Series(range(1,10))\n",
        "    x\n",
        "    </code>\n",
        "Notice the capital letter in the Series"
      ]
    },
    {
      "cell_type": "code",
      "execution_count": 1,
      "metadata": {},
      "outputs": [
        {
          "name": "stdout",
          "output_type": "stream",
          "text": [
            "Defaulting to user installation because normal site-packages is not writeable\n",
            "Collecting pandas\n",
            "  Downloading pandas-2.0.2-cp39-cp39-macosx_11_0_arm64.whl (10.9 MB)\n",
            "\u001b[K     |████████████████████████████████| 10.9 MB 5.9 MB/s eta 0:00:01\n",
            "\u001b[?25hCollecting tzdata>=2022.1\n",
            "  Downloading tzdata-2023.3-py2.py3-none-any.whl (341 kB)\n",
            "\u001b[K     |████████████████████████████████| 341 kB 68.8 MB/s eta 0:00:01\n",
            "\u001b[?25hCollecting pytz>=2020.1\n",
            "  Downloading pytz-2023.3-py2.py3-none-any.whl (502 kB)\n",
            "\u001b[K     |████████████████████████████████| 502 kB 66.5 MB/s eta 0:00:01\n",
            "\u001b[?25hRequirement already satisfied: numpy>=1.20.3 in /Users/brennanstopnik/Library/Python/3.9/lib/python/site-packages (from pandas) (1.24.3)\n",
            "Requirement already satisfied: python-dateutil>=2.8.2 in /Users/brennanstopnik/Library/Python/3.9/lib/python/site-packages (from pandas) (2.8.2)\n",
            "Requirement already satisfied: six>=1.5 in /Library/Developer/CommandLineTools/Library/Frameworks/Python3.framework/Versions/3.9/lib/python3.9/site-packages (from python-dateutil>=2.8.2->pandas) (1.15.0)\n",
            "Installing collected packages: tzdata, pytz, pandas\n",
            "Successfully installed pandas-2.0.2 pytz-2023.3 tzdata-2023.3\n",
            "\u001b[33mWARNING: You are using pip version 21.2.4; however, version 23.1.2 is available.\n",
            "You should consider upgrading via the '/Library/Developer/CommandLineTools/usr/bin/python3 -m pip install --upgrade pip' command.\u001b[0m\n"
          ]
        }
      ],
      "source": [
        "!pip3 install pandas\n"
      ]
    },
    {
      "cell_type": "code",
      "execution_count": 3,
      "metadata": {
        "colab": {
          "base_uri": "https://localhost:8080/"
        },
        "id": "Wv53kTEd8svt",
        "outputId": "66734f3a-3fbf-410d-d94e-3cd08759256d"
      },
      "outputs": [
        {
          "data": {
            "text/plain": [
              "0     5\n",
              "1     6\n",
              "2     7\n",
              "3     8\n",
              "4     9\n",
              "5    10\n",
              "6    11\n",
              "7    12\n",
              "8    13\n",
              "9    14\n",
              "dtype: int64"
            ]
          },
          "execution_count": 3,
          "metadata": {},
          "output_type": "execute_result"
        }
      ],
      "source": [
        "import pandas as pd \n",
        "x = pd.Series(range(5,15))\n",
        "x"
      ]
    },
    {
      "attachments": {},
      "cell_type": "markdown",
      "metadata": {
        "id": "GaNIXK1t_MGM"
      },
      "source": [
        "Notice as well the index: the main difference between pandas series and numpy arrays. Oh but, what's this inside? A Numpy array!"
      ]
    },
    {
      "cell_type": "code",
      "execution_count": 3,
      "metadata": {
        "colab": {
          "base_uri": "https://localhost:8080/"
        },
        "id": "MgFiJimG_GuL",
        "outputId": "8df9674e-b05e-40da-d8c7-e609bb2e005a"
      },
      "outputs": [
        {
          "name": "stdout",
          "output_type": "stream",
          "text": [
            "<class 'numpy.ndarray'>\n"
          ]
        }
      ],
      "source": [
        "x.values\n",
        "print(type(x.values))\n"
      ]
    },
    {
      "cell_type": "code",
      "execution_count": 36,
      "metadata": {
        "colab": {
          "base_uri": "https://localhost:8080/"
        },
        "id": "Sj3r9MfY_T7r",
        "outputId": "af8abe5e-703c-41de-e662-a46c40f26da2"
      },
      "outputs": [
        {
          "data": {
            "text/plain": [
              "array([7, 8])"
            ]
          },
          "execution_count": 36,
          "metadata": {},
          "output_type": "execute_result"
        }
      ],
      "source": [
        "x[0]\n",
        "x.values[2:4]"
      ]
    },
    {
      "attachments": {},
      "cell_type": "markdown",
      "metadata": {
        "id": "T_1pMObw_TNh"
      },
      "source": [
        "Pandas series house numpy arrays, but add a flexible indexing list. "
      ]
    },
    {
      "attachments": {},
      "cell_type": "markdown",
      "metadata": {
        "id": "o65FQgOG8svt"
      },
      "source": [
        "<h4>Data types</h4>\n"
      ]
    },
    {
      "attachments": {},
      "cell_type": "markdown",
      "metadata": {
        "id": "Zg243qVP8svu"
      },
      "source": [
        "Let's try the same thing using charaters in a string<br>\n",
        "<code>\n",
        "import pandas as pd\n",
        "x = pd.Series(['Python'])\n",
        "x\n",
        "</code>"
      ]
    },
    {
      "cell_type": "code",
      "execution_count": 37,
      "metadata": {
        "colab": {
          "base_uri": "https://localhost:8080/"
        },
        "id": "VqVmVYYs8svu",
        "outputId": "9acd7c81-f98b-4ccf-f27a-065b04bb2b91"
      },
      "outputs": [
        {
          "data": {
            "text/plain": [
              "0    3\n",
              "1    4\n",
              "2    5\n",
              "dtype: int64"
            ]
          },
          "execution_count": 37,
          "metadata": {},
          "output_type": "execute_result"
        }
      ],
      "source": [
        "x = pd.Series([3,4,5]) \n",
        "x"
      ]
    },
    {
      "attachments": {},
      "cell_type": "markdown",
      "metadata": {
        "id": "7Wd2F9V88svu"
      },
      "source": [
        "<h2>Exercise</h2>\n",
        "Store the string 'Learning Python is fun' as a string of characters to a pandas series and print the first letter of each word.<br>"
      ]
    },
    {
      "attachments": {},
      "cell_type": "markdown",
      "metadata": {
        "id": "dx3PnpqD8svu"
      },
      "source": [
        "<h4>Solution</h4>"
      ]
    },
    {
      "cell_type": "code",
      "execution_count": 38,
      "metadata": {
        "colab": {
          "base_uri": "https://localhost:8080/"
        },
        "id": "AeEvRlBQ8svv",
        "outputId": "e90e0498-b61a-44d9-aa5e-70d2b7ef8a0a"
      },
      "outputs": [
        {
          "name": "stdout",
          "output_type": "stream",
          "text": [
            "L\n",
            "P\n",
            "i\n",
            "f\n"
          ]
        }
      ],
      "source": [
        "y = pd.Series(['Learning,Python,is,fun', 'hi', 'bye', 'undecided'])\n",
        "phrase = y[0]\n",
        "words = phrase.split(',')\n",
        "for word in words:\n",
        "  print(word[0])\n"
      ]
    },
    {
      "attachments": {},
      "cell_type": "markdown",
      "metadata": {
        "id": "rbCImhduAYVF"
      },
      "source": [
        "<h4>The Index of Pandas Series</h4>\n",
        "Create your own indexing by specifying pd.Series([values],index = ['your', 'index', 'labels' 'here'])\n"
      ]
    },
    {
      "cell_type": "code",
      "execution_count": 39,
      "metadata": {
        "colab": {
          "base_uri": "https://localhost:8080/"
        },
        "id": "D3iufAIkAhL-",
        "outputId": "b0ed2cf0-ec9c-4776-8fb6-84f231378323"
      },
      "outputs": [
        {
          "data": {
            "text/plain": [
              "joe       0.25\n",
              "bob       0.50\n",
              "alex      0.75\n",
              "arthur    1.00\n",
              "dtype: float64"
            ]
          },
          "execution_count": 39,
          "metadata": {},
          "output_type": "execute_result"
        }
      ],
      "source": [
        "data = pd.Series([0.25, 0.5, 0.75, 1.0],\n",
        "                 index=['joe', 'bob', 'alex', 'arthur'])\n",
        "data\n"
      ]
    },
    {
      "attachments": {},
      "cell_type": "markdown",
      "metadata": {
        "id": "sKyMBDb1BXap"
      },
      "source": [
        "Rings like a dictionary? True!"
      ]
    },
    {
      "cell_type": "code",
      "execution_count": 40,
      "metadata": {
        "colab": {
          "base_uri": "https://localhost:8080/"
        },
        "id": "1z-3_M7FBaR0",
        "outputId": "b2e68871-a37d-47c1-ea92-842605065264"
      },
      "outputs": [
        {
          "data": {
            "text/plain": [
              "California    38332521\n",
              "Texas         26448193\n",
              "New York      19651127\n",
              "Florida       19552860\n",
              "Illinois      12882135\n",
              "dtype: int64"
            ]
          },
          "execution_count": 40,
          "metadata": {},
          "output_type": "execute_result"
        }
      ],
      "source": [
        "population_dict = {'California': 38332521,\n",
        "                   'Texas': 26448193,\n",
        "                   'New York': 19651127,\n",
        "                   'Florida': 19552860,\n",
        "                   'Illinois': 12882135}\n",
        "population = pd.Series(population_dict)\n",
        "population"
      ]
    },
    {
      "attachments": {},
      "cell_type": "markdown",
      "metadata": {
        "id": "WQo184Z8BleA"
      },
      "source": [
        "Now we can slice and operate, unlike w/ dictionaries:"
      ]
    },
    {
      "cell_type": "code",
      "execution_count": 41,
      "metadata": {
        "colab": {
          "base_uri": "https://localhost:8080/"
        },
        "id": "M9JI-EOdBpb7",
        "outputId": "e5dab864-46fc-4e2c-be81-53321e9777cc"
      },
      "outputs": [
        {
          "name": "stdout",
          "output_type": "stream",
          "text": [
            "Index(['California', 'Texas', 'New York', 'Florida', 'Illinois'], dtype='object')\n"
          ]
        }
      ],
      "source": [
        "population['California':'New York']\n",
        "arr = population.values\n",
        "ind = population.index\n",
        "print(ind)"
      ]
    },
    {
      "attachments": {},
      "cell_type": "markdown",
      "metadata": {
        "id": "FG73mHBA8svv"
      },
      "source": [
        "Let's now take a mix of floating point numbers and integers and store them in a pandas series<br>\n",
        "<code>\n",
        "import pandas as pd\n",
        "numbers = [2, 2.4, 3, 3.4]\n",
        "ps = pd.Series(numbers)\n",
        "ps\n",
        "</code>"
      ]
    },
    {
      "cell_type": "code",
      "execution_count": 42,
      "metadata": {
        "colab": {
          "base_uri": "https://localhost:8080/"
        },
        "id": "Ob2FwwSQ8svv",
        "outputId": "9895514e-8949-4791-d0da-8bfabedc1410"
      },
      "outputs": [
        {
          "data": {
            "text/plain": [
              "0    2.0\n",
              "1    2.4\n",
              "2    3.0\n",
              "3    3.4\n",
              "4    5.0\n",
              "dtype: float64"
            ]
          },
          "execution_count": 42,
          "metadata": {},
          "output_type": "execute_result"
        }
      ],
      "source": [
        "numbers = [2, 2.4, 3, 3.4, 5]\n",
        "ps = pd.Series(numbers)\n",
        "ps"
      ]
    },
    {
      "attachments": {},
      "cell_type": "markdown",
      "metadata": {
        "id": "7VNT8KPNw8MH"
      },
      "source": [
        "Broadcasting also happens when we add only one value to the values list but multiple indices:"
      ]
    },
    {
      "cell_type": "code",
      "execution_count": 43,
      "metadata": {
        "colab": {
          "base_uri": "https://localhost:8080/"
        },
        "id": "9YGfSSwnxBFo",
        "outputId": "6781425d-ff57-4ff6-c75d-8fe4820dc10e"
      },
      "outputs": [
        {
          "data": {
            "text/plain": [
              "100    5\n",
              "200    5\n",
              "300    5\n",
              "dtype: int64"
            ]
          },
          "execution_count": 43,
          "metadata": {},
          "output_type": "execute_result"
        }
      ],
      "source": [
        "x = pd.Series(5, index=[100, 200, 300])\n",
        "x"
      ]
    },
    {
      "attachments": {},
      "cell_type": "markdown",
      "metadata": {
        "id": "_sgtde9g8svw"
      },
      "source": [
        "To access individual elements in a series we use indexinging and slicing as we<br>\n",
        "do in regular python.  To access the first element in our series type:\n",
        "<br>\n",
        "<code>\n",
        "import pandas as pd\n",
        "numbers = [2, 2.4, 3, 3.4,'Blue']\n",
        "ps = pd.Series(numbers)\n",
        "ps[0]\n",
        "</code>"
      ]
    },
    {
      "cell_type": "code",
      "execution_count": 44,
      "metadata": {
        "colab": {
          "base_uri": "https://localhost:8080/"
        },
        "id": "WoweHOYX8svw",
        "outputId": "9a8cf098-5248-4ae8-fa18-b642cedf7e4a"
      },
      "outputs": [
        {
          "data": {
            "text/plain": [
              "2"
            ]
          },
          "execution_count": 44,
          "metadata": {},
          "output_type": "execute_result"
        }
      ],
      "source": [
        "numbers = [2, 2.4, 3, 3.4,'Blue']\n",
        "ps = pd.Series(numbers)\n",
        "ps[0]"
      ]
    },
    {
      "attachments": {},
      "cell_type": "markdown",
      "metadata": {
        "id": "1cVU_-Kh8svw"
      },
      "source": [
        "To obtain a range of number we use slicing.  To get the last 2 elements in our series<br>\n",
        "<br>\n",
        "<code>\n",
        "import pandas as pd\n",
        "numbers = [2, 2.4, 3, 3.4,'Blue']\n",
        "ps = pd.Series(numbers)\n",
        "ps[-2:]\n",
        "</code>"
      ]
    },
    {
      "cell_type": "code",
      "execution_count": 45,
      "metadata": {
        "colab": {
          "base_uri": "https://localhost:8080/"
        },
        "id": "ZBL7OKoP8svw",
        "outputId": "24e3fe96-f82e-4291-c28a-67b8fe7978ff"
      },
      "outputs": [
        {
          "data": {
            "text/plain": [
              "2       3\n",
              "3     3.4\n",
              "4    Blue\n",
              "dtype: object"
            ]
          },
          "execution_count": 45,
          "metadata": {},
          "output_type": "execute_result"
        }
      ],
      "source": [
        "numbers = [2, 2.4, 3, 3.4,'Blue']\n",
        "ps = pd.Series(numbers)\n",
        "ps[-2:]\n",
        "ps[2:]"
      ]
    },
    {
      "attachments": {},
      "cell_type": "markdown",
      "metadata": {
        "id": "gUkCDpAB8svw"
      },
      "source": [
        "We can change elements in a series by assigning a value to the element<br>\n",
        "<br>\n",
        "<code>\n",
        "import pandas as pd\n",
        "numbers = [2, 2.4, 3, 3.4,'Blue']\n",
        "ps = pd.Series(numbers)\n",
        "ps[4] = 23.5\n",
        "ps\n",
        "</code><br>\n",
        "NOTE: It does not automatically change all of the elements in a series if we manually change<br>\n",
        "all of the elements to the same data type"
      ]
    },
    {
      "cell_type": "code",
      "execution_count": 46,
      "metadata": {
        "colab": {
          "base_uri": "https://localhost:8080/"
        },
        "id": "jlnqf6vP8svw",
        "outputId": "4969725e-7dc7-44d4-c58d-26fc32c13260"
      },
      "outputs": [
        {
          "data": {
            "text/plain": [
              "0       2\n",
              "1     2.4\n",
              "2       3\n",
              "3     3.4\n",
              "4    23.5\n",
              "dtype: object"
            ]
          },
          "execution_count": 46,
          "metadata": {},
          "output_type": "execute_result"
        }
      ],
      "source": [
        "ps[4] = 23.5\n",
        "ps"
      ]
    },
    {
      "attachments": {},
      "cell_type": "markdown",
      "metadata": {
        "id": "boZbyOLi8svx"
      },
      "source": [
        "<h2>Pandas Series Casting</h2>\n",
        "We wil now change our data from an object to a int64 data series<br>\n",
        "<code>\n",
        "import pandas as pd\n",
        "numbers = [2, 2.4, 3, 3.4,'Blue']\n",
        "ps = pd.Series(numbers)\n",
        "ps[4] = 23.5\n",
        "ps.astype('float32')\n",
        "ps.dtype\n",
        "new_ps = ps.astype('float32')\n",
        "new_ps\n",
        "</code>\n",
        "NOTE: This operation is not in place"
      ]
    },
    {
      "cell_type": "code",
      "execution_count": 47,
      "metadata": {
        "colab": {
          "base_uri": "https://localhost:8080/"
        },
        "id": "ItDXTiQs8svx",
        "outputId": "8eead47f-344d-464a-d9e0-8877e51bc360"
      },
      "outputs": [
        {
          "name": "stdout",
          "output_type": "stream",
          "text": [
            "0    2\n",
            "1    4\n",
            "2    3\n",
            "3    1\n",
            "dtype: int64\n",
            "0    2.0\n",
            "1    4.0\n",
            "2    3.0\n",
            "3    1.0\n",
            "dtype: float32\n"
          ]
        }
      ],
      "source": [
        "numbers = [2,4,3,1]\n",
        "ps = pd.Series(numbers)\n",
        "print(ps)\n",
        "new_ps = ps.astype('float32')\n",
        "print(new_ps)"
      ]
    },
    {
      "attachments": {},
      "cell_type": "markdown",
      "metadata": {
        "id": "UjfkKIpO8svx"
      },
      "source": [
        "We can create a series of dates<br>\n",
        "<code>\n",
        "import pandas as pd\n",
        "dates = pd.Series(pd.date_range('20200101', periods=6))\n",
        "print(dates.dtype)\n",
        "dates\n",
        "</code>"
      ]
    },
    {
      "cell_type": "code",
      "execution_count": 48,
      "metadata": {
        "colab": {
          "base_uri": "https://localhost:8080/"
        },
        "id": "0F1Go-Ra8svx",
        "outputId": "457d4972-3fdd-418e-9a57-1404abde3ea2"
      },
      "outputs": [
        {
          "data": {
            "text/plain": [
              "0   2020-01-01\n",
              "1   2020-01-02\n",
              "2   2020-01-03\n",
              "dtype: datetime64[ns]"
            ]
          },
          "execution_count": 48,
          "metadata": {},
          "output_type": "execute_result"
        }
      ],
      "source": [
        "dates = pd.Series(pd.date_range('20200101', periods=3))\n",
        "dates"
      ]
    },
    {
      "attachments": {},
      "cell_type": "markdown",
      "metadata": {
        "id": "ie3YCKXL8svx"
      },
      "source": [
        "<h2>Pandas Operations</h2>\n",
        "We can perform an operation against the whole series<br>\n",
        "<code>\n",
        "x = range(10,21)\n",
        "s1 = pd.Series(x) * 2\n",
        "s1\n",
        "</code>"
      ]
    },
    {
      "cell_type": "code",
      "execution_count": 49,
      "metadata": {
        "colab": {
          "base_uri": "https://localhost:8080/"
        },
        "id": "Xmk7wToD8svx",
        "outputId": "77d7048c-3e31-4b34-ee7c-3a187645ada7"
      },
      "outputs": [
        {
          "data": {
            "text/plain": [
              "0     12\n",
              "1     13\n",
              "2     14\n",
              "3     15\n",
              "4     16\n",
              "5     17\n",
              "6     18\n",
              "7     19\n",
              "8     20\n",
              "9     21\n",
              "10    22\n",
              "dtype: int64"
            ]
          },
          "execution_count": 49,
          "metadata": {},
          "output_type": "execute_result"
        }
      ],
      "source": [
        "x = range(10,21)\n",
        "s1 = pd.Series(x) + 2 \n",
        "s1"
      ]
    },
    {
      "attachments": {},
      "cell_type": "markdown",
      "metadata": {
        "id": "J1gLlY4b8svy"
      },
      "source": [
        "<h2>Exercise</h2>\n",
        "Create a data series of all the odd numbers from 100 to 130<br>\n",
        "Then divide each number by 3<br>"
      ]
    },
    {
      "attachments": {},
      "cell_type": "markdown",
      "metadata": {
        "id": "EVXpDDEH8svy"
      },
      "source": [
        "<h4>Solution</h4>"
      ]
    },
    {
      "cell_type": "code",
      "execution_count": 50,
      "metadata": {
        "colab": {
          "base_uri": "https://localhost:8080/"
        },
        "id": "6MhUskQG0xzp",
        "outputId": "992545be-24b6-4a0f-8a91-ed23e76929e9"
      },
      "outputs": [
        {
          "data": {
            "text/plain": [
              "0     33.666667\n",
              "1     34.333333\n",
              "2     35.000000\n",
              "3     35.666667\n",
              "4     36.333333\n",
              "5     37.000000\n",
              "6     37.666667\n",
              "7     38.333333\n",
              "8     39.000000\n",
              "9     39.666667\n",
              "10    40.333333\n",
              "11    41.000000\n",
              "12    41.666667\n",
              "13    42.333333\n",
              "14    43.000000\n",
              "dtype: float64"
            ]
          },
          "execution_count": 50,
          "metadata": {},
          "output_type": "execute_result"
        }
      ],
      "source": [
        "# Pandas Series from a list of odd numbers from 100 to 130 and divide each number in the series by 3\n",
        "odd_numbers_series = pd.Series([num/3 for num in range(100, 131) if num % 2 != 0])\n",
        "\n",
        "odd_numbers_series\n"
      ]
    },
    {
      "attachments": {},
      "cell_type": "markdown",
      "metadata": {
        "id": "o6osxxDu8svy"
      },
      "source": [
        "<h2>Series head and tail</h2>\n",
        "To display the beginning and ending of a long series use head and tail.<br>\n",
        "This is the same as using the linux head() and tail(). This is great to get a quick overview of the data types without overcomplicating your view<br>\n",
        "<code>\n",
        "x = range(101,171,2)\n",
        "ps = pd.Series(x) / 3\n",
        "ps.head()\n",
        "ps.tail()\n",
        "</code>\n",
        "<br>\n",
        "Head will show the first 5 items in a series\n",
        "Tail will show the last 5 items in a series"
      ]
    },
    {
      "cell_type": "code",
      "execution_count": 51,
      "metadata": {
        "colab": {
          "base_uri": "https://localhost:8080/"
        },
        "id": "uD89mnav8svy",
        "outputId": "7dd6355b-056c-47e4-fc91-87760cbaf4ec"
      },
      "outputs": [
        {
          "data": {
            "text/plain": [
              "25    151\n",
              "26    153\n",
              "27    155\n",
              "28    157\n",
              "29    159\n",
              "30    161\n",
              "31    163\n",
              "32    165\n",
              "33    167\n",
              "34    169\n",
              "dtype: int64"
            ]
          },
          "execution_count": 51,
          "metadata": {},
          "output_type": "execute_result"
        }
      ],
      "source": [
        "x = range(101,171,2)\n",
        "ps = pd.Series(x)\n",
        "# ps.head(10)\n",
        "ps.tail(10)"
      ]
    },
    {
      "attachments": {},
      "cell_type": "markdown",
      "metadata": {
        "id": "hJZZPY_j8svy"
      },
      "source": [
        "<h2>Adding to a data series</h2>\n",
        "To add to a series we use the concat method.  However, we must use an optional<br>\n",
        "parameter if we haven't included an index on our series.<br>\n",
        "<code>\n",
        "import pandas as pd\n",
        "x = range(101,121,2)\n",
        "ps = pd.Series(x)\n",
        "y = range(1,11)\n",
        "p2 = pd.Series(y)\n",
        "p3 = ps.concat(p2, ignore_index=True)\n",
        "p3\n",
        "</code>"
      ]
    },
    {
      "cell_type": "code",
      "execution_count": 54,
      "metadata": {
        "colab": {
          "base_uri": "https://localhost:8080/"
        },
        "id": "WGNg-VCC8svy",
        "outputId": "f96033db-1f8c-4087-e0a6-e74eb9587829"
      },
      "outputs": [
        {
          "data": {
            "text/plain": [
              "0     101\n",
              "1     103\n",
              "2     105\n",
              "3     107\n",
              "4     109\n",
              "5     111\n",
              "6     113\n",
              "7     115\n",
              "8     117\n",
              "9     119\n",
              "10      1\n",
              "11      2\n",
              "12      3\n",
              "13      4\n",
              "14      5\n",
              "15      6\n",
              "16      7\n",
              "17      8\n",
              "18      9\n",
              "19     10\n",
              "dtype: int64"
            ]
          },
          "execution_count": 54,
          "metadata": {},
          "output_type": "execute_result"
        }
      ],
      "source": [
        "\n",
        "x = range(101,121,2)\n",
        "p1 = pd.Series(x)\n",
        "y = range(1,11)\n",
        "p2 = pd.Series(y)\n",
        "p3 = pd.concat([p1, p2], ignore_index=True)\n",
        "p3"
      ]
    },
    {
      "attachments": {},
      "cell_type": "markdown",
      "metadata": {
        "id": "oeZZKqK58svz"
      },
      "source": [
        "<h2>Removing a row from a series</h2>\n",
        "To remove a line from a series use the drop method with index as arg<br>\n",
        "<code>\n",
        "import pandas as pd\n",
        "x = range(101,121,2)\n",
        "ps = pd.Series(x)\n",
        "y = range(1,11)\n",
        "p2 = pd.Series(y)\n",
        "p3 = ps.append(p2, ignore_index=True)\n",
        "p4 = p3.drop(1)\n",
        "p4\n",
        "</code>"
      ]
    },
    {
      "cell_type": "code",
      "execution_count": 55,
      "metadata": {
        "colab": {
          "base_uri": "https://localhost:8080/"
        },
        "id": "MK8_3W-E8svz",
        "outputId": "d0faf7a0-4b8a-41c2-d9f0-a8cd71be87f6"
      },
      "outputs": [
        {
          "data": {
            "text/plain": [
              "0    101\n",
              "1    103\n",
              "2    105\n",
              "3    107\n",
              "4    109\n",
              "5    111\n",
              "6    113\n",
              "8    117\n",
              "9    119\n",
              "dtype: int64"
            ]
          },
          "execution_count": 55,
          "metadata": {},
          "output_type": "execute_result"
        }
      ],
      "source": [
        "x = range(101,121,2) \n",
        "ps = pd.Series(x)\n",
        "ps2 = ps.drop(7)\n",
        "ps2"
      ]
    },
    {
      "attachments": {},
      "cell_type": "markdown",
      "metadata": {
        "id": "NmT0X4s-IlEm"
      },
      "source": [
        "Using the above, drop the tail and head of p3 and output the resulting series."
      ]
    },
    {
      "cell_type": "code",
      "execution_count": 56,
      "metadata": {
        "colab": {
          "base_uri": "https://localhost:8080/"
        },
        "id": "coySos2KJ1ZU",
        "outputId": "e3302598-aae4-4da4-e57f-af65b2a3d2dc"
      },
      "outputs": [
        {
          "data": {
            "text/plain": [
              "5     111\n",
              "6     113\n",
              "7     115\n",
              "8     117\n",
              "9     119\n",
              "10      1\n",
              "11      2\n",
              "12      3\n",
              "13      4\n",
              "14      5\n",
              "dtype: int64"
            ]
          },
          "execution_count": 56,
          "metadata": {},
          "output_type": "execute_result"
        }
      ],
      "source": [
        "p1 = pd.Series(range(101,121,2))\n",
        "p2 = pd.Series(range(1,11))\n",
        "p3 = pd.concat([p1, p2], ignore_index=True)\n",
        "\n",
        "p3 = p3.drop(p3.head().index)\n",
        "p3 = p3.drop(p3.tail().index)\n",
        "p3\n"
      ]
    },
    {
      "attachments": {},
      "cell_type": "markdown",
      "metadata": {
        "id": "B2GT9vt_8svz"
      },
      "source": [
        "<h2>Pandas Series Index</h2>\n",
        "We can add an index to a series by passing in an index of the same size as the data<br>\n",
        "<code>\n",
        "import pandas as pd\n",
        "phrase = ['A','B','C','D','E']\n",
        "index = range(5,10)\n",
        "ps = pd.Series(phrase, index = index)\n",
        "ps\n",
        "</code>\n",
        "<br>\n",
        "NOTE: The size of the index and data must be the same"
      ]
    },
    {
      "cell_type": "code",
      "execution_count": null,
      "metadata": {
        "id": "ehev3mXT8svz"
      },
      "outputs": [],
      "source": []
    },
    {
      "attachments": {},
      "cell_type": "markdown",
      "metadata": {
        "id": "iQ_2eK6K8svz"
      },
      "source": [
        "<h2>Pandas search using the index</h2>\n",
        "To search for an element isn a series use the 'loc' method<br>\n",
        "<code>\n",
        "import pandas as pd\n",
        "phrase = ['A','B','C','D','E']\n",
        "index = range(5,10)\n",
        "ps = pd.Series(phrase, index = index)\n",
        "ps.loc[8]\n",
        "</code>"
      ]
    },
    {
      "cell_type": "code",
      "execution_count": 57,
      "metadata": {
        "id": "q1eeLVSh8svz"
      },
      "outputs": [
        {
          "data": {
            "text/plain": [
              "'D'"
            ]
          },
          "execution_count": 57,
          "metadata": {},
          "output_type": "execute_result"
        }
      ],
      "source": [
        "phrase = ['A','B','C','D','E']\n",
        "index = range(5,10)\n",
        "ps = pd.Series(phrase, index = index) \n",
        "ps.loc[8]"
      ]
    },
    {
      "cell_type": "code",
      "execution_count": null,
      "metadata": {
        "colab": {
          "base_uri": "https://localhost:8080/",
          "height": 112
        },
        "id": "2NccpfhVVON_",
        "outputId": "c490147b-e6a9-422f-e2e3-97dd83e65541"
      },
      "outputs": [
        {
          "data": {
            "text/html": [
              "\n",
              "  <div id=\"df-bff45130-43de-4052-9e3b-899578988ef2\">\n",
              "    <div class=\"colab-df-container\">\n",
              "      <div>\n",
              "<style scoped>\n",
              "    .dataframe tbody tr th:only-of-type {\n",
              "        vertical-align: middle;\n",
              "    }\n",
              "\n",
              "    .dataframe tbody tr th {\n",
              "        vertical-align: top;\n",
              "    }\n",
              "\n",
              "    .dataframe thead th {\n",
              "        text-align: right;\n",
              "    }\n",
              "</style>\n",
              "<table border=\"1\" class=\"dataframe\">\n",
              "  <thead>\n",
              "    <tr style=\"text-align: right;\">\n",
              "      <th></th>\n",
              "      <th>max_speed</th>\n",
              "      <th>shield</th>\n",
              "    </tr>\n",
              "  </thead>\n",
              "  <tbody>\n",
              "    <tr>\n",
              "      <th>viper</th>\n",
              "      <td>4</td>\n",
              "      <td>5</td>\n",
              "    </tr>\n",
              "    <tr>\n",
              "      <th>sidewinder</th>\n",
              "      <td>7</td>\n",
              "      <td>8</td>\n",
              "    </tr>\n",
              "  </tbody>\n",
              "</table>\n",
              "</div>\n",
              "      <button class=\"colab-df-convert\" onclick=\"convertToInteractive('df-bff45130-43de-4052-9e3b-899578988ef2')\"\n",
              "              title=\"Convert this dataframe to an interactive table.\"\n",
              "              style=\"display:none;\">\n",
              "        \n",
              "  <svg xmlns=\"http://www.w3.org/2000/svg\" height=\"24px\"viewBox=\"0 0 24 24\"\n",
              "       width=\"24px\">\n",
              "    <path d=\"M0 0h24v24H0V0z\" fill=\"none\"/>\n",
              "    <path d=\"M18.56 5.44l.94 2.06.94-2.06 2.06-.94-2.06-.94-.94-2.06-.94 2.06-2.06.94zm-11 1L8.5 8.5l.94-2.06 2.06-.94-2.06-.94L8.5 2.5l-.94 2.06-2.06.94zm10 10l.94 2.06.94-2.06 2.06-.94-2.06-.94-.94-2.06-.94 2.06-2.06.94z\"/><path d=\"M17.41 7.96l-1.37-1.37c-.4-.4-.92-.59-1.43-.59-.52 0-1.04.2-1.43.59L10.3 9.45l-7.72 7.72c-.78.78-.78 2.05 0 2.83L4 21.41c.39.39.9.59 1.41.59.51 0 1.02-.2 1.41-.59l7.78-7.78 2.81-2.81c.8-.78.8-2.07 0-2.86zM5.41 20L4 18.59l7.72-7.72 1.47 1.35L5.41 20z\"/>\n",
              "  </svg>\n",
              "      </button>\n",
              "      \n",
              "  <style>\n",
              "    .colab-df-container {\n",
              "      display:flex;\n",
              "      flex-wrap:wrap;\n",
              "      gap: 12px;\n",
              "    }\n",
              "\n",
              "    .colab-df-convert {\n",
              "      background-color: #E8F0FE;\n",
              "      border: none;\n",
              "      border-radius: 50%;\n",
              "      cursor: pointer;\n",
              "      display: none;\n",
              "      fill: #1967D2;\n",
              "      height: 32px;\n",
              "      padding: 0 0 0 0;\n",
              "      width: 32px;\n",
              "    }\n",
              "\n",
              "    .colab-df-convert:hover {\n",
              "      background-color: #E2EBFA;\n",
              "      box-shadow: 0px 1px 2px rgba(60, 64, 67, 0.3), 0px 1px 3px 1px rgba(60, 64, 67, 0.15);\n",
              "      fill: #174EA6;\n",
              "    }\n",
              "\n",
              "    [theme=dark] .colab-df-convert {\n",
              "      background-color: #3B4455;\n",
              "      fill: #D2E3FC;\n",
              "    }\n",
              "\n",
              "    [theme=dark] .colab-df-convert:hover {\n",
              "      background-color: #434B5C;\n",
              "      box-shadow: 0px 1px 3px 1px rgba(0, 0, 0, 0.15);\n",
              "      filter: drop-shadow(0px 1px 2px rgba(0, 0, 0, 0.3));\n",
              "      fill: #FFFFFF;\n",
              "    }\n",
              "  </style>\n",
              "\n",
              "      <script>\n",
              "        const buttonEl =\n",
              "          document.querySelector('#df-bff45130-43de-4052-9e3b-899578988ef2 button.colab-df-convert');\n",
              "        buttonEl.style.display =\n",
              "          google.colab.kernel.accessAllowed ? 'block' : 'none';\n",
              "\n",
              "        async function convertToInteractive(key) {\n",
              "          const element = document.querySelector('#df-bff45130-43de-4052-9e3b-899578988ef2');\n",
              "          const dataTable =\n",
              "            await google.colab.kernel.invokeFunction('convertToInteractive',\n",
              "                                                     [key], {});\n",
              "          if (!dataTable) return;\n",
              "\n",
              "          const docLinkHtml = 'Like what you see? Visit the ' +\n",
              "            '<a target=\"_blank\" href=https://colab.research.google.com/notebooks/data_table.ipynb>data table notebook</a>'\n",
              "            + ' to learn more about interactive tables.';\n",
              "          element.innerHTML = '';\n",
              "          dataTable['output_type'] = 'display_data';\n",
              "          await google.colab.output.renderOutput(dataTable, element);\n",
              "          const docLink = document.createElement('div');\n",
              "          docLink.innerHTML = docLinkHtml;\n",
              "          element.appendChild(docLink);\n",
              "        }\n",
              "      </script>\n",
              "    </div>\n",
              "  </div>\n",
              "  "
            ],
            "text/plain": [
              "            max_speed  shield\n",
              "viper               4       5\n",
              "sidewinder          7       8"
            ]
          },
          "execution_count": 53,
          "metadata": {},
          "output_type": "execute_result"
        }
      ],
      "source": [
        "df = pd.DataFrame([[1, 2], [4, 5], [7, 8]],\n",
        "     index=['cobra', 'viper', 'sidewinder'],\n",
        "     columns=['max_speed', 'shield'])\n",
        "df.loc[['viper', 'sidewinder']] #loc[] always based on index "
      ]
    },
    {
      "attachments": {},
      "cell_type": "markdown",
      "metadata": {
        "id": "fPu9Ax0SN_8d"
      },
      "source": [
        "<h2>Exercise</h2>\n",
        "Create a pandas data series with every lower case letter of the alphabet<br>\n",
        "with the ascii number as the index.<br>\n",
        "Use alphabet_string = string.ascii_lowercase for a list of letters."
      ]
    },
    {
      "cell_type": "code",
      "execution_count": 4,
      "metadata": {
        "id": "9zlN4JgaGRRj"
      },
      "outputs": [
        {
          "data": {
            "text/plain": [
              "97     a\n",
              "98     b\n",
              "99     c\n",
              "100    d\n",
              "101    e\n",
              "102    f\n",
              "103    g\n",
              "104    h\n",
              "105    i\n",
              "106    j\n",
              "107    k\n",
              "108    l\n",
              "109    m\n",
              "110    n\n",
              "111    o\n",
              "112    p\n",
              "113    q\n",
              "114    r\n",
              "115    s\n",
              "116    t\n",
              "117    u\n",
              "118    v\n",
              "119    w\n",
              "120    x\n",
              "121    y\n",
              "122    z\n",
              "dtype: object"
            ]
          },
          "execution_count": 4,
          "metadata": {},
          "output_type": "execute_result"
        }
      ],
      "source": [
        "import string\n",
        "\n",
        "# A pandas Series with lowercase letters of the alphabet and ASCII numbers as index\n",
        "series_alphabet = pd.Series(list(string.ascii_lowercase), index=[ord(letter) for letter in string.ascii_lowercase])\n",
        "\n",
        "series_alphabet\n",
        "\n",
        "\n"
      ]
    },
    {
      "cell_type": "code",
      "execution_count": 7,
      "metadata": {},
      "outputs": [
        {
          "data": {
            "text/plain": [
              "97     a\n",
              "98     b\n",
              "99     c\n",
              "100    d\n",
              "101    e\n",
              "102    f\n",
              "103    g\n",
              "104    h\n",
              "105    i\n",
              "106    j\n",
              "107    k\n",
              "108    l\n",
              "109    m\n",
              "110    n\n",
              "111    o\n",
              "112    p\n",
              "113    q\n",
              "114    r\n",
              "115    s\n",
              "116    t\n",
              "117    u\n",
              "118    v\n",
              "119    w\n",
              "120    x\n",
              "121    y\n",
              "122    z\n",
              "dtype: object"
            ]
          },
          "execution_count": 7,
          "metadata": {},
          "output_type": "execute_result"
        }
      ],
      "source": [
        "alpha_str = string.ascii_lowercase\n",
        "alpha_list = list(alpha_str)\n",
        "ords = []\n",
        "for letter in alpha_list:\n",
        "    ords.append(ord(letter))\n",
        "series_alpha = pd.Series(alpha_list, index=ords)\n",
        "series_alpha"
      ]
    },
    {
      "attachments": {},
      "cell_type": "markdown",
      "metadata": {
        "id": "ooPLR_-08sv0"
      },
      "source": [
        "This notebook is part of a course at www.codeimmersives.com called Data Science. If you accessed this notebook outside the course, you can get more information about this course online by clicking here."
      ]
    },
    {
      "attachments": {},
      "cell_type": "markdown",
      "metadata": {
        "id": "qOgfbgis8sv0"
      },
      "source": [
        "<hr>\n",
        "\n",
        "Copyright &copy; 2021  Code Immersives"
      ]
    }
  ],
  "metadata": {
    "colab": {
      "provenance": []
    },
    "kernelspec": {
      "display_name": "Python 3",
      "language": "python",
      "name": "python3"
    },
    "language_info": {
      "codemirror_mode": {
        "name": "ipython",
        "version": 3
      },
      "file_extension": ".py",
      "mimetype": "text/x-python",
      "name": "python",
      "nbconvert_exporter": "python",
      "pygments_lexer": "ipython3",
      "version": "3.9.6"
    },
    "vscode": {
      "interpreter": {
        "hash": "31f2aee4e71d21fbe5cf8b01ff0e069b9275f58929596ceb00d14d90e3e16cd6"
      }
    }
  },
  "nbformat": 4,
  "nbformat_minor": 0
}
