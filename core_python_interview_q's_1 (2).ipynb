{
  "cells": [
    {
      "attachments": {},
      "cell_type": "markdown",
      "metadata": {
        "id": "Bnj4o6e_CCdW"
      },
      "source": [
        "# Exercise 1\n",
        "\n",
        "\n",
        "English Int:\n",
        "\n",
        "Given any integer, print an English phrase that describes the integer (e.g., \"One Thousand, Two Hundred Thirty Four\").\n",
        "\n",
        "```\n",
        "0-9999\n",
        "\n",
        "input: 1234\n",
        "output: One Thousand, Two Hundred Thirty Four\"\n",
        "\n",
        "input: 200\n",
        "output: two hundred\n",
        "\n",
        "````\n",
        "\n",
        "EXTRA:\n",
        "-1,000,000,000 ( negative 1 billion) <= N <= 1,000,000,000 (1 billion)\n",
        "\n"
      ]
    },
    {
      "cell_type": "code",
      "execution_count": 48,
      "metadata": {},
      "outputs": [
        {
          "name": "stdout",
          "output_type": "stream",
          "text": [
            "Number Into Words \n",
            "Number: 123209 \n",
            "Result: One Hundred Twenty Three Thousand Two Hundred Nine \n"
          ]
        }
      ],
      "source": [
        "def number_to_words(num):\n",
        "    ones = ['', 'One', 'Two', 'Three', 'Four', 'Five', 'Six', 'Seven', 'Eight', 'Nine', 'Ten',\n",
        "            'Eleven', 'Twelve', 'Thirteen', 'Fourteen', 'Fifteen', 'Sixteen', 'Seventeen', 'Eighteen','Nineteen']\n",
        "    tens = ['', '', 'Twenty', 'Thirty', 'Forty', 'Fifty', 'Sixty', 'Seventy', 'Eighty','Ninety']\n",
        "    hundred = ['', 'Hundred']\n",
        "    thousands = ['', 'Thousand', 'Million', 'Billion']\n",
        "\n",
        "    if num == 0:\n",
        "        return 'Zero'\n",
        "\n",
        "    words = []\n",
        "    i = 0\n",
        "\n",
        "    while num > 0:\n",
        "        if num % 1000 != 0:\n",
        "            part = num % 1000\n",
        "            word = ''\n",
        "            if part // 100 != 0:\n",
        "                word += ones[part // 100] + ' ' + hundred[1] + ' '\n",
        "            if part % 100 < 20:\n",
        "                word += ones[part % 100]\n",
        "            else:\n",
        "                word += tens[(part % 100) // 10] + ' ' + ones[part % 10]\n",
        "            words.append(word + ' ' + thousands[i])\n",
        "\n",
        "        num //= 1000\n",
        "        i += 1\n",
        "\n",
        "    return ' '.join(words[::-1])\n",
        "\n",
        "number = 123209\n",
        "result = number_to_words(number)\n",
        "print(f\"Number Into Words \\nNumber: {number} \\nResult: {result}\")\n"
      ]
    },
    {
      "attachments": {},
      "cell_type": "markdown",
      "metadata": {
        "id": "6h1K-pa5DZPY"
      },
      "source": [
        "# Exercise 2\n",
        "\n",
        "Write a method to count the number of 2s that appear in all the numbers between 0\n",
        "and n (inclusive).\n",
        "\n",
        "```\n",
        "Input: 25\n",
        "Output; 9 (2, 12, 20, 21, 22, 23, 24 and 25. Note that 22 counts for two 2s.)\n",
        "```"
      ]
    },
    {
      "cell_type": "code",
      "execution_count": 50,
      "metadata": {
        "id": "Aw6AGr3C7gMT"
      },
      "outputs": [
        {
          "name": "stdout",
          "output_type": "stream",
          "text": [
            "Number of two's in 1 to 25: 9\n"
          ]
        }
      ],
      "source": [
        "def counting_twos(num):\n",
        "    count = 0\n",
        "    for i in range(2, num+1):\n",
        "        count += str(i).count('2')\n",
        "    return count\n",
        "\n",
        "number = 25\n",
        "result = counting_twos(number)\n",
        "print(f\"Number of two's in 1 to {number}: {result}\")\n"
      ]
    },
    {
      "attachments": {},
      "cell_type": "markdown",
      "metadata": {
        "id": "zH01nqqaPpVu"
      },
      "source": [
        "## Exercise 3\n",
        "\n",
        "Given a string and a positive integer k, find all distinct substrings of any length containing exactly k distinct characters.\n",
        "\n",
        "i.e.\n",
        "\n",
        "```\n",
        "Input:  str = abcbd, k = 3\n",
        "Output: [abc, abcb, bcbd, cbd]\n",
        "\n",
        "\n",
        "Input:  str = abcadce, k = 4\n",
        "Output: [abcad, abcadc, bcad, bcadc, cadce, adce]\n",
        "\n",
        "\n",
        "Input:  str = aa, k = 1\n",
        "Output: [a, aa]\n",
        "\n",
        "```"
      ]
    },
    {
      "cell_type": "code",
      "execution_count": 51,
      "metadata": {},
      "outputs": [
        {
          "name": "stdout",
          "output_type": "stream",
          "text": [
            "String: abcbdbe \n",
            "Length: 3 \n",
            "Result: ['bcbdb', 'cbd', 'bdbe', 'abcb', 'dbe', 'cbdb', 'bcbd', 'abc']\n"
          ]
        }
      ],
      "source": [
        "def distinct_substrings(string, k):\n",
        "    n = len(string)\n",
        "    result = set()\n",
        "\n",
        "    for i in range(n):\n",
        "        count = [0] * 26\n",
        "        distinct_char_count = 0\n",
        "\n",
        "        for j in range(i, n):\n",
        "            index = ord(string[j]) - ord('a')\n",
        "            if count[index] == 0:\n",
        "                distinct_char_count += 1\n",
        "\n",
        "            count[index] += 1\n",
        "\n",
        "            if distinct_char_count == k:\n",
        "                result.add(string[i:j + 1])\n",
        "            elif distinct_char_count > k:\n",
        "                break\n",
        "\n",
        "    return list(result)\n",
        "\n",
        "string = \"abcbdbe\"\n",
        "k = 3\n",
        "result = distinct_substrings(string, k)\n",
        "print(f\"String: {string} \\nLength: {k} \\nResult: {result}\")\n"
      ]
    },
    {
      "attachments": {},
      "cell_type": "markdown",
      "metadata": {
        "id": "DxzD_Y6RUfQZ"
      },
      "source": [
        "## Exercise 4\n",
        "\n",
        "Check if the binary representation of a positive number is palindrome or not. (You will need to Google a function that converts numbers to binary)\n",
        "\n",
        "\n",
        "\n",
        "For example, 101, 11, 11011, 1001001 are palindromes. 100, 110, 1011, etc., are not palindromes.\n",
        "\n",
        "```\n",
        "Input: 5\n",
        "\n",
        "Output: True\n",
        "\n",
        "\n",
        "Input: 4\n",
        "\n",
        "Output : False\n",
        "```"
      ]
    },
    {
      "cell_type": "code",
      "execution_count": 40,
      "metadata": {},
      "outputs": [
        {
          "data": {
            "text/plain": [
              "True"
            ]
          },
          "execution_count": 40,
          "metadata": {},
          "output_type": "execute_result"
        }
      ],
      "source": [
        "def nums_to_binary(num):\n",
        "    result = []\n",
        "    for i in range(num+1):\n",
        "        result.append(bin(i)[2:])\n",
        "    return result[-1]\n",
        "\n",
        "def is_palindrome(string):\n",
        "    return string == string[::-1]\n",
        "\n",
        "num = 771\n",
        "\n",
        "is_palindrome(nums_to_binary(num))\n"
      ]
    }
  ],
  "metadata": {
    "colab": {
      "provenance": []
    },
    "kernelspec": {
      "display_name": "Python 3",
      "name": "python3"
    },
    "language_info": {
      "codemirror_mode": {
        "name": "ipython",
        "version": 3
      },
      "file_extension": ".py",
      "mimetype": "text/x-python",
      "name": "python",
      "nbconvert_exporter": "python",
      "pygments_lexer": "ipython3",
      "version": "3.9.6"
    }
  },
  "nbformat": 4,
  "nbformat_minor": 0
}
