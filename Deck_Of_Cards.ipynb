{
 "cells": [
  {
   "attachments": {},
   "cell_type": "markdown",
   "metadata": {},
   "source": [
    "We have the following class called 'Deck_of_Cards'<br>\n",
    "<code>\n",
    "class Deck_of_Cards:\n",
    "    def __init__(self):\n",
    "        self.cards = self.create_deck()\n",
    "        \n",
    "    def create_deck(self):\n",
    "        face_cards = ['Jack','Queen','King','Ace']\n",
    "        non_face_cards = list(range(2,11))\n",
    "        suit = ['Spades','Clubs','Hearts','Diamonds']\n",
    "        cards = [f'{card} of {s}' for card in non_face_cards + face_cards for s in suit]\n",
    "        return cards\n",
    "\n",
    "    def __str__(self):\n",
    "        return f'There are {self.number_of_cards} cards in the deck'\n",
    "    \n",
    "new_deal = Deck_of_Cards()\n",
    "print(new_deal.cards)\n",
    "</code>\n",
    "<br>\n",
    "Create the following methods:<br>\n",
    "1 - 'shuffle' to reorder the cards<br>\n",
    "2 - 'cut' which takes in an interger or defaults to zero which is called a tap and no<br>\n",
    "reorder is done.<br>\n",
    "3 - 'deal' which takes in 1 arguments the number of cards and removes them from the top of the deck<br>\n"
   ]
  },
  {
   "cell_type": "code",
   "execution_count": 2,
   "metadata": {},
   "outputs": [
    {
     "name": "stdout",
     "output_type": "stream",
     "text": [
      "['2 of Spades', '3 of Spades', '4 of Spades', '5 of Spades', '6 of Spades', '7 of Spades', '8 of Spades', '9 of Spades', '10 of Spades', 'Jack of Spades', 'Queen of Spades', 'King of Spades', 'Ace of Spades', '2 of Clubs', '3 of Clubs', '4 of Clubs', '5 of Clubs', '6 of Clubs', '7 of Clubs', '8 of Clubs', '9 of Clubs', '10 of Clubs', 'Jack of Clubs', 'Queen of Clubs', 'King of Clubs', 'Ace of Clubs', '2 of Hearts', '3 of Hearts', '4 of Hearts', '5 of Hearts', '6 of Hearts', '7 of Hearts', '8 of Hearts', '9 of Hearts', '10 of Hearts', 'Jack of Hearts', 'Queen of Hearts', 'King of Hearts', 'Ace of Hearts', '2 of Diamonds', '3 of Diamonds', '4 of Diamonds', '5 of Diamonds', '6 of Diamonds', '7 of Diamonds', '8 of Diamonds', '9 of Diamonds', '10 of Diamonds', 'Jack of Diamonds', 'Queen of Diamonds', 'King of Diamonds', 'Ace of Diamonds']\n",
      "========================================\n",
      "Shuffled deck: ['8 of Hearts', 'Jack of Diamonds', 'Ace of Clubs', 'King of Spades', '3 of Spades', '6 of Clubs', '2 of Diamonds', '2 of Hearts', '2 of Clubs', '8 of Clubs', 'Queen of Clubs', '8 of Diamonds', '10 of Spades', '3 of Diamonds', 'Ace of Diamonds', '7 of Spades', '2 of Spades', '7 of Hearts', '5 of Hearts', '8 of Spades', '9 of Spades', '5 of Spades', '7 of Clubs', '5 of Diamonds', '3 of Hearts', '9 of Diamonds', 'Jack of Clubs', '5 of Clubs', 'Queen of Hearts', '4 of Diamonds', '7 of Diamonds', '10 of Clubs', '9 of Hearts', 'King of Hearts', 'Ace of Hearts', 'Jack of Spades', 'King of Clubs', 'Queen of Diamonds', '6 of Spades', 'King of Diamonds', '4 of Clubs', '9 of Clubs', '10 of Diamonds', 'Queen of Spades', '3 of Clubs', '4 of Hearts', 'Ace of Spades', '10 of Hearts', '6 of Hearts', '6 of Diamonds', '4 of Spades', 'Jack of Hearts']\n",
      "========================================\n",
      "Cut deck: ['King of Spades', '3 of Spades', '6 of Clubs', '2 of Diamonds', '2 of Hearts', '2 of Clubs', '8 of Clubs', 'Queen of Clubs', '8 of Diamonds', '10 of Spades', '3 of Diamonds', 'Ace of Diamonds', '7 of Spades', '2 of Spades', '7 of Hearts', '5 of Hearts', '8 of Spades', '9 of Spades', '5 of Spades', '7 of Clubs', '5 of Diamonds', '3 of Hearts', '9 of Diamonds', 'Jack of Clubs', '5 of Clubs', 'Queen of Hearts', '4 of Diamonds', '7 of Diamonds', '10 of Clubs', '9 of Hearts', 'King of Hearts', 'Ace of Hearts', 'Jack of Spades', 'King of Clubs', 'Queen of Diamonds', '6 of Spades', 'King of Diamonds', '4 of Clubs', '9 of Clubs', '10 of Diamonds', 'Queen of Spades', '3 of Clubs', '4 of Hearts', 'Ace of Spades', '10 of Hearts', '6 of Hearts', '6 of Diamonds', '4 of Spades', 'Jack of Hearts', '8 of Hearts', 'Jack of Diamonds', 'Ace of Clubs']\n",
      "========================================\n",
      "Dealt cards: ['King of Spades', '3 of Spades', '6 of Clubs', '2 of Diamonds', '2 of Hearts']\n",
      "Remaining deck: ['2 of Clubs', '8 of Clubs', 'Queen of Clubs', '8 of Diamonds', '10 of Spades', '3 of Diamonds', 'Ace of Diamonds', '7 of Spades', '2 of Spades', '7 of Hearts', '5 of Hearts', '8 of Spades', '9 of Spades', '5 of Spades', '7 of Clubs', '5 of Diamonds', '3 of Hearts', '9 of Diamonds', 'Jack of Clubs', '5 of Clubs', 'Queen of Hearts', '4 of Diamonds', '7 of Diamonds', '10 of Clubs', '9 of Hearts', 'King of Hearts', 'Ace of Hearts', 'Jack of Spades', 'King of Clubs', 'Queen of Diamonds', '6 of Spades', 'King of Diamonds', '4 of Clubs', '9 of Clubs', '10 of Diamonds', 'Queen of Spades', '3 of Clubs', '4 of Hearts', 'Ace of Spades', '10 of Hearts', '6 of Hearts', '6 of Diamonds', '4 of Spades', 'Jack of Hearts', '8 of Hearts', 'Jack of Diamonds', 'Ace of Clubs']\n",
      "========================================\n",
      "There are 52 cards in the deck\n"
     ]
    }
   ],
   "source": [
    "from random import shuffle\n",
    "\n",
    "class Deck_of_Cards:\n",
    "\n",
    "    # initialize the deck of cards\n",
    "    def __init__(self):\n",
    "        self.cards = self.create_deck()\n",
    "        self.number_of_cards = len(self.cards)\n",
    "\n",
    "    # create a deck of cards\n",
    "    def create_deck(self):\n",
    "        face_cards = ['Jack', 'Queen', 'King', 'Ace']\n",
    "        non_face_cards = list(range(2, 11))\n",
    "        suits = ['Spades', 'Clubs', 'Hearts', 'Diamonds']\n",
    "        cards = [f'{card} of {suit}' for suit in suits for card in non_face_cards + face_cards]\n",
    "        return cards\n",
    "\n",
    "    # shuffle the deck of cards\n",
    "    def shuffle_deck(self):\n",
    "        shuffle(self.cards)\n",
    "\n",
    "    # cut the deck of cards\n",
    "    def cut(self, position=0):\n",
    "        position = max(0, min(position, len(self.cards)))\n",
    "        self.cards = self.cards[position:] + self.cards[:position]\n",
    "\n",
    "    # deal a number of cards from the deck\n",
    "    def deal(self, num_cards):\n",
    "        if num_cards > len(self.cards):\n",
    "            raise ValueError(\"Not enough cards in the deck.\")\n",
    "\n",
    "        dealt_cards = self.cards[:num_cards]\n",
    "        self.cards = self.cards[num_cards:]\n",
    "\n",
    "        return dealt_cards\n",
    "\n",
    "    # print the number of cards in the deck\n",
    "    def __str__(self):\n",
    "        return f'There are {self.number_of_cards} cards in the deck'\n",
    "\n",
    "# Create an instance of Deck_of_Cards\n",
    "new_deal = Deck_of_Cards()\n",
    "\n",
    "# Print the initial deck of cards\n",
    "print(new_deal.cards)\n",
    "print(\"========================================\")\n",
    "\n",
    "# Shuffle the deck\n",
    "new_deal.shuffle_deck()\n",
    "print(\"Shuffled deck:\", new_deal.cards)\n",
    "print(\"========================================\")\n",
    "\n",
    "# Cut the deck at position 3\n",
    "new_deal.cut(3)\n",
    "print(\"Cut deck:\", new_deal.cards)\n",
    "print(\"========================================\")\n",
    "\n",
    "# Deal 5 cards from the top of the deck\n",
    "dealt_cards = new_deal.deal(5)\n",
    "print(\"Dealt cards:\", dealt_cards)\n",
    "print(\"Remaining deck:\", new_deal.cards)\n",
    "print(\"========================================\")\n",
    "\n",
    "# Print the number of cards in the deck\n",
    "print(new_deal)"
   ]
  }
 ],
 "metadata": {
  "kernelspec": {
   "display_name": "Python 3",
   "language": "python",
   "name": "python3"
  },
  "language_info": {
   "codemirror_mode": {
    "name": "ipython",
    "version": 3
   },
   "file_extension": ".py",
   "mimetype": "text/x-python",
   "name": "python",
   "nbconvert_exporter": "python",
   "pygments_lexer": "ipython3",
   "version": "3.9.6"
  },
  "orig_nbformat": 4,
  "vscode": {
   "interpreter": {
    "hash": "31f2aee4e71d21fbe5cf8b01ff0e069b9275f58929596ceb00d14d90e3e16cd6"
   }
  }
 },
 "nbformat": 4,
 "nbformat_minor": 2
}
