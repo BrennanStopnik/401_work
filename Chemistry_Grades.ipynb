{
 "cells": [
  {
   "attachments": {},
   "cell_type": "markdown",
   "metadata": {},
   "source": [
    "<h2>Exercise 1 - HOMEWORK </h2><a id=\"6\"></a>\n",
    "We have captured the following grades for 4 students in a graduate level phD<br>\n",
    "chemistry program.  <br>\n",
    "<code>\n",
    "chemistry_grades = {'Hester': ['88','99','89','90','80','88','93','94','91','80'] ,\n",
    "                    'Walter': ['83','92','83','76','75','85','93','92','90','91'] ,\n",
    "                    'George': ['86','90','86','84','78','84','93','94','81','90'] ,\n",
    "                    'Susan':  ['81','94','80','79','74','94','93','92','94','98'] ,\n",
    "                    'Kathy':  ['78','89','70','99','81','85','93','97','96','92'] }\n",
    "</code>\n",
    "<br>\n",
    "1 - Calculate the mean and standard deviation of each exam?<br>\n",
    "2 - Calculate each students gpa?<br>\n",
    "3 - Which exam had the biggest range?<br>\n",
    "4 - Which exam had the lowest mean?  Add 10 points to the test score of each student<br>\n",
    "on that exam and recalulate the mean and standard deviation<br>"
   ]
  },
  {
   "cell_type": "code",
   "execution_count": 1,
   "metadata": {},
   "outputs": [],
   "source": [
    "chemistry_grades = {'Hester': ['88','99','89','90','80','88','93','94','91','80'] ,\n",
    "                    'Walter': ['83','92','83','76','75','85','93','92','90','91'] ,\n",
    "                    'George': ['86','90','86','84','78','84','93','94','81','90'] ,\n",
    "                    'Susan':  ['81','94','80','79','74','94','93','92','94','98'] ,\n",
    "                    'Kathy':  ['78','89','70','99','81','85','93','97','96','92'] }"
   ]
  },
  {
   "cell_type": "code",
   "execution_count": 2,
   "metadata": {},
   "outputs": [
    {
     "name": "stdout",
     "output_type": "stream",
     "text": [
      "Exam 1: Mean = 83.20, Standard Deviation = 3.96\n",
      "Exam 2: Mean = 92.80, Standard Deviation = 3.96\n",
      "Exam 3: Mean = 81.60, Standard Deviation = 7.30\n",
      "Exam 4: Mean = 85.60, Standard Deviation = 9.18\n",
      "Exam 5: Mean = 77.60, Standard Deviation = 3.05\n",
      "Exam 6: Mean = 87.20, Standard Deviation = 4.09\n",
      "Exam 7: Mean = 93.00, Standard Deviation = 0.00\n",
      "Exam 8: Mean = 93.80, Standard Deviation = 2.05\n",
      "Exam 9: Mean = 90.40, Standard Deviation = 5.77\n",
      "Exam 10: Mean = 90.20, Standard Deviation = 6.50\n"
     ]
    }
   ],
   "source": [
    "import statistics\n",
    "\n",
    "# Question 1: Calculate the mean and standard deviation of each exam?\n",
    "# Convert grades to integers\n",
    "for student, grades in chemistry_grades.items():\n",
    "    chemistry_grades[student] = [int(grade) for grade in grades]\n",
    "\n",
    "# Calculate mean and standard deviation for each exam\n",
    "for i in range(10):\n",
    "    exam_grades = [grades[i] for grades in chemistry_grades.values()]\n",
    "    mean = statistics.mean(exam_grades)\n",
    "    std_dev = statistics.stdev(exam_grades)\n",
    "    print(f\"Exam {i+1}: Mean = {mean:.2f}, Standard Deviation = {std_dev:.2f}\")\n"
   ]
  },
  {
   "cell_type": "code",
   "execution_count": 3,
   "metadata": {},
   "outputs": [
    {
     "name": "stdout",
     "output_type": "stream",
     "text": [
      "Hester's GPA: 3.50\n",
      "Walter's GPA: 3.30\n",
      "George's GPA: 3.30\n",
      "Susan's GPA: 3.40\n",
      "Kathy's GPA: 3.30\n"
     ]
    }
   ],
   "source": [
    "# Question 2: Calculate each students gpa?\n",
    "gpa_scale = {\n",
    "    (90, 100): 4.0,\n",
    "    (80, 89): 3.0,\n",
    "    (70, 79): 2.0,\n",
    "    (0, 69): 1.0\n",
    "}\n",
    "\n",
    "student_gpa = {}\n",
    "for student, grades in chemistry_grades.items():\n",
    "    gpa = sum([next((gpa for (lower, upper), gpa in gpa_scale.items() if lower <= grade <= upper), 0.0) for grade in grades]) / len(grades)\n",
    "    student_gpa[student] = gpa\n",
    "\n",
    "for student, gpa in student_gpa.items():\n",
    "    print(f\"{student}'s GPA: {gpa:.2f}\")"
   ]
  },
  {
   "cell_type": "code",
   "execution_count": 4,
   "metadata": {},
   "outputs": [
    {
     "name": "stdout",
     "output_type": "stream",
     "text": [
      "Exam 4 had the biggest range.\n"
     ]
    }
   ],
   "source": [
    "# Question 3: Which exam had the biggest range?\n",
    "exam_ranges = []\n",
    "\n",
    "for i in range(10):\n",
    "    exam_grades = [grades[i] for grades in chemistry_grades.values()]\n",
    "    exam_range = max(exam_grades) - min(exam_grades)\n",
    "    exam_ranges.append(exam_range)\n",
    "\n",
    "max_range_index = exam_ranges.index(max(exam_ranges))\n",
    "print(f\"Exam {max_range_index + 1} had the biggest range.\")\n"
   ]
  },
  {
   "cell_type": "code",
   "execution_count": 5,
   "metadata": {},
   "outputs": [
    {
     "name": "stdout",
     "output_type": "stream",
     "text": [
      "Exam 5 had the lowest mean.\n",
      "Exam 1: Mean = 83.20, Standard Deviation = 3.96\n",
      "Exam 2: Mean = 92.80, Standard Deviation = 3.96\n",
      "Exam 3: Mean = 81.60, Standard Deviation = 7.30\n",
      "Exam 4: Mean = 85.60, Standard Deviation = 9.18\n",
      "Exam 5: Mean = 87.60, Standard Deviation = 3.05\n",
      "Exam 6: Mean = 87.20, Standard Deviation = 4.09\n",
      "Exam 7: Mean = 93.00, Standard Deviation = 0.00\n",
      "Exam 8: Mean = 93.80, Standard Deviation = 2.05\n",
      "Exam 9: Mean = 90.40, Standard Deviation = 5.77\n",
      "Exam 10: Mean = 90.20, Standard Deviation = 6.50\n"
     ]
    }
   ],
   "source": [
    "# Question 4: Which exam had the lowest mean? Add 10 points to the test score of each studenton that exam and recalulate the mean and standard deviation\n",
    "exam_means = []\n",
    "\n",
    "# Calculate means of each exam\n",
    "for i in range(10):\n",
    "    exam_grades = [grades[i] for grades in chemistry_grades.values()]\n",
    "    mean = statistics.mean(exam_grades)\n",
    "    exam_means.append(mean)\n",
    "\n",
    "# Find the exam with the lowest mean\n",
    "lowest_mean_index = exam_means.index(min(exam_means))\n",
    "print(f\"Exam {lowest_mean_index + 1} had the lowest mean.\")\n",
    "\n",
    "# Add 10 points to the scores of that exam for each student\n",
    "for student, grades in chemistry_grades.items():\n",
    "    chemistry_grades[student][lowest_mean_index] += 10\n",
    "\n",
    "# Recalculate mean and standard deviation for each exam\n",
    "for i in range(10):\n",
    "    exam_grades = [grades[i] for grades in chemistry_grades.values()]\n",
    "    mean = statistics.mean(exam_grades)\n",
    "    std_dev = statistics.stdev(exam_grades)\n",
    "    print(f\"Exam {i+1}: Mean = {mean:.2f}, Standard Deviation = {std_dev:.2f}\")"
   ]
  }
 ],
 "metadata": {
  "kernelspec": {
   "display_name": "Python 3",
   "language": "python",
   "name": "python3"
  },
  "language_info": {
   "codemirror_mode": {
    "name": "ipython",
    "version": 3
   },
   "file_extension": ".py",
   "mimetype": "text/x-python",
   "name": "python",
   "nbconvert_exporter": "python",
   "pygments_lexer": "ipython3",
   "version": "3.9.6"
  },
  "orig_nbformat": 4,
  "vscode": {
   "interpreter": {
    "hash": "31f2aee4e71d21fbe5cf8b01ff0e069b9275f58929596ceb00d14d90e3e16cd6"
   }
  }
 },
 "nbformat": 4,
 "nbformat_minor": 2
}
